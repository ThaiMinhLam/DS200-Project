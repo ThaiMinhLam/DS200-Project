{
 "cells": [
  {
   "cell_type": "code",
   "execution_count": 1,
   "id": "5016d37e",
   "metadata": {},
   "outputs": [],
   "source": [
    "file_paths = [\n",
    "    r'F:\\Studies\\Third_year\\Big_data\\Final_Code\\Data\\ABSA_Dataset\\final_attractions_ABSA_test.csv',\n",
    "    r'F:\\Studies\\Third_year\\Big_data\\Final_Code\\Data\\ABSA_Dataset\\final_campings_ABSA_test.csv',\n",
    "    r'F:\\Studies\\Third_year\\Big_data\\Final_Code\\Data\\ABSA_Dataset\\final_eateries_ABSA_test.csv',\n",
    "    r'F:\\Studies\\Third_year\\Big_data\\Final_Code\\Data\\ABSA_Dataset\\final_hotels_ABSA_test.csv',\n",
    "    r'F:\\Studies\\Third_year\\Big_data\\Final_Code\\Data\\ABSA_Dataset\\final_rents_ABSA_test.csv',\n",
    "    r'F:\\Studies\\Third_year\\Big_data\\Final_Code\\Data\\ABSA_Dataset\\final_restaurants_ABSA_test.csv',\n",
    "    r'F:\\Studies\\Third_year\\Big_data\\Final_Code\\Data\\ABSA_Dataset\\final_tours_ABSA_test.csv',\n",
    "    r'F:\\Studies\\Third_year\\Big_data\\Final_Code\\Data\\ABSA_Dataset\\final_drinkplaces_ABSA_test.csv'\n",
    "    \n",
    "]"
   ]
  },
  {
   "cell_type": "code",
   "execution_count": 2,
   "id": "4baf5a29",
   "metadata": {},
   "outputs": [],
   "source": [
    "import pandas as pd"
   ]
  },
  {
   "cell_type": "code",
   "execution_count": 3,
   "id": "b1450458",
   "metadata": {},
   "outputs": [
    {
     "name": "stdout",
     "output_type": "stream",
     "text": [
      "Đã kết hợp và xáo trộn 87530 records từ 8 file CSV.\n"
     ]
    }
   ],
   "source": [
    "df_list = [pd.read_csv(file, index_col=0) for file in file_paths]\n",
    "\n",
    "df_combined = pd.concat(df_list, ignore_index=True)\n",
    "\n",
    "# Bước 2: Xáo trộn (shuffle) dữ liệu\n",
    "df_shuffled = df_combined.sample(frac=1).reset_index(drop=True)\n",
    "\n",
    "# Bước 3: Lưu lại file CSV đã kết hợp và xáo trộn\n",
    "df_shuffled.to_csv(r'F:\\Studies\\Third_year\\Big_data\\Final_Code\\Data\\ABSA_Dataset\\ABSA_test.csv', index=False)\n",
    "\n",
    "print(f\"Đã kết hợp và xáo trộn {len(df_shuffled)} records từ {len(file_paths)} file CSV.\")"
   ]
  },
  {
   "cell_type": "code",
   "execution_count": null,
   "id": "841fe19c",
   "metadata": {},
   "outputs": [],
   "source": []
  },
  {
   "cell_type": "code",
   "execution_count": null,
   "id": "0e49721f",
   "metadata": {},
   "outputs": [],
   "source": []
  }
 ],
 "metadata": {
  "kernelspec": {
   "display_name": "prj__env",
   "language": "python",
   "name": "python3"
  },
  "language_info": {
   "codemirror_mode": {
    "name": "ipython",
    "version": 3
   },
   "file_extension": ".py",
   "mimetype": "text/x-python",
   "name": "python",
   "nbconvert_exporter": "python",
   "pygments_lexer": "ipython3",
   "version": "3.11.11"
  }
 },
 "nbformat": 4,
 "nbformat_minor": 5
}
