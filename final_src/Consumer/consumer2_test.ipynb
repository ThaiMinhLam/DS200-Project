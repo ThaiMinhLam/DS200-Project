{
 "cells": [
  {
   "cell_type": "code",
   "execution_count": 4,
   "id": "e9845de6",
   "metadata": {},
   "outputs": [],
   "source": [
    "from kafka import KafkaConsumer, KafkaProducer\n",
    "import json\n",
    "import numpy as np\n",
    "import pandas as pd\n",
    "import os\n",
    "import pickle\n",
    "\n",
    "from pathlib import Path\n",
    "import sys\n",
    "sys.path.append(r'F:\\Studies\\Third_year\\Big_data\\Final_Code')\n",
    "from final_src.config import Config"
   ]
  },
  {
   "cell_type": "code",
   "execution_count": 2,
   "id": "8a918db7",
   "metadata": {},
   "outputs": [],
   "source": [
    "config = Config()"
   ]
  },
  {
   "cell_type": "code",
   "execution_count": null,
   "id": "30e95291",
   "metadata": {},
   "outputs": [
    {
     "name": "stdout",
     "output_type": "stream",
     "text": [
      "{'text': 'Ở bánh căn 41 yết kiêu, một điều tôi quan sát được là ngon. giá hợp lí.'}\n",
      "{'text': 'Nếu bạn hỏi về god valley, mình sẽ nói nơi này thực sự tuyệt vời! nhân viên ở đây rất thân thiện và được tổ chức tốt!.'}\n",
      "{'text': 'một số bốn mệt mỏi được coi là số hai.. Đây là điều tôi mong đợi ở khách sạn vietsovpetro đà lạt.'}\n",
      "{'text': 'Nếu bạn đang tìm một nơi ở, tara house là nơi tôi đã trải nghiệm và thấy phòng đẹp, sạch sẽ, tiện nghi, hầu như free dịch vụ luôn. anh chị chủ nhà dễ thương lắm, giờ giấc tự do luôn. chịu khó tra maps vào nhé! thanks anh chị, tụi em 2 đứa nghỉ 1 đêm hôm sau đi nha trang đấy!.'}\n",
      "{'text': 'Trải nghiệm của tôi tại roy villa - coffee cho thấy không giang đẹp.'}\n",
      "{'text': 'Một trải nghiệm đáng giá tại tiệm nướng mùa thu: mình tìm đến quán vào 1 hôm mưa thứ 6. lạnh lạnh vừa nướng vừa ăn vừa chill view đặc trưng thành phố đà lạt. món ăn vị vừa khẩu vị của mình lại còn rất có tâm trong khâu trình bày. mãn nhãn với vị và mĩ. hẹn quán vào lần ghé đà lạt lần sau nhé!.'}\n",
      "{'text': 'blue dream bread đã cho mình trải nghiệm nơi này có loại bánh tuyệt vời. chúng cũng khá ngon. tôi muốn giới thiệu amd nhung đỏ để uống trà là ổn. họ có nhiều lựa chọn về trà, bao gồm những gì bạn có thể tìm thấy trong các quán trà cao cấp. nơi đây có không gian thoáng đãng và gần gũi với thiên nhiên giống như nhiều nơi ở đà lạt. chắc chắn là một nơi để ở. rất khuyên bạn nên ghé thăm vào ban ngày để tận hưởng hầu hết vẻ đẹp của nó.'}\n",
      "{'text': 'Tới phở vy, mình nhận thấy đồ ăn ngon, dịch vụ tốt, 5.0 sao.'}\n",
      "{'text': 'Kỳ nghỉ ở cô sinh - gà nướng cơm lam khiến mình cơm lam thơm dẻo. ga nướng lá tiêu rừng lạ ở đà lạt chưa có. sẽ ủng hộ tiếp'}\n",
      "{'text': 'Hôm ghé lotteria go đà lạt, mình thấy phục vụ bất cần , nói chung không nên tới ..'}\n",
      "{'text': 'Ở bánh căn 41 yết kiêu, một điều tôi quan sát được là ngon. giá hợp lí.'}\n",
      "{'text': 'Nếu bạn hỏi về god valley, mình sẽ nói nơi này thực sự tuyệt vời! nhân viên ở đây rất thân thiện và được tổ chức tốt!.'}\n",
      "{'text': 'một số bốn mệt mỏi được coi là số hai.. Đây là điều tôi mong đợi ở khách sạn vietsovpetro đà lạt.'}\n",
      "{'text': 'Nếu bạn đang tìm một nơi ở, tara house là nơi tôi đã trải nghiệm và thấy phòng đẹp, sạch sẽ, tiện nghi, hầu như free dịch vụ luôn. anh chị chủ nhà dễ thương lắm, giờ giấc tự do luôn. chịu khó tra maps vào nhé! thanks anh chị, tụi em 2 đứa nghỉ 1 đêm hôm sau đi nha trang đấy!.'}\n",
      "{'text': 'Trải nghiệm của tôi tại roy villa - coffee cho thấy không giang đẹp.'}\n",
      "{'text': 'Một trải nghiệm đáng giá tại tiệm nướng mùa thu: mình tìm đến quán vào 1 hôm mưa thứ 6. lạnh lạnh vừa nướng vừa ăn vừa chill view đặc trưng thành phố đà lạt. món ăn vị vừa khẩu vị của mình lại còn rất có tâm trong khâu trình bày. mãn nhãn với vị và mĩ. hẹn quán vào lần ghé đà lạt lần sau nhé!.'}\n",
      "{'text': 'blue dream bread đã cho mình trải nghiệm nơi này có loại bánh tuyệt vời. chúng cũng khá ngon. tôi muốn giới thiệu amd nhung đỏ để uống trà là ổn. họ có nhiều lựa chọn về trà, bao gồm những gì bạn có thể tìm thấy trong các quán trà cao cấp. nơi đây có không gian thoáng đãng và gần gũi với thiên nhiên giống như nhiều nơi ở đà lạt. chắc chắn là một nơi để ở. rất khuyên bạn nên ghé thăm vào ban ngày để tận hưởng hầu hết vẻ đẹp của nó.'}\n",
      "{'text': 'Tới phở vy, mình nhận thấy đồ ăn ngon, dịch vụ tốt, 5.0 sao.'}\n",
      "{'text': 'Kỳ nghỉ ở cô sinh - gà nướng cơm lam khiến mình cơm lam thơm dẻo. ga nướng lá tiêu rừng lạ ở đà lạt chưa có. sẽ ủng hộ tiếp'}\n",
      "{'text': 'Hôm ghé lotteria go đà lạt, mình thấy phục vụ bất cần , nói chung không nên tới ..'}\n"
     ]
    }
   ],
   "source": [
    "from kafka import KafkaConsumer\n",
    "import json\n",
    "\n",
    "# consumer = KafkaConsumer(\n",
    "#     'comments',\n",
    "#     bootstrap_servers='localhost:9092',\n",
    "#     auto_offset_reset='earliest',\n",
    "#     group_id='fb_posts_viewer',\n",
    "#     value_deserializer=lambda x: json.loads(x.decode('utf-8'))\n",
    "# )\n",
    "\n",
    "consumer = KafkaConsumer(\n",
    "        config.KAFKA_TOPIC_COMMENTS,\n",
    "        bootstrap_servers=config.KAFKA_SERVERS,\n",
    "        value_deserializer=lambda m: json.loads(m.decode('utf-8')),\n",
    "        group_id='comments_viewer',\n",
    "        auto_offset_reset='earliest',\n",
    "    )\n",
    "\n",
    "for message in consumer:\n",
    "    print(message.value)"
   ]
  },
  {
   "cell_type": "code",
   "execution_count": null,
   "id": "29f0abfb",
   "metadata": {},
   "outputs": [],
   "source": []
  }
 ],
 "metadata": {
  "kernelspec": {
   "display_name": "prj__env",
   "language": "python",
   "name": "python3"
  },
  "language_info": {
   "codemirror_mode": {
    "name": "ipython",
    "version": 3
   },
   "file_extension": ".py",
   "mimetype": "text/x-python",
   "name": "python",
   "nbconvert_exporter": "python",
   "pygments_lexer": "ipython3",
   "version": "3.11.11"
  }
 },
 "nbformat": 4,
 "nbformat_minor": 5
}
