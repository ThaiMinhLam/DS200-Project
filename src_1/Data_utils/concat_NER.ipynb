{
 "cells": [
  {
   "cell_type": "markdown",
   "id": "583364b0",
   "metadata": {},
   "source": [
    "# CONCAT"
   ]
  },
  {
   "cell_type": "code",
   "execution_count": 7,
   "id": "5adccb73",
   "metadata": {},
   "outputs": [],
   "source": [
    "import glob\n",
    "import random"
   ]
  },
  {
   "cell_type": "code",
   "execution_count": 25,
   "id": "2074ccc1",
   "metadata": {},
   "outputs": [],
   "source": [
    "# file_paths = [\n",
    "#     r'F:\\Studies\\Third_year\\Big_data\\Final_Code\\Data\\NER_Dataset\\final_attractions_BIO_train.conll',\n",
    "#     r'F:\\Studies\\Third_year\\Big_data\\Final_Code\\Data\\NER_Dataset\\final_campings_BIO_train.conll',\n",
    "#     r'F:\\Studies\\Third_year\\Big_data\\Final_Code\\Data\\NER_Dataset\\final_drinkplaces_BIO_train.conll',\n",
    "#     r'F:\\Studies\\Third_year\\Big_data\\Final_Code\\Data\\NER_Dataset\\final_eateries_BIO_train.conll',\n",
    "#     r'F:\\Studies\\Third_year\\Big_data\\Final_Code\\Data\\NER_Dataset\\final_hotels_BIO_train.conll',\n",
    "#     r'F:\\Studies\\Third_year\\Big_data\\Final_Code\\Data\\NER_Dataset\\final_rents_BIO_train.conll',\n",
    "#     r'F:\\Studies\\Third_year\\Big_data\\Final_Code\\Data\\NER_Dataset\\final_restaurants_BIO_train.conll',\n",
    "#     r'F:\\Studies\\Third_year\\Big_data\\Final_Code\\Data\\NER_Dataset\\final_tours_BIO_train.conll'\n",
    "# ]\n",
    "\n",
    "file_paths1 = [\n",
    "    r'F:\\Studies\\Third_year\\Big_data\\Final_Code\\Data\\NER_Dataset\\final_attractions_BIO_test.conll',\n",
    "    r'F:\\Studies\\Third_year\\Big_data\\Final_Code\\Data\\NER_Dataset\\final_drinkplaces_BIO_test.conll',\n",
    "    r'F:\\Studies\\Third_year\\Big_data\\Final_Code\\Data\\NER_Dataset\\final_eateries_BIO_test.conll',\n",
    "    r'F:\\Studies\\Third_year\\Big_data\\Final_Code\\Data\\NER_Dataset\\final_hotels_BIO_test.conll',\n",
    "    r'F:\\Studies\\Third_year\\Big_data\\Final_Code\\Data\\NER_Dataset\\final_restaurants_BIO_test.conll',\n",
    "]\n",
    "\n",
    "file_paths2 = [\n",
    "    r'F:\\Studies\\Third_year\\Big_data\\Final_Code\\Data\\NER_Dataset\\final_rents_BIO_train.conll',\n",
    "    r'F:\\Studies\\Third_year\\Big_data\\Final_Code\\Data\\NER_Dataset\\final_tours_BIO_train.conll',\n",
    "    r'F:\\Studies\\Third_year\\Big_data\\Final_Code\\Data\\NER_Dataset\\final_campings_BIO_train.conll'\n",
    "]"
   ]
  },
  {
   "cell_type": "code",
   "execution_count": null,
   "id": "f75b127c",
   "metadata": {},
   "outputs": [
    {
     "name": "stdout",
     "output_type": "stream",
     "text": [
      "Tổng số câu: 16584\n"
     ]
    },
    {
     "ename": "",
     "evalue": "",
     "output_type": "error",
     "traceback": [
      "\u001b[1;31mThe Kernel crashed while executing code in the current cell or a previous cell. \n",
      "\u001b[1;31mPlease review the code in the cell(s) to identify a possible cause of the failure. \n",
      "\u001b[1;31mClick <a href='https://aka.ms/vscodeJupyterKernelCrash'>here</a> for more info. \n",
      "\u001b[1;31mView Jupyter <a href='command:jupyter.viewOutput'>log</a> for further details."
     ]
    }
   ],
   "source": [
    "all_sentences = []\n",
    "\n",
    "for file_path in file_paths1:\n",
    "    with open(file_path, 'r', encoding='utf-8') as f:\n",
    "        content = f.read()\n",
    "        sentences = content.strip().split('\\n\\n')  # tách theo câu\n",
    "        all_sentences.extend(sentences)\n",
    "\n",
    "random.shuffle(all_sentences)\n",
    "sample_size = min(10000, len(all_sentences))\n",
    "selected_sentences = all_sentences[:sample_size]\n",
    "\n",
    "for file_path in file_paths2:\n",
    "    with open(file_path, 'r', encoding='utf-8') as f:\n",
    "        content = f.read()\n",
    "        sentences = content.strip().split('\\n\\n')  # tách theo câu\n",
    "        selected_sentences.extend(sentences)\n",
    "\n",
    "with open(r'F:\\Studies\\Third_year\\Big_data\\Final_Code\\Data\\NER_Dataset\\final_BIO_test.conll', 'w', encoding='utf-8') as f:\n",
    "    # f.write('\\n\\n'.join(all_sentences))\n",
    "    f.write('\\n\\n'.join(selected_sentences))\n",
    "    f.write('\\n')  \n",
    "\n",
    "print(f\"Tổng số câu: {len(selected_sentences)}\")"
   ]
  },
  {
   "cell_type": "markdown",
   "id": "20975646",
   "metadata": {},
   "source": [
    "# REDUCE"
   ]
  },
  {
   "cell_type": "code",
   "execution_count": 10,
   "id": "b202449a",
   "metadata": {},
   "outputs": [],
   "source": [
    "def reduce_conll_sentences(file_path):\n",
    "    sentences = []\n",
    "    current_sentence = []\n",
    "\n",
    "    with open(file_path, 'r', encoding='utf-8') as f:\n",
    "        for line in f:\n",
    "            line = line.strip()\n",
    "            if not line:  # dòng trống = kết thúc 1 câu\n",
    "                if current_sentence:\n",
    "                    sentences.append('\\n'.join(current_sentence))\n",
    "                    current_sentence = []\n",
    "            else:\n",
    "                current_sentence.append(line)\n",
    "\n",
    "        # Đừng quên lưu câu cuối cùng nếu file không kết thúc bằng dòng trống\n",
    "        if current_sentence:\n",
    "            sentences.append('\\n'.join(current_sentence))\n",
    "\n",
    "    return sentences\n",
    "\n",
    "def save_conll_sentences(sentences, output_path):\n",
    "    with open(output_path, 'w', encoding='utf-8') as f:\n",
    "        for sentence in sentences:\n",
    "            f.write(sentence + '\\n\\n')  # mỗi câu cách nhau 1 dòng trống"
   ]
  },
  {
   "cell_type": "code",
   "execution_count": null,
   "id": "63f770cf",
   "metadata": {},
   "outputs": [
    {
     "name": "stdout",
     "output_type": "stream",
     "text": [
      "Tổng số mẫu: 20000\n",
      "Đã lưu 10000 mẫu vào F:\\Studies\\Third_year\\Big_data\\Final_Code\\Data\\NER_Dataset\\final_restaurants_BIO_train_10k.conll\n"
     ]
    }
   ],
   "source": [
    "# Đọc toàn bộ mẫu từ file\n",
    "file_path = r'F:\\Studies\\Third_year\\Big_data\\Final_Code\\Data\\NER_Dataset\\final_restaurants_BIO_train.conll'\n",
    "sentences = reduce_conll_sentences(file_path)\n",
    "\n",
    "print(f\"Tổng số mẫu: {len(sentences)}\")\n",
    "\n",
    "sample_size = min(10000, len(sentences))\n",
    "sampled_sentences = random.sample(sentences, sample_size)\n",
    "\n",
    "# Ghi ra file mới\n",
    "output_path = r'F:\\Studies\\Third_year\\Big_data\\Final_Code\\Data\\NER_Dataset\\final_restaurants_BIO_train_10k.conll'\n",
    "save_conll_sentences(sampled_sentences, output_path)\n",
    "\n",
    "print(f\"Đã lưu {sample_size} mẫu vào {output_path}\")\n"
   ]
  },
  {
   "cell_type": "code",
   "execution_count": null,
   "id": "1c1bf37a",
   "metadata": {},
   "outputs": [],
   "source": []
  }
 ],
 "metadata": {
  "kernelspec": {
   "display_name": "prj__env",
   "language": "python",
   "name": "python3"
  },
  "language_info": {
   "codemirror_mode": {
    "name": "ipython",
    "version": 3
   },
   "file_extension": ".py",
   "mimetype": "text/x-python",
   "name": "python",
   "nbconvert_exporter": "python",
   "pygments_lexer": "ipython3",
   "version": "3.11.11"
  }
 },
 "nbformat": 4,
 "nbformat_minor": 5
}
