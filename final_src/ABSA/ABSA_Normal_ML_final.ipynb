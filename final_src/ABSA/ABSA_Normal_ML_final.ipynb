{
  "cells": [
    {
      "attachments": {},
      "cell_type": "markdown",
      "metadata": {
        "cell_id": "00001-73dc905a-f8e8-4f5a-b542-50a626b67551",
        "deepnote_cell_type": "markdown",
        "id": "NZ2MidPrPrae",
        "tags": []
      },
      "source": [
        "# Read data"
      ]
    },
    {
      "cell_type": "code",
      "execution_count": 101,
      "metadata": {
        "colab": {
          "base_uri": "https://localhost:8080/"
        },
        "id": "ERItqiDmmm5m",
        "outputId": "67329cf7-671e-45e9-b335-502704b4eac3"
      },
      "outputs": [],
      "source": [
        "# !pip install -Uq emoji \\\n",
        "#                  optuna \\\n",
        "#                  flashtext \\\n",
        "#                  underthesea \\\n",
        "#                  scikit-learn"
      ]
    },
    {
      "cell_type": "code",
      "execution_count": 60,
      "metadata": {},
      "outputs": [],
      "source": [
        "import pandas as pd\n",
        "import numpy as np\n",
        "import pickle\n",
        "import yaml"
      ]
    },
    {
      "attachments": {},
      "cell_type": "markdown",
      "metadata": {
        "id": "KM0ohCtvRaHZ"
      },
      "source": [
        "## mo2ml - Multioutput to multilabel"
      ]
    },
    {
      "cell_type": "code",
      "execution_count": 61,
      "metadata": {
        "id": "iZif1GwORnKq"
      },
      "outputs": [],
      "source": [
        "# aspects = ['DRINK#QUALITY',\n",
        "#  'DRINK#VARIETY',\n",
        "#  'ENVIRONMENT#CLEANLINESS',\n",
        "#  'ENVIRONMENT#AMBIENCE',\n",
        "#  'FOOD#QUALITY',\n",
        "#  'LOCATION',\n",
        "#  'PRICE',\n",
        "#  'SERVICE#ORDER',\n",
        "#  'SERVICE#STAFF']\n",
        "\n",
        "# aspects = ['HOTEL#LOCATION',\n",
        "#  'HOTEL#QUALITY',\n",
        "#  'HOTEL#FACILITIES',\n",
        "#  'HOTEL#STYLE',\n",
        "#  'WIFI',\n",
        "#  'PRICE',\n",
        "#  'ROOM#QUALITY',\n",
        "#  'ROOM#STYLE',\n",
        "#  'ROOM#FACILITIES',\n",
        "#  'ROOM#SOUND',\n",
        "#  'ROOM#VIEW',\n",
        "#  'ROOM#ATMOSPHERE',\n",
        "#  'ROOM#CLEANLINESS',\n",
        "#  'SERVICE#STAFF',\n",
        "#  'SERVICE#CHECKIN']\n",
        "\n",
        "# aspects = ['LOCATION',\n",
        "#  'PRICE',\n",
        "#  'FOOD#QUALITY',\n",
        "#  'FOOD#VARIETY',\n",
        "#  'FOOD#PRESENTATION',\n",
        "#  'FOOD#FRESHNESS',\n",
        "#  'DRINK#QUALITY',\n",
        "#  'ENVIRONMENT#CLEANLINESS',\n",
        "#  'ENVIRONMENT#AMBIENCE',\n",
        "#  'SERVICE#STAFF',\n",
        "#  'SERVICE#ORDER']\n",
        "\n",
        "# aspects = ['LOCATION',\n",
        "#  'PRICE',\n",
        "#  'FOOD#QUALITY',\n",
        "#  'FOOD#VARIETY',\n",
        "#  'DRINK#QUALITY',\n",
        "#  'DRINK#VARIETY',\n",
        "#  'ENVIRONMENT#CLEANLINESS',\n",
        "#  'ENVIRONMENT#AMBIENCE',\n",
        "#  'SERVICE#STAFF',\n",
        "#  'SERVICE#ORDER']\n",
        "\n",
        "# aspects = ['LOCATION',\n",
        "#  'PRICE',\n",
        "#  'SERVICE#STAFF',\n",
        "#  'ENVIRONMENT#SCENERY',\n",
        "#  'ENVIRONMENT#ATMOSPHERE',\n",
        "#  'EXPERIENCE#ACTIVITY']\n",
        "\n",
        "# aspects = ['LOCATION', 'PRICE', 'SERVICE#RENTING', 'SERVICE#STAFF', 'VEHICLE#QUALITY']\n",
        "\n",
        "# aspects = ['LOCATION',\n",
        "#  'PRICE',\n",
        "#  'SERVICE#STAFF',\n",
        "#  'EXPERIENCE#ACTIVITY',\n",
        "#  'ENVIRONMENT#SCENERY',\n",
        "#  'ENVIRONMENT#ATMOSPHERE']\n",
        "\n",
        "aspects = [\n",
        "        \"LOCATION\", \"PRICE\", \"SERVICE#STAFF\",\n",
        "        \"ENVIRONMENT#SCENERY\", \"ENVIRONMENT#WEATHER\", \"ENVIRONMENT#ATMOSPHERE\"\n",
        "    ]\n",
        "\n",
        "sentiments = ['-', 'o', '+']\n",
        "\n",
        "def mo2ml(y):\n",
        "    \"\"\"Convert multi-output to multi-label data\n",
        "    \"\"\"\n",
        "    newcols = [f'{a} {s}' for a in aspects for s in sentiments]\n",
        "\n",
        "    nrows, ncols = len(y), len(newcols)\n",
        "    ml = pd.DataFrame(np.zeros((nrows, ncols), dtype='bool'),\n",
        "                      columns=newcols)\n",
        "\n",
        "    for i, a in enumerate(aspects):\n",
        "        for j in range(1, 4):\n",
        "            indices = y[a] == j\n",
        "            ml.iloc[indices, i * 3 + j - 1] = True\n",
        "\n",
        "    return ml\n",
        "\n",
        "sentiments = ['-', 'o', '+']\n",
        "\n",
        "def mo2ml(y):\n",
        "    \"\"\"Convert multi-output to multi-label data\n",
        "    \"\"\"\n",
        "    newcols = [f'{a} {s}' for a in aspects for s in sentiments]\n",
        "\n",
        "    nrows, ncols = len(y), len(newcols)\n",
        "    ml = pd.DataFrame(np.zeros((nrows, ncols), dtype='bool'),\n",
        "                      columns=newcols)\n",
        "\n",
        "    for i, a in enumerate(aspects):\n",
        "        for j in range(1, 4):\n",
        "            indices = y[a] == j\n",
        "            ml.iloc[indices, i * 3 + j - 1] = True\n",
        "\n",
        "    return ml"
      ]
    },
    {
      "attachments": {},
      "cell_type": "markdown",
      "metadata": {
        "id": "jhbl0ne_6uET"
      },
      "source": [
        "## mo2df - Multioutput to DataFrame"
      ]
    },
    {
      "cell_type": "code",
      "execution_count": 62,
      "metadata": {
        "id": "1zKR4D6_7cOd"
      },
      "outputs": [],
      "source": [
        "from utils import *\n",
        "\n",
        "def mo2df(y):\n",
        "    if isinstance(y, pd.DataFrame):\n",
        "        return y\n",
        "    return pd.DataFrame(y, columns=aspects)\n",
        "\n",
        "def init_data(df):\n",
        "    X = df.pop('review')\n",
        "    y = df.replace({np.nan: 0,\n",
        "                    'negative': 1,\n",
        "                    'neutral': 2,\n",
        "                    'positive': 3}).astype(np.uint8)\n",
        "\n",
        "    print('X.shape:', X.shape, 'y.shape:', y.shape)\n",
        "    return X, y"
      ]
    },
    {
      "cell_type": "code",
      "execution_count": 63,
      "metadata": {
        "colab": {
          "base_uri": "https://localhost:8080/"
        },
        "id": "LQy6J2nk7lqo",
        "outputId": "d9c70d7a-b269-4924-8ab1-268086e88376"
      },
      "outputs": [
        {
          "name": "stdout",
          "output_type": "stream",
          "text": [
            "### Loading config {'aspect': ['LOCATION', 'PRICE', 'SERVICE#STAFF', 'ENVIRONMENT#SCENERY', 'ENVIRONMENT#WEATHER', 'ENVIRONMENT#ATMOSPHERE'], 'labels': ['negative', 'neutral', 'positive'], 'pretrained': 'vinai/phobert-base-v2', 'use_lstm': True, 'num_layers_lstm': 2, 'word_embedding_dim': 512, 'num_embeddings': 256, 'batch_size': 256, 'num_workers': 2, 'num_epochs': 30, 'train_file': 'F:\\\\Studies\\\\Third_year\\\\Big_data\\\\Final_Code\\\\src_1\\\\ML\\\\ABSA\\\\data\\\\train_campings.txt', 'test_file': 'F:\\\\Studies\\\\Third_year\\\\Big_data\\\\Final_Code\\\\src_1\\\\ML\\\\ABSA\\\\data\\\\test_campings.txt', 'freeze_embedder': True, 'acd_warmup': 30, 'acd_only': False, 'acsc_only': False, 'lr': 5e-05, 'weight_decay': 1e-05, 'acd_loss_weight': 1.0, 'acsc_loss_weight': 1.0, 'saved_model': 'log/model_absa.bin', 'model_save_path': 'log/model_absa.bin', 'device': device(type='cpu')}\n"
          ]
        }
      ],
      "source": [
        "with open(r'F:\\Studies\\Third_year\\Big_data\\Final_Code\\src_1\\ML\\ABSA\\config\\campings_config.yaml') as f:\n",
        "  # cfg = yaml.load(f, Loader=yaml.SafeLoader)\n",
        "  cfg = yaml.safe_load(f)\n",
        "  cfg['device']= torch.device(\"cpu\")\n",
        "  print(f\"### Loading config {cfg}\")\n"
      ]
    },
    {
      "cell_type": "code",
      "execution_count": 64,
      "metadata": {},
      "outputs": [
        {
          "data": {
            "text/plain": [
              "['LOCATION',\n",
              " 'PRICE',\n",
              " 'SERVICE#STAFF',\n",
              " 'ENVIRONMENT#SCENERY',\n",
              " 'ENVIRONMENT#WEATHER',\n",
              " 'ENVIRONMENT#ATMOSPHERE']"
            ]
          },
          "execution_count": 64,
          "metadata": {},
          "output_type": "execute_result"
        }
      ],
      "source": [
        "cfg['aspect']"
      ]
    },
    {
      "cell_type": "code",
      "execution_count": 65,
      "metadata": {},
      "outputs": [],
      "source": [
        "# def label_encoder(label, aspects):\n",
        "#     y = [np.nan] * len(aspects)\n",
        "#     ap_stm = re.findall('{(.+?), (\\w+)}', label)\n",
        "\n",
        "#     # for aspect, sentiment in ap_stm:\n",
        "#     #     print(aspect)\n",
        "#     #     idx = aspects.index(aspect)\n",
        "#     #     y[idx] = sentiment\n",
        "#     for aspect, sentiment in ap_stm:\n",
        "#         print(aspect)\n",
        "#         if aspect in aspects:\n",
        "#             idx = aspects.index(aspect)\n",
        "#             y[idx] = sentiment\n",
        "#         else:\n",
        "#             print(sentiment)\n",
        "#             print(f\"⚠️ Aspect '{aspect}' không tồn tại trong {aspects}ist, bỏ qua.\")\n",
        "\n",
        "\n",
        "#     return y"
      ]
    },
    {
      "cell_type": "code",
      "execution_count": 66,
      "metadata": {},
      "outputs": [],
      "source": [
        "# def txt2df(filepath, aspect):\n",
        "#     with open(filepath, 'r', encoding='utf-8') as txt:\n",
        "#         data = txt.read().split('\\n')\n",
        "#     df = pd.DataFrame()\n",
        "#     # for review in data[1::4]:\n",
        "#     #     print(review)\n",
        "#     df['review'] = [review for review in data[1::4]]\n",
        "#     # for label in data[2::4]:\n",
        "#     #     print(label)\n",
        "#     df[aspect] = [label_encoder(label, aspect) for label in data[2::4]]\n",
        "\n",
        "#     return df"
      ]
    },
    {
      "cell_type": "code",
      "execution_count": 67,
      "metadata": {
        "colab": {
          "base_uri": "https://localhost:8080/"
        },
        "id": "LgPJvtmZ7gbd",
        "outputId": "e921fd7e-27f5-4130-9f94-ab60ad1b236c"
      },
      "outputs": [
        {
          "name": "stdout",
          "output_type": "stream",
          "text": [
            "X.shape: (1089,) y.shape: (1089, 6)\n",
            "X.shape: (264,) y.shape: (264, 6)\n"
          ]
        },
        {
          "name": "stderr",
          "output_type": "stream",
          "text": [
            "C:\\Users\\ADMIN\\AppData\\Local\\Temp\\ipykernel_12944\\1366444740.py:10: FutureWarning:\n",
            "\n",
            "Downcasting behavior in `replace` is deprecated and will be removed in a future version. To retain the old behavior, explicitly call `result.infer_objects(copy=False)`. To opt-in to the future behavior, set `pd.set_option('future.no_silent_downcasting', True)`\n",
            "\n",
            "C:\\Users\\ADMIN\\AppData\\Local\\Temp\\ipykernel_12944\\1366444740.py:10: FutureWarning:\n",
            "\n",
            "Downcasting behavior in `replace` is deprecated and will be removed in a future version. To retain the old behavior, explicitly call `result.infer_objects(copy=False)`. To opt-in to the future behavior, set `pd.set_option('future.no_silent_downcasting', True)`\n",
            "\n"
          ]
        }
      ],
      "source": [
        "train = txt2df(cfg['train_file'], cfg['aspect'])\n",
        "# dev = txt2df(cfg['val_file'], cfg['aspect'])\n",
        "test = txt2df(cfg['test_file'], cfg['aspect'])\n",
        "\n",
        "Xtrain, ytrain = init_data(train)\n",
        "# Xdev,   ydev   = init_data(dev)\n",
        "Xtest,  ytest  = init_data(test)"
      ]
    },
    {
      "cell_type": "code",
      "execution_count": 68,
      "metadata": {
        "id": "dJryQqeGleTl"
      },
      "outputs": [],
      "source": [
        "# y target for evaluation\n",
        "ytrain_ml = mo2ml(ytrain)\n",
        "# ydev_ml   = mo2ml(ydev)\n",
        "ytest_ml  = mo2ml(ytest)"
      ]
    },
    {
      "attachments": {},
      "cell_type": "markdown",
      "metadata": {
        "id": "-Xt3zWvUwnFQ"
      },
      "source": [
        "#Preprocess data"
      ]
    },
    {
      "cell_type": "code",
      "execution_count": 69,
      "metadata": {
        "id": "5xa5t4csleTm"
      },
      "outputs": [],
      "source": [
        "from preprocess import preprocess_fn\n",
        "\n",
        "xtrain = Xtrain.apply(preprocess_fn)\n",
        "# xdev   = Xdev.apply(preprocess_fn)\n",
        "xtest  = Xtest.apply(preprocess_fn)"
      ]
    },
    {
      "attachments": {},
      "cell_type": "markdown",
      "metadata": {
        "cell_id": "00003-b0c4c0b2-689b-4f0b-9bb7-f78acf400fba",
        "deepnote_cell_type": "markdown",
        "id": "gtxqTCE_Prat",
        "tags": []
      },
      "source": [
        "# EDA"
      ]
    },
    {
      "attachments": {},
      "cell_type": "markdown",
      "metadata": {
        "id": "8y6zihw1FZHx"
      },
      "source": [
        "## References\n",
        "- https://developers.google.com/machine-learning/guides/text-classification/step-2\n",
        "- https://github.com/google/eng-edu/blob/main/ml/guides/text_classification/explore_data.py"
      ]
    },
    {
      "attachments": {},
      "cell_type": "markdown",
      "metadata": {
        "id": "0AJu2t0rK71J"
      },
      "source": [
        "## Utils"
      ]
    },
    {
      "cell_type": "code",
      "execution_count": 70,
      "metadata": {
        "id": "1QuSTxwCINC9"
      },
      "outputs": [],
      "source": [
        "def get_num_words_per_sample(sample_texts):\n",
        "    \"\"\"Gets the median number of words per sample given corpus.\n",
        "\n",
        "    # Arguments\n",
        "        sample_texts: list, sample texts.\n",
        "\n",
        "    # Returns\n",
        "        int, median number of words per sample.\n",
        "    \"\"\"\n",
        "    num_words = [len(s.split()) for s in sample_texts]\n",
        "    return np.median(num_words)"
      ]
    },
    {
      "attachments": {},
      "cell_type": "markdown",
      "metadata": {
        "id": "xxP6y3tQK_IF"
      },
      "source": [
        "## Key metrics"
      ]
    },
    {
      "cell_type": "code",
      "execution_count": 71,
      "metadata": {
        "colab": {
          "base_uri": "https://localhost:8080/"
        },
        "id": "D_xhI3z6Gw1J",
        "outputId": "093b942b-f7a7-4388-984e-070f912c137f"
      },
      "outputs": [
        {
          "name": "stdout",
          "output_type": "stream",
          "text": [
            "Xtrain key metrics\n",
            "Number of samples: 1089\n",
            "Number of aspects: 6\n",
            "Number of classes: 18\n",
            "Number of words per sample: 28.0\n",
            "Number of samples/number of words per sample ratio 38.892857142857146\n"
          ]
        }
      ],
      "source": [
        "num_samples = len(xtrain)\n",
        "num_aspects = len(aspects)\n",
        "num_classes = num_aspects * 3\n",
        "num_words_per_sample = get_num_words_per_sample(xtrain)\n",
        "sw_ratio = num_samples / num_words_per_sample\n",
        "\n",
        "\n",
        "print(\"Xtrain key metrics\")\n",
        "print(\"Number of samples:\", num_samples)\n",
        "print(\"Number of aspects:\", num_aspects)\n",
        "print(\"Number of classes:\", num_classes)\n",
        "print(\"Number of words per sample:\", num_words_per_sample)\n",
        "print(\"Number of samples/number of words per sample ratio\", sw_ratio)"
      ]
    },
    {
      "attachments": {},
      "cell_type": "markdown",
      "metadata": {
        "id": "03IBx4ZS8tn4"
      },
      "source": [
        "## Class distribution"
      ]
    },
    {
      "cell_type": "code",
      "execution_count": 72,
      "metadata": {
        "colab": {
          "base_uri": "https://localhost:8080/",
          "height": 542
        },
        "id": "ohAmNN9b50AH",
        "outputId": "d1b0459b-3732-4ffe-f652-a4198e9e2b24"
      },
      "outputs": [
        {
          "data": {
            "application/vnd.plotly.v1+json": {
              "config": {
                "plotlyServerURL": "https://plot.ly"
              },
              "data": [
                {
                  "domain": {
                    "x": [
                      0,
                      0.2888888888888889
                    ],
                    "y": [
                      0,
                      1
                    ]
                  },
                  "labels": [
                    "LOCATION",
                    "PRICE",
                    "SERVICE#STAFF",
                    "ENVIRONMENT#SCENERY",
                    "ENVIRONMENT#WEATHER",
                    "ENVIRONMENT#ATMOSPHERE"
                  ],
                  "name": "Train",
                  "textposition": "inside",
                  "type": "pie",
                  "values": {
                    "bdata": "3gFAAs8GGQVWBZAD",
                    "dtype": "u2"
                  }
                },
                {
                  "domain": {
                    "x": [
                      0.35555555555555557,
                      0.6444444444444445
                    ],
                    "y": [
                      0,
                      1
                    ]
                  },
                  "labels": [
                    "LOCATION",
                    "PRICE",
                    "SERVICE#STAFF",
                    "ENVIRONMENT#SCENERY",
                    "ENVIRONMENT#WEATHER",
                    "ENVIRONMENT#ATMOSPHERE"
                  ],
                  "name": "Test",
                  "textposition": "inside",
                  "type": "pie",
                  "values": {
                    "bdata": "fACCAJQBUAE5Ac4A",
                    "dtype": "u2"
                  }
                }
              ],
              "layout": {
                "annotations": [
                  {
                    "font": {
                      "size": 16
                    },
                    "showarrow": false,
                    "text": "Train",
                    "x": 0.14444444444444446,
                    "xanchor": "center",
                    "xref": "paper",
                    "y": 1,
                    "yanchor": "bottom",
                    "yref": "paper"
                  },
                  {
                    "font": {
                      "size": 16
                    },
                    "showarrow": false,
                    "text": "Test",
                    "x": 0.5,
                    "xanchor": "center",
                    "xref": "paper",
                    "y": 1,
                    "yanchor": "bottom",
                    "yref": "paper"
                  }
                ],
                "template": {
                  "data": {
                    "bar": [
                      {
                        "error_x": {
                          "color": "#2a3f5f"
                        },
                        "error_y": {
                          "color": "#2a3f5f"
                        },
                        "marker": {
                          "line": {
                            "color": "#E5ECF6",
                            "width": 0.5
                          },
                          "pattern": {
                            "fillmode": "overlay",
                            "size": 10,
                            "solidity": 0.2
                          }
                        },
                        "type": "bar"
                      }
                    ],
                    "barpolar": [
                      {
                        "marker": {
                          "line": {
                            "color": "#E5ECF6",
                            "width": 0.5
                          },
                          "pattern": {
                            "fillmode": "overlay",
                            "size": 10,
                            "solidity": 0.2
                          }
                        },
                        "type": "barpolar"
                      }
                    ],
                    "carpet": [
                      {
                        "aaxis": {
                          "endlinecolor": "#2a3f5f",
                          "gridcolor": "white",
                          "linecolor": "white",
                          "minorgridcolor": "white",
                          "startlinecolor": "#2a3f5f"
                        },
                        "baxis": {
                          "endlinecolor": "#2a3f5f",
                          "gridcolor": "white",
                          "linecolor": "white",
                          "minorgridcolor": "white",
                          "startlinecolor": "#2a3f5f"
                        },
                        "type": "carpet"
                      }
                    ],
                    "choropleth": [
                      {
                        "colorbar": {
                          "outlinewidth": 0,
                          "ticks": ""
                        },
                        "type": "choropleth"
                      }
                    ],
                    "contour": [
                      {
                        "colorbar": {
                          "outlinewidth": 0,
                          "ticks": ""
                        },
                        "colorscale": [
                          [
                            0,
                            "#0d0887"
                          ],
                          [
                            0.1111111111111111,
                            "#46039f"
                          ],
                          [
                            0.2222222222222222,
                            "#7201a8"
                          ],
                          [
                            0.3333333333333333,
                            "#9c179e"
                          ],
                          [
                            0.4444444444444444,
                            "#bd3786"
                          ],
                          [
                            0.5555555555555556,
                            "#d8576b"
                          ],
                          [
                            0.6666666666666666,
                            "#ed7953"
                          ],
                          [
                            0.7777777777777778,
                            "#fb9f3a"
                          ],
                          [
                            0.8888888888888888,
                            "#fdca26"
                          ],
                          [
                            1,
                            "#f0f921"
                          ]
                        ],
                        "type": "contour"
                      }
                    ],
                    "contourcarpet": [
                      {
                        "colorbar": {
                          "outlinewidth": 0,
                          "ticks": ""
                        },
                        "type": "contourcarpet"
                      }
                    ],
                    "heatmap": [
                      {
                        "colorbar": {
                          "outlinewidth": 0,
                          "ticks": ""
                        },
                        "colorscale": [
                          [
                            0,
                            "#0d0887"
                          ],
                          [
                            0.1111111111111111,
                            "#46039f"
                          ],
                          [
                            0.2222222222222222,
                            "#7201a8"
                          ],
                          [
                            0.3333333333333333,
                            "#9c179e"
                          ],
                          [
                            0.4444444444444444,
                            "#bd3786"
                          ],
                          [
                            0.5555555555555556,
                            "#d8576b"
                          ],
                          [
                            0.6666666666666666,
                            "#ed7953"
                          ],
                          [
                            0.7777777777777778,
                            "#fb9f3a"
                          ],
                          [
                            0.8888888888888888,
                            "#fdca26"
                          ],
                          [
                            1,
                            "#f0f921"
                          ]
                        ],
                        "type": "heatmap"
                      }
                    ],
                    "histogram": [
                      {
                        "marker": {
                          "pattern": {
                            "fillmode": "overlay",
                            "size": 10,
                            "solidity": 0.2
                          }
                        },
                        "type": "histogram"
                      }
                    ],
                    "histogram2d": [
                      {
                        "colorbar": {
                          "outlinewidth": 0,
                          "ticks": ""
                        },
                        "colorscale": [
                          [
                            0,
                            "#0d0887"
                          ],
                          [
                            0.1111111111111111,
                            "#46039f"
                          ],
                          [
                            0.2222222222222222,
                            "#7201a8"
                          ],
                          [
                            0.3333333333333333,
                            "#9c179e"
                          ],
                          [
                            0.4444444444444444,
                            "#bd3786"
                          ],
                          [
                            0.5555555555555556,
                            "#d8576b"
                          ],
                          [
                            0.6666666666666666,
                            "#ed7953"
                          ],
                          [
                            0.7777777777777778,
                            "#fb9f3a"
                          ],
                          [
                            0.8888888888888888,
                            "#fdca26"
                          ],
                          [
                            1,
                            "#f0f921"
                          ]
                        ],
                        "type": "histogram2d"
                      }
                    ],
                    "histogram2dcontour": [
                      {
                        "colorbar": {
                          "outlinewidth": 0,
                          "ticks": ""
                        },
                        "colorscale": [
                          [
                            0,
                            "#0d0887"
                          ],
                          [
                            0.1111111111111111,
                            "#46039f"
                          ],
                          [
                            0.2222222222222222,
                            "#7201a8"
                          ],
                          [
                            0.3333333333333333,
                            "#9c179e"
                          ],
                          [
                            0.4444444444444444,
                            "#bd3786"
                          ],
                          [
                            0.5555555555555556,
                            "#d8576b"
                          ],
                          [
                            0.6666666666666666,
                            "#ed7953"
                          ],
                          [
                            0.7777777777777778,
                            "#fb9f3a"
                          ],
                          [
                            0.8888888888888888,
                            "#fdca26"
                          ],
                          [
                            1,
                            "#f0f921"
                          ]
                        ],
                        "type": "histogram2dcontour"
                      }
                    ],
                    "mesh3d": [
                      {
                        "colorbar": {
                          "outlinewidth": 0,
                          "ticks": ""
                        },
                        "type": "mesh3d"
                      }
                    ],
                    "parcoords": [
                      {
                        "line": {
                          "colorbar": {
                            "outlinewidth": 0,
                            "ticks": ""
                          }
                        },
                        "type": "parcoords"
                      }
                    ],
                    "pie": [
                      {
                        "automargin": true,
                        "type": "pie"
                      }
                    ],
                    "scatter": [
                      {
                        "fillpattern": {
                          "fillmode": "overlay",
                          "size": 10,
                          "solidity": 0.2
                        },
                        "type": "scatter"
                      }
                    ],
                    "scatter3d": [
                      {
                        "line": {
                          "colorbar": {
                            "outlinewidth": 0,
                            "ticks": ""
                          }
                        },
                        "marker": {
                          "colorbar": {
                            "outlinewidth": 0,
                            "ticks": ""
                          }
                        },
                        "type": "scatter3d"
                      }
                    ],
                    "scattercarpet": [
                      {
                        "marker": {
                          "colorbar": {
                            "outlinewidth": 0,
                            "ticks": ""
                          }
                        },
                        "type": "scattercarpet"
                      }
                    ],
                    "scattergeo": [
                      {
                        "marker": {
                          "colorbar": {
                            "outlinewidth": 0,
                            "ticks": ""
                          }
                        },
                        "type": "scattergeo"
                      }
                    ],
                    "scattergl": [
                      {
                        "marker": {
                          "colorbar": {
                            "outlinewidth": 0,
                            "ticks": ""
                          }
                        },
                        "type": "scattergl"
                      }
                    ],
                    "scattermap": [
                      {
                        "marker": {
                          "colorbar": {
                            "outlinewidth": 0,
                            "ticks": ""
                          }
                        },
                        "type": "scattermap"
                      }
                    ],
                    "scattermapbox": [
                      {
                        "marker": {
                          "colorbar": {
                            "outlinewidth": 0,
                            "ticks": ""
                          }
                        },
                        "type": "scattermapbox"
                      }
                    ],
                    "scatterpolar": [
                      {
                        "marker": {
                          "colorbar": {
                            "outlinewidth": 0,
                            "ticks": ""
                          }
                        },
                        "type": "scatterpolar"
                      }
                    ],
                    "scatterpolargl": [
                      {
                        "marker": {
                          "colorbar": {
                            "outlinewidth": 0,
                            "ticks": ""
                          }
                        },
                        "type": "scatterpolargl"
                      }
                    ],
                    "scatterternary": [
                      {
                        "marker": {
                          "colorbar": {
                            "outlinewidth": 0,
                            "ticks": ""
                          }
                        },
                        "type": "scatterternary"
                      }
                    ],
                    "surface": [
                      {
                        "colorbar": {
                          "outlinewidth": 0,
                          "ticks": ""
                        },
                        "colorscale": [
                          [
                            0,
                            "#0d0887"
                          ],
                          [
                            0.1111111111111111,
                            "#46039f"
                          ],
                          [
                            0.2222222222222222,
                            "#7201a8"
                          ],
                          [
                            0.3333333333333333,
                            "#9c179e"
                          ],
                          [
                            0.4444444444444444,
                            "#bd3786"
                          ],
                          [
                            0.5555555555555556,
                            "#d8576b"
                          ],
                          [
                            0.6666666666666666,
                            "#ed7953"
                          ],
                          [
                            0.7777777777777778,
                            "#fb9f3a"
                          ],
                          [
                            0.8888888888888888,
                            "#fdca26"
                          ],
                          [
                            1,
                            "#f0f921"
                          ]
                        ],
                        "type": "surface"
                      }
                    ],
                    "table": [
                      {
                        "cells": {
                          "fill": {
                            "color": "#EBF0F8"
                          },
                          "line": {
                            "color": "white"
                          }
                        },
                        "header": {
                          "fill": {
                            "color": "#C8D4E3"
                          },
                          "line": {
                            "color": "white"
                          }
                        },
                        "type": "table"
                      }
                    ]
                  },
                  "layout": {
                    "annotationdefaults": {
                      "arrowcolor": "#2a3f5f",
                      "arrowhead": 0,
                      "arrowwidth": 1
                    },
                    "autotypenumbers": "strict",
                    "coloraxis": {
                      "colorbar": {
                        "outlinewidth": 0,
                        "ticks": ""
                      }
                    },
                    "colorscale": {
                      "diverging": [
                        [
                          0,
                          "#8e0152"
                        ],
                        [
                          0.1,
                          "#c51b7d"
                        ],
                        [
                          0.2,
                          "#de77ae"
                        ],
                        [
                          0.3,
                          "#f1b6da"
                        ],
                        [
                          0.4,
                          "#fde0ef"
                        ],
                        [
                          0.5,
                          "#f7f7f7"
                        ],
                        [
                          0.6,
                          "#e6f5d0"
                        ],
                        [
                          0.7,
                          "#b8e186"
                        ],
                        [
                          0.8,
                          "#7fbc41"
                        ],
                        [
                          0.9,
                          "#4d9221"
                        ],
                        [
                          1,
                          "#276419"
                        ]
                      ],
                      "sequential": [
                        [
                          0,
                          "#0d0887"
                        ],
                        [
                          0.1111111111111111,
                          "#46039f"
                        ],
                        [
                          0.2222222222222222,
                          "#7201a8"
                        ],
                        [
                          0.3333333333333333,
                          "#9c179e"
                        ],
                        [
                          0.4444444444444444,
                          "#bd3786"
                        ],
                        [
                          0.5555555555555556,
                          "#d8576b"
                        ],
                        [
                          0.6666666666666666,
                          "#ed7953"
                        ],
                        [
                          0.7777777777777778,
                          "#fb9f3a"
                        ],
                        [
                          0.8888888888888888,
                          "#fdca26"
                        ],
                        [
                          1,
                          "#f0f921"
                        ]
                      ],
                      "sequentialminus": [
                        [
                          0,
                          "#0d0887"
                        ],
                        [
                          0.1111111111111111,
                          "#46039f"
                        ],
                        [
                          0.2222222222222222,
                          "#7201a8"
                        ],
                        [
                          0.3333333333333333,
                          "#9c179e"
                        ],
                        [
                          0.4444444444444444,
                          "#bd3786"
                        ],
                        [
                          0.5555555555555556,
                          "#d8576b"
                        ],
                        [
                          0.6666666666666666,
                          "#ed7953"
                        ],
                        [
                          0.7777777777777778,
                          "#fb9f3a"
                        ],
                        [
                          0.8888888888888888,
                          "#fdca26"
                        ],
                        [
                          1,
                          "#f0f921"
                        ]
                      ]
                    },
                    "colorway": [
                      "#636efa",
                      "#EF553B",
                      "#00cc96",
                      "#ab63fa",
                      "#FFA15A",
                      "#19d3f3",
                      "#FF6692",
                      "#B6E880",
                      "#FF97FF",
                      "#FECB52"
                    ],
                    "font": {
                      "color": "#2a3f5f"
                    },
                    "geo": {
                      "bgcolor": "white",
                      "lakecolor": "white",
                      "landcolor": "#E5ECF6",
                      "showlakes": true,
                      "showland": true,
                      "subunitcolor": "white"
                    },
                    "hoverlabel": {
                      "align": "left"
                    },
                    "hovermode": "closest",
                    "mapbox": {
                      "style": "light"
                    },
                    "paper_bgcolor": "white",
                    "plot_bgcolor": "#E5ECF6",
                    "polar": {
                      "angularaxis": {
                        "gridcolor": "white",
                        "linecolor": "white",
                        "ticks": ""
                      },
                      "bgcolor": "#E5ECF6",
                      "radialaxis": {
                        "gridcolor": "white",
                        "linecolor": "white",
                        "ticks": ""
                      }
                    },
                    "scene": {
                      "xaxis": {
                        "backgroundcolor": "#E5ECF6",
                        "gridcolor": "white",
                        "gridwidth": 2,
                        "linecolor": "white",
                        "showbackground": true,
                        "ticks": "",
                        "zerolinecolor": "white"
                      },
                      "yaxis": {
                        "backgroundcolor": "#E5ECF6",
                        "gridcolor": "white",
                        "gridwidth": 2,
                        "linecolor": "white",
                        "showbackground": true,
                        "ticks": "",
                        "zerolinecolor": "white"
                      },
                      "zaxis": {
                        "backgroundcolor": "#E5ECF6",
                        "gridcolor": "white",
                        "gridwidth": 2,
                        "linecolor": "white",
                        "showbackground": true,
                        "ticks": "",
                        "zerolinecolor": "white"
                      }
                    },
                    "shapedefaults": {
                      "line": {
                        "color": "#2a3f5f"
                      }
                    },
                    "ternary": {
                      "aaxis": {
                        "gridcolor": "white",
                        "linecolor": "white",
                        "ticks": ""
                      },
                      "baxis": {
                        "gridcolor": "white",
                        "linecolor": "white",
                        "ticks": ""
                      },
                      "bgcolor": "#E5ECF6",
                      "caxis": {
                        "gridcolor": "white",
                        "linecolor": "white",
                        "ticks": ""
                      }
                    },
                    "title": {
                      "x": 0.05
                    },
                    "xaxis": {
                      "automargin": true,
                      "gridcolor": "white",
                      "linecolor": "white",
                      "ticks": "",
                      "title": {
                        "standoff": 15
                      },
                      "zerolinecolor": "white",
                      "zerolinewidth": 2
                    },
                    "yaxis": {
                      "automargin": true,
                      "gridcolor": "white",
                      "linecolor": "white",
                      "ticks": "",
                      "title": {
                        "standoff": 15
                      },
                      "zerolinecolor": "white",
                      "zerolinewidth": 2
                    }
                  }
                },
                "title": {
                  "text": "% of samples per aspect"
                }
              }
            }
          },
          "metadata": {},
          "output_type": "display_data"
        }
      ],
      "source": [
        "import plotly.graph_objects as go\n",
        "from plotly.subplots import make_subplots\n",
        "\n",
        "def get_pie(df, name):\n",
        "    count = df.sum(axis=0)\n",
        "    return go.Pie(labels=count.index, values=count,\n",
        "                  textposition='inside', name=name)\n",
        "\n",
        "\n",
        "# names = ('Train', 'Dev', 'Test')\n",
        "# phaseA = (ytrain, ydev, ytest)\n",
        "\n",
        "names = ('Train', 'Test')\n",
        "phaseA = (ytrain, ytest)\n",
        "\n",
        "fig = make_subplots(cols=3, subplot_titles=names,\n",
        "                    specs=[[{'type': 'pie'}] * 3])\n",
        "\n",
        "for i, (df, name) in enumerate(zip(phaseA, names), 1):\n",
        "    fig.add_trace(get_pie(df, name), row=1, col=i)\n",
        "\n",
        "fig.update_layout(title='% of samples per aspect')"
      ]
    },
    {
      "cell_type": "code",
      "execution_count": 73,
      "metadata": {
        "colab": {
          "base_uri": "https://localhost:8080/",
          "height": 542
        },
        "id": "VQLRJkhS1t83",
        "outputId": "944c6be3-fadf-48d6-f40d-9fa36898ee8c"
      },
      "outputs": [
        {
          "data": {
            "application/vnd.plotly.v1+json": {
              "config": {
                "plotlyServerURL": "https://plot.ly"
              },
              "data": [
                {
                  "domain": {
                    "x": [
                      0,
                      0.2888888888888889
                    ],
                    "y": [
                      0,
                      1
                    ]
                  },
                  "labels": [
                    "LOCATION -",
                    "LOCATION o",
                    "LOCATION +",
                    "PRICE -",
                    "PRICE o",
                    "PRICE +",
                    "SERVICE#STAFF -",
                    "SERVICE#STAFF o",
                    "SERVICE#STAFF +",
                    "ENVIRONMENT#SCENERY -",
                    "ENVIRONMENT#SCENERY o",
                    "ENVIRONMENT#SCENERY +",
                    "ENVIRONMENT#WEATHER -",
                    "ENVIRONMENT#WEATHER o",
                    "ENVIRONMENT#WEATHER +",
                    "ENVIRONMENT#ATMOSPHERE -",
                    "ENVIRONMENT#ATMOSPHERE o",
                    "ENVIRONMENT#ATMOSPHERE +"
                  ],
                  "name": "Train",
                  "textposition": "inside",
                  "type": "pie",
                  "values": {
                    "bdata": "HAAAAJYAFQDMADEAIQCEAOIBDAAAAK8BBQCvAFEBBQBQAPkA",
                    "dtype": "i2"
                  }
                },
                {
                  "domain": {
                    "x": [
                      0.35555555555555557,
                      0.6444444444444445
                    ],
                    "y": [
                      0,
                      1
                    ]
                  },
                  "labels": [
                    "LOCATION -",
                    "LOCATION o",
                    "LOCATION +",
                    "PRICE -",
                    "PRICE o",
                    "PRICE +",
                    "SERVICE#STAFF -",
                    "SERVICE#STAFF o",
                    "SERVICE#STAFF +",
                    "ENVIRONMENT#SCENERY -",
                    "ENVIRONMENT#SCENERY o",
                    "ENVIRONMENT#SCENERY +",
                    "ENVIRONMENT#WEATHER -",
                    "ENVIRONMENT#WEATHER o",
                    "ENVIRONMENT#WEATHER +",
                    "ENVIRONMENT#ATMOSPHERE -",
                    "ENVIRONMENT#ATMOSPHERE o",
                    "ENVIRONMENT#ATMOSPHERE +"
                  ],
                  "name": "Test",
                  "textposition": "inside",
                  "type": "pie",
                  "values": {
                    "bdata": "BAAoBS4LCStnAwBvASRQARQ3",
                    "dtype": "i1"
                  }
                }
              ],
              "layout": {
                "annotations": [
                  {
                    "font": {
                      "size": 16
                    },
                    "showarrow": false,
                    "text": "Train",
                    "x": 0.14444444444444446,
                    "xanchor": "center",
                    "xref": "paper",
                    "y": 1,
                    "yanchor": "bottom",
                    "yref": "paper"
                  },
                  {
                    "font": {
                      "size": 16
                    },
                    "showarrow": false,
                    "text": "Test",
                    "x": 0.5,
                    "xanchor": "center",
                    "xref": "paper",
                    "y": 1,
                    "yanchor": "bottom",
                    "yref": "paper"
                  }
                ],
                "template": {
                  "data": {
                    "bar": [
                      {
                        "error_x": {
                          "color": "#2a3f5f"
                        },
                        "error_y": {
                          "color": "#2a3f5f"
                        },
                        "marker": {
                          "line": {
                            "color": "#E5ECF6",
                            "width": 0.5
                          },
                          "pattern": {
                            "fillmode": "overlay",
                            "size": 10,
                            "solidity": 0.2
                          }
                        },
                        "type": "bar"
                      }
                    ],
                    "barpolar": [
                      {
                        "marker": {
                          "line": {
                            "color": "#E5ECF6",
                            "width": 0.5
                          },
                          "pattern": {
                            "fillmode": "overlay",
                            "size": 10,
                            "solidity": 0.2
                          }
                        },
                        "type": "barpolar"
                      }
                    ],
                    "carpet": [
                      {
                        "aaxis": {
                          "endlinecolor": "#2a3f5f",
                          "gridcolor": "white",
                          "linecolor": "white",
                          "minorgridcolor": "white",
                          "startlinecolor": "#2a3f5f"
                        },
                        "baxis": {
                          "endlinecolor": "#2a3f5f",
                          "gridcolor": "white",
                          "linecolor": "white",
                          "minorgridcolor": "white",
                          "startlinecolor": "#2a3f5f"
                        },
                        "type": "carpet"
                      }
                    ],
                    "choropleth": [
                      {
                        "colorbar": {
                          "outlinewidth": 0,
                          "ticks": ""
                        },
                        "type": "choropleth"
                      }
                    ],
                    "contour": [
                      {
                        "colorbar": {
                          "outlinewidth": 0,
                          "ticks": ""
                        },
                        "colorscale": [
                          [
                            0,
                            "#0d0887"
                          ],
                          [
                            0.1111111111111111,
                            "#46039f"
                          ],
                          [
                            0.2222222222222222,
                            "#7201a8"
                          ],
                          [
                            0.3333333333333333,
                            "#9c179e"
                          ],
                          [
                            0.4444444444444444,
                            "#bd3786"
                          ],
                          [
                            0.5555555555555556,
                            "#d8576b"
                          ],
                          [
                            0.6666666666666666,
                            "#ed7953"
                          ],
                          [
                            0.7777777777777778,
                            "#fb9f3a"
                          ],
                          [
                            0.8888888888888888,
                            "#fdca26"
                          ],
                          [
                            1,
                            "#f0f921"
                          ]
                        ],
                        "type": "contour"
                      }
                    ],
                    "contourcarpet": [
                      {
                        "colorbar": {
                          "outlinewidth": 0,
                          "ticks": ""
                        },
                        "type": "contourcarpet"
                      }
                    ],
                    "heatmap": [
                      {
                        "colorbar": {
                          "outlinewidth": 0,
                          "ticks": ""
                        },
                        "colorscale": [
                          [
                            0,
                            "#0d0887"
                          ],
                          [
                            0.1111111111111111,
                            "#46039f"
                          ],
                          [
                            0.2222222222222222,
                            "#7201a8"
                          ],
                          [
                            0.3333333333333333,
                            "#9c179e"
                          ],
                          [
                            0.4444444444444444,
                            "#bd3786"
                          ],
                          [
                            0.5555555555555556,
                            "#d8576b"
                          ],
                          [
                            0.6666666666666666,
                            "#ed7953"
                          ],
                          [
                            0.7777777777777778,
                            "#fb9f3a"
                          ],
                          [
                            0.8888888888888888,
                            "#fdca26"
                          ],
                          [
                            1,
                            "#f0f921"
                          ]
                        ],
                        "type": "heatmap"
                      }
                    ],
                    "histogram": [
                      {
                        "marker": {
                          "pattern": {
                            "fillmode": "overlay",
                            "size": 10,
                            "solidity": 0.2
                          }
                        },
                        "type": "histogram"
                      }
                    ],
                    "histogram2d": [
                      {
                        "colorbar": {
                          "outlinewidth": 0,
                          "ticks": ""
                        },
                        "colorscale": [
                          [
                            0,
                            "#0d0887"
                          ],
                          [
                            0.1111111111111111,
                            "#46039f"
                          ],
                          [
                            0.2222222222222222,
                            "#7201a8"
                          ],
                          [
                            0.3333333333333333,
                            "#9c179e"
                          ],
                          [
                            0.4444444444444444,
                            "#bd3786"
                          ],
                          [
                            0.5555555555555556,
                            "#d8576b"
                          ],
                          [
                            0.6666666666666666,
                            "#ed7953"
                          ],
                          [
                            0.7777777777777778,
                            "#fb9f3a"
                          ],
                          [
                            0.8888888888888888,
                            "#fdca26"
                          ],
                          [
                            1,
                            "#f0f921"
                          ]
                        ],
                        "type": "histogram2d"
                      }
                    ],
                    "histogram2dcontour": [
                      {
                        "colorbar": {
                          "outlinewidth": 0,
                          "ticks": ""
                        },
                        "colorscale": [
                          [
                            0,
                            "#0d0887"
                          ],
                          [
                            0.1111111111111111,
                            "#46039f"
                          ],
                          [
                            0.2222222222222222,
                            "#7201a8"
                          ],
                          [
                            0.3333333333333333,
                            "#9c179e"
                          ],
                          [
                            0.4444444444444444,
                            "#bd3786"
                          ],
                          [
                            0.5555555555555556,
                            "#d8576b"
                          ],
                          [
                            0.6666666666666666,
                            "#ed7953"
                          ],
                          [
                            0.7777777777777778,
                            "#fb9f3a"
                          ],
                          [
                            0.8888888888888888,
                            "#fdca26"
                          ],
                          [
                            1,
                            "#f0f921"
                          ]
                        ],
                        "type": "histogram2dcontour"
                      }
                    ],
                    "mesh3d": [
                      {
                        "colorbar": {
                          "outlinewidth": 0,
                          "ticks": ""
                        },
                        "type": "mesh3d"
                      }
                    ],
                    "parcoords": [
                      {
                        "line": {
                          "colorbar": {
                            "outlinewidth": 0,
                            "ticks": ""
                          }
                        },
                        "type": "parcoords"
                      }
                    ],
                    "pie": [
                      {
                        "automargin": true,
                        "type": "pie"
                      }
                    ],
                    "scatter": [
                      {
                        "fillpattern": {
                          "fillmode": "overlay",
                          "size": 10,
                          "solidity": 0.2
                        },
                        "type": "scatter"
                      }
                    ],
                    "scatter3d": [
                      {
                        "line": {
                          "colorbar": {
                            "outlinewidth": 0,
                            "ticks": ""
                          }
                        },
                        "marker": {
                          "colorbar": {
                            "outlinewidth": 0,
                            "ticks": ""
                          }
                        },
                        "type": "scatter3d"
                      }
                    ],
                    "scattercarpet": [
                      {
                        "marker": {
                          "colorbar": {
                            "outlinewidth": 0,
                            "ticks": ""
                          }
                        },
                        "type": "scattercarpet"
                      }
                    ],
                    "scattergeo": [
                      {
                        "marker": {
                          "colorbar": {
                            "outlinewidth": 0,
                            "ticks": ""
                          }
                        },
                        "type": "scattergeo"
                      }
                    ],
                    "scattergl": [
                      {
                        "marker": {
                          "colorbar": {
                            "outlinewidth": 0,
                            "ticks": ""
                          }
                        },
                        "type": "scattergl"
                      }
                    ],
                    "scattermap": [
                      {
                        "marker": {
                          "colorbar": {
                            "outlinewidth": 0,
                            "ticks": ""
                          }
                        },
                        "type": "scattermap"
                      }
                    ],
                    "scattermapbox": [
                      {
                        "marker": {
                          "colorbar": {
                            "outlinewidth": 0,
                            "ticks": ""
                          }
                        },
                        "type": "scattermapbox"
                      }
                    ],
                    "scatterpolar": [
                      {
                        "marker": {
                          "colorbar": {
                            "outlinewidth": 0,
                            "ticks": ""
                          }
                        },
                        "type": "scatterpolar"
                      }
                    ],
                    "scatterpolargl": [
                      {
                        "marker": {
                          "colorbar": {
                            "outlinewidth": 0,
                            "ticks": ""
                          }
                        },
                        "type": "scatterpolargl"
                      }
                    ],
                    "scatterternary": [
                      {
                        "marker": {
                          "colorbar": {
                            "outlinewidth": 0,
                            "ticks": ""
                          }
                        },
                        "type": "scatterternary"
                      }
                    ],
                    "surface": [
                      {
                        "colorbar": {
                          "outlinewidth": 0,
                          "ticks": ""
                        },
                        "colorscale": [
                          [
                            0,
                            "#0d0887"
                          ],
                          [
                            0.1111111111111111,
                            "#46039f"
                          ],
                          [
                            0.2222222222222222,
                            "#7201a8"
                          ],
                          [
                            0.3333333333333333,
                            "#9c179e"
                          ],
                          [
                            0.4444444444444444,
                            "#bd3786"
                          ],
                          [
                            0.5555555555555556,
                            "#d8576b"
                          ],
                          [
                            0.6666666666666666,
                            "#ed7953"
                          ],
                          [
                            0.7777777777777778,
                            "#fb9f3a"
                          ],
                          [
                            0.8888888888888888,
                            "#fdca26"
                          ],
                          [
                            1,
                            "#f0f921"
                          ]
                        ],
                        "type": "surface"
                      }
                    ],
                    "table": [
                      {
                        "cells": {
                          "fill": {
                            "color": "#EBF0F8"
                          },
                          "line": {
                            "color": "white"
                          }
                        },
                        "header": {
                          "fill": {
                            "color": "#C8D4E3"
                          },
                          "line": {
                            "color": "white"
                          }
                        },
                        "type": "table"
                      }
                    ]
                  },
                  "layout": {
                    "annotationdefaults": {
                      "arrowcolor": "#2a3f5f",
                      "arrowhead": 0,
                      "arrowwidth": 1
                    },
                    "autotypenumbers": "strict",
                    "coloraxis": {
                      "colorbar": {
                        "outlinewidth": 0,
                        "ticks": ""
                      }
                    },
                    "colorscale": {
                      "diverging": [
                        [
                          0,
                          "#8e0152"
                        ],
                        [
                          0.1,
                          "#c51b7d"
                        ],
                        [
                          0.2,
                          "#de77ae"
                        ],
                        [
                          0.3,
                          "#f1b6da"
                        ],
                        [
                          0.4,
                          "#fde0ef"
                        ],
                        [
                          0.5,
                          "#f7f7f7"
                        ],
                        [
                          0.6,
                          "#e6f5d0"
                        ],
                        [
                          0.7,
                          "#b8e186"
                        ],
                        [
                          0.8,
                          "#7fbc41"
                        ],
                        [
                          0.9,
                          "#4d9221"
                        ],
                        [
                          1,
                          "#276419"
                        ]
                      ],
                      "sequential": [
                        [
                          0,
                          "#0d0887"
                        ],
                        [
                          0.1111111111111111,
                          "#46039f"
                        ],
                        [
                          0.2222222222222222,
                          "#7201a8"
                        ],
                        [
                          0.3333333333333333,
                          "#9c179e"
                        ],
                        [
                          0.4444444444444444,
                          "#bd3786"
                        ],
                        [
                          0.5555555555555556,
                          "#d8576b"
                        ],
                        [
                          0.6666666666666666,
                          "#ed7953"
                        ],
                        [
                          0.7777777777777778,
                          "#fb9f3a"
                        ],
                        [
                          0.8888888888888888,
                          "#fdca26"
                        ],
                        [
                          1,
                          "#f0f921"
                        ]
                      ],
                      "sequentialminus": [
                        [
                          0,
                          "#0d0887"
                        ],
                        [
                          0.1111111111111111,
                          "#46039f"
                        ],
                        [
                          0.2222222222222222,
                          "#7201a8"
                        ],
                        [
                          0.3333333333333333,
                          "#9c179e"
                        ],
                        [
                          0.4444444444444444,
                          "#bd3786"
                        ],
                        [
                          0.5555555555555556,
                          "#d8576b"
                        ],
                        [
                          0.6666666666666666,
                          "#ed7953"
                        ],
                        [
                          0.7777777777777778,
                          "#fb9f3a"
                        ],
                        [
                          0.8888888888888888,
                          "#fdca26"
                        ],
                        [
                          1,
                          "#f0f921"
                        ]
                      ]
                    },
                    "colorway": [
                      "#636efa",
                      "#EF553B",
                      "#00cc96",
                      "#ab63fa",
                      "#FFA15A",
                      "#19d3f3",
                      "#FF6692",
                      "#B6E880",
                      "#FF97FF",
                      "#FECB52"
                    ],
                    "font": {
                      "color": "#2a3f5f"
                    },
                    "geo": {
                      "bgcolor": "white",
                      "lakecolor": "white",
                      "landcolor": "#E5ECF6",
                      "showlakes": true,
                      "showland": true,
                      "subunitcolor": "white"
                    },
                    "hoverlabel": {
                      "align": "left"
                    },
                    "hovermode": "closest",
                    "mapbox": {
                      "style": "light"
                    },
                    "paper_bgcolor": "white",
                    "plot_bgcolor": "#E5ECF6",
                    "polar": {
                      "angularaxis": {
                        "gridcolor": "white",
                        "linecolor": "white",
                        "ticks": ""
                      },
                      "bgcolor": "#E5ECF6",
                      "radialaxis": {
                        "gridcolor": "white",
                        "linecolor": "white",
                        "ticks": ""
                      }
                    },
                    "scene": {
                      "xaxis": {
                        "backgroundcolor": "#E5ECF6",
                        "gridcolor": "white",
                        "gridwidth": 2,
                        "linecolor": "white",
                        "showbackground": true,
                        "ticks": "",
                        "zerolinecolor": "white"
                      },
                      "yaxis": {
                        "backgroundcolor": "#E5ECF6",
                        "gridcolor": "white",
                        "gridwidth": 2,
                        "linecolor": "white",
                        "showbackground": true,
                        "ticks": "",
                        "zerolinecolor": "white"
                      },
                      "zaxis": {
                        "backgroundcolor": "#E5ECF6",
                        "gridcolor": "white",
                        "gridwidth": 2,
                        "linecolor": "white",
                        "showbackground": true,
                        "ticks": "",
                        "zerolinecolor": "white"
                      }
                    },
                    "shapedefaults": {
                      "line": {
                        "color": "#2a3f5f"
                      }
                    },
                    "ternary": {
                      "aaxis": {
                        "gridcolor": "white",
                        "linecolor": "white",
                        "ticks": ""
                      },
                      "baxis": {
                        "gridcolor": "white",
                        "linecolor": "white",
                        "ticks": ""
                      },
                      "bgcolor": "#E5ECF6",
                      "caxis": {
                        "gridcolor": "white",
                        "linecolor": "white",
                        "ticks": ""
                      }
                    },
                    "title": {
                      "x": 0.05
                    },
                    "xaxis": {
                      "automargin": true,
                      "gridcolor": "white",
                      "linecolor": "white",
                      "ticks": "",
                      "title": {
                        "standoff": 15
                      },
                      "zerolinecolor": "white",
                      "zerolinewidth": 2
                    },
                    "yaxis": {
                      "automargin": true,
                      "gridcolor": "white",
                      "linecolor": "white",
                      "ticks": "",
                      "title": {
                        "standoff": 15
                      },
                      "zerolinecolor": "white",
                      "zerolinewidth": 2
                    }
                  }
                },
                "title": {
                  "text": "% of samples per class (entity, sentiment)"
                }
              }
            }
          },
          "metadata": {},
          "output_type": "display_data"
        }
      ],
      "source": [
        "# phaseML = (ytrain_ml, ydev_ml, ytest_ml)\n",
        "phaseML = (ytrain_ml, ytest_ml)\n",
        "\n",
        "fig = make_subplots(cols=3, subplot_titles=names,\n",
        "                    specs=[[{'type': 'pie'}] * 3])\n",
        "\n",
        "for i, (df, name) in enumerate(zip(phaseML, names), 1):\n",
        "    fig.add_trace(get_pie(df, name), row=1, col=i)\n",
        "\n",
        "fig.update_layout(title='% of samples per class (entity, sentiment)')"
      ]
    },
    {
      "attachments": {},
      "cell_type": "markdown",
      "metadata": {
        "id": "sZ9lbnGt9Kd6"
      },
      "source": [
        "## Sample length distribution"
      ]
    },
    {
      "cell_type": "code",
      "execution_count": 74,
      "metadata": {
        "colab": {
          "base_uri": "https://localhost:8080/",
          "height": 542
        },
        "id": "JHRo6N3cjlbm",
        "outputId": "4581c2be-b5a9-45f6-d974-b1703ace2d3c"
      },
      "outputs": [
        {
          "data": {
            "application/vnd.plotly.v1+json": {
              "config": {
                "plotlyServerURL": "https://plot.ly"
              },
              "data": [
                {
                  "name": "train",
                  "opacity": 0.5,
                  "type": "histogram",
                  "x": [
                    128,
                    88,
                    646,
                    68,
                    110,
                    138,
                    174,
                    128,
                    115,
                    480,
                    262,
                    273,
                    443,
                    93,
                    211,
                    85,
                    110,
                    161,
                    271,
                    62,
                    196,
                    148,
                    74,
                    34,
                    185,
                    132,
                    220,
                    417,
                    272,
                    999,
                    150,
                    140,
                    391,
                    53,
                    176,
                    68,
                    393,
                    56,
                    292,
                    438,
                    72,
                    144,
                    1265,
                    116,
                    478,
                    215,
                    82,
                    205,
                    239,
                    104,
                    420,
                    190,
                    127,
                    98,
                    228,
                    46,
                    80,
                    650,
                    204,
                    415,
                    234,
                    161,
                    98,
                    219,
                    172,
                    62,
                    87,
                    111,
                    80,
                    287,
                    70,
                    191,
                    472,
                    117,
                    189,
                    418,
                    498,
                    115,
                    108,
                    164,
                    426,
                    215,
                    135,
                    93,
                    99,
                    163,
                    118,
                    97,
                    244,
                    115,
                    165,
                    134,
                    161,
                    328,
                    59,
                    119,
                    72,
                    128,
                    41,
                    179,
                    105,
                    213,
                    67,
                    87,
                    354,
                    323,
                    311,
                    119,
                    85,
                    81,
                    140,
                    175,
                    347,
                    86,
                    70,
                    33,
                    847,
                    95,
                    165,
                    424,
                    70,
                    150,
                    150,
                    75,
                    112,
                    583,
                    168,
                    276,
                    175,
                    147,
                    118,
                    193,
                    175,
                    161,
                    197,
                    199,
                    172,
                    608,
                    241,
                    292,
                    117,
                    147,
                    569,
                    874,
                    248,
                    391,
                    175,
                    121,
                    219,
                    1264,
                    298,
                    90,
                    117,
                    187,
                    78,
                    286,
                    199,
                    121,
                    493,
                    364,
                    80,
                    64,
                    804,
                    126,
                    629,
                    74,
                    177,
                    97,
                    440,
                    62,
                    336,
                    292,
                    217,
                    125,
                    189,
                    108,
                    178,
                    45,
                    501,
                    151,
                    61,
                    158,
                    568,
                    542,
                    269,
                    285,
                    156,
                    145,
                    176,
                    578,
                    418,
                    61,
                    160,
                    127,
                    586,
                    173,
                    108,
                    149,
                    259,
                    872,
                    109,
                    497,
                    96,
                    66,
                    503,
                    107,
                    63,
                    283,
                    90,
                    52,
                    90,
                    657,
                    116,
                    118,
                    32,
                    79,
                    147,
                    106,
                    299,
                    234,
                    72,
                    125,
                    239,
                    219,
                    102,
                    168,
                    32,
                    79,
                    112,
                    167,
                    1394,
                    406,
                    107,
                    1232,
                    91,
                    586,
                    66,
                    130,
                    419,
                    85,
                    132,
                    351,
                    203,
                    56,
                    71,
                    92,
                    96,
                    374,
                    294,
                    420,
                    65,
                    224,
                    242,
                    130,
                    210,
                    204,
                    323,
                    69,
                    185,
                    270,
                    76,
                    126,
                    78,
                    123,
                    136,
                    146,
                    64,
                    101,
                    93,
                    166,
                    57,
                    56,
                    520,
                    328,
                    253,
                    164,
                    712,
                    195,
                    125,
                    135,
                    366,
                    191,
                    907,
                    58,
                    175,
                    170,
                    55,
                    119,
                    79,
                    132,
                    657,
                    517,
                    257,
                    129,
                    231,
                    93,
                    137,
                    196,
                    58,
                    398,
                    118,
                    137,
                    237,
                    313,
                    150,
                    587,
                    270,
                    175,
                    344,
                    71,
                    1830,
                    88,
                    89,
                    321,
                    761,
                    121,
                    576,
                    192,
                    722,
                    55,
                    110,
                    442,
                    86,
                    111,
                    122,
                    95,
                    108,
                    180,
                    119,
                    152,
                    332,
                    169,
                    88,
                    203,
                    475,
                    55,
                    218,
                    198,
                    46,
                    126,
                    327,
                    227,
                    84,
                    1486,
                    148,
                    127,
                    273,
                    263,
                    108,
                    342,
                    107,
                    65,
                    113,
                    95,
                    87,
                    283,
                    187,
                    467,
                    223,
                    137,
                    180,
                    96,
                    129,
                    230,
                    167,
                    182,
                    440,
                    266,
                    145,
                    236,
                    451,
                    417,
                    48,
                    177,
                    75,
                    97,
                    103,
                    156,
                    86,
                    174,
                    307,
                    184,
                    159,
                    90,
                    59,
                    244,
                    87,
                    79,
                    119,
                    276,
                    207,
                    34,
                    541,
                    261,
                    95,
                    116,
                    149,
                    200,
                    345,
                    57,
                    45,
                    192,
                    152,
                    108,
                    607,
                    402,
                    322,
                    225,
                    309,
                    236,
                    767,
                    290,
                    68,
                    83,
                    103,
                    315,
                    105,
                    600,
                    89,
                    40,
                    195,
                    554,
                    705,
                    112,
                    375,
                    398,
                    318,
                    261,
                    106,
                    198,
                    110,
                    89,
                    492,
                    119,
                    89,
                    72,
                    81,
                    110,
                    207,
                    130,
                    99,
                    336,
                    249,
                    190,
                    296,
                    64,
                    62,
                    88,
                    108,
                    87,
                    760,
                    63,
                    228,
                    186,
                    270,
                    49,
                    372,
                    127,
                    209,
                    326,
                    162,
                    60,
                    1299,
                    88,
                    87,
                    319,
                    185,
                    126,
                    133,
                    77,
                    101,
                    264,
                    148,
                    171,
                    157,
                    51,
                    76,
                    116,
                    69,
                    285,
                    211,
                    73,
                    189,
                    161,
                    122,
                    138,
                    123,
                    274,
                    84,
                    85,
                    146,
                    213,
                    277,
                    123,
                    45,
                    109,
                    525,
                    489,
                    250,
                    70,
                    221,
                    94,
                    176,
                    210,
                    237,
                    75,
                    67,
                    158,
                    149,
                    113,
                    168,
                    208,
                    1842,
                    92,
                    152,
                    121,
                    175,
                    140,
                    1807,
                    58,
                    195,
                    207,
                    202,
                    302,
                    257,
                    111,
                    175,
                    151,
                    132,
                    156,
                    326,
                    144,
                    97,
                    469,
                    193,
                    332,
                    65,
                    113,
                    152,
                    144,
                    188,
                    106,
                    1403,
                    559,
                    211,
                    134,
                    1076,
                    136,
                    56,
                    396,
                    226,
                    352,
                    275,
                    113,
                    167,
                    651,
                    581,
                    52,
                    73,
                    131,
                    250,
                    241,
                    134,
                    107,
                    289,
                    205,
                    454,
                    805,
                    140,
                    49,
                    194,
                    277,
                    810,
                    996,
                    68,
                    77,
                    59,
                    60,
                    394,
                    88,
                    102,
                    106,
                    93,
                    71,
                    217,
                    169,
                    285,
                    98,
                    397,
                    132,
                    87,
                    51,
                    95,
                    81,
                    455,
                    144,
                    178,
                    136,
                    201,
                    204,
                    138,
                    126,
                    83,
                    94,
                    117,
                    117,
                    326,
                    296,
                    122,
                    136,
                    492,
                    116,
                    131,
                    241,
                    222,
                    71,
                    133,
                    154,
                    94,
                    104,
                    244,
                    337,
                    343,
                    88,
                    103,
                    120,
                    79,
                    168,
                    358,
                    145,
                    95,
                    717,
                    1099,
                    214,
                    128,
                    116,
                    169,
                    82,
                    52,
                    104,
                    289,
                    60,
                    61,
                    95,
                    704,
                    175,
                    89,
                    72,
                    125,
                    102,
                    218,
                    95,
                    284,
                    633,
                    97,
                    528,
                    47,
                    89,
                    62,
                    228,
                    235,
                    184,
                    72,
                    76,
                    37,
                    98,
                    126,
                    579,
                    243,
                    665,
                    195,
                    608,
                    109,
                    90,
                    294,
                    96,
                    288,
                    736,
                    132,
                    162,
                    106,
                    126,
                    78,
                    190,
                    1904,
                    234,
                    86,
                    69,
                    123,
                    87,
                    292,
                    56,
                    246,
                    90,
                    916,
                    300,
                    208,
                    99,
                    247,
                    64,
                    591,
                    144,
                    325,
                    301,
                    790,
                    135,
                    333,
                    86,
                    113,
                    237,
                    111,
                    249,
                    83,
                    224,
                    155,
                    95,
                    92,
                    63,
                    492,
                    126,
                    211,
                    83,
                    78,
                    69,
                    118,
                    65,
                    82,
                    597,
                    126,
                    294,
                    264,
                    318,
                    108,
                    187,
                    144,
                    105,
                    135,
                    232,
                    400,
                    92,
                    121,
                    126,
                    65,
                    166,
                    76,
                    163,
                    85,
                    51,
                    146,
                    105,
                    94,
                    266,
                    407,
                    461,
                    270,
                    76,
                    142,
                    150,
                    62,
                    355,
                    96,
                    72,
                    133,
                    238,
                    271,
                    63,
                    92,
                    203,
                    478,
                    168,
                    115,
                    147,
                    408,
                    373,
                    204,
                    89,
                    100,
                    332,
                    446,
                    108,
                    528,
                    1514,
                    185,
                    319,
                    61,
                    217,
                    196,
                    334,
                    275,
                    233,
                    69,
                    68,
                    153,
                    437,
                    744,
                    880,
                    109,
                    120,
                    169,
                    110,
                    394,
                    345,
                    113,
                    106,
                    68,
                    611,
                    75,
                    145,
                    288,
                    494,
                    193,
                    278,
                    129,
                    750,
                    67,
                    86,
                    100,
                    66,
                    476,
                    120,
                    214,
                    116,
                    128,
                    308,
                    357,
                    281,
                    68,
                    1359,
                    825,
                    188,
                    203,
                    60,
                    126,
                    592,
                    659,
                    137,
                    251,
                    116,
                    207,
                    70,
                    190,
                    650,
                    225,
                    138,
                    124,
                    167,
                    58,
                    1575,
                    321,
                    115,
                    95,
                    115,
                    99,
                    407,
                    117,
                    56,
                    208,
                    290,
                    233,
                    180,
                    178,
                    147,
                    198,
                    76,
                    201,
                    2559,
                    734,
                    96,
                    209,
                    60,
                    144,
                    857,
                    203,
                    75,
                    1092,
                    79,
                    1692,
                    720,
                    162,
                    230,
                    123,
                    119,
                    291,
                    101,
                    106,
                    808,
                    183,
                    162,
                    147,
                    67,
                    104,
                    152,
                    206,
                    178,
                    107,
                    206,
                    105,
                    238,
                    2192,
                    72,
                    124,
                    87,
                    321,
                    540,
                    356,
                    156,
                    115,
                    162,
                    187,
                    97,
                    130,
                    159,
                    235,
                    107,
                    468,
                    76,
                    134,
                    97,
                    102,
                    64,
                    100,
                    151,
                    113,
                    190,
                    286,
                    295,
                    38,
                    78,
                    103,
                    85,
                    200,
                    73,
                    320,
                    85,
                    84,
                    84,
                    369,
                    271,
                    208,
                    98,
                    361,
                    138,
                    173,
                    75,
                    748,
                    48,
                    288,
                    127,
                    245,
                    575,
                    371,
                    57,
                    134,
                    93,
                    138,
                    424,
                    93,
                    292,
                    1673,
                    138,
                    112,
                    72,
                    1535,
                    243,
                    200,
                    234,
                    61,
                    116,
                    245,
                    53,
                    84,
                    105,
                    185,
                    175,
                    82,
                    200,
                    133,
                    336,
                    188,
                    150,
                    87,
                    162,
                    201,
                    131,
                    183,
                    69,
                    146,
                    560,
                    178,
                    147,
                    88,
                    112,
                    184,
                    193,
                    177,
                    160,
                    380,
                    112,
                    65,
                    100,
                    168,
                    169,
                    80,
                    99,
                    92,
                    139,
                    66,
                    108,
                    95,
                    121,
                    136,
                    143,
                    90,
                    354,
                    184,
                    472,
                    131,
                    88,
                    221,
                    131,
                    293,
                    58,
                    155,
                    149,
                    245,
                    583,
                    969,
                    111,
                    410,
                    83,
                    88,
                    57,
                    130,
                    135,
                    143,
                    235,
                    54,
                    1148,
                    68,
                    188,
                    139,
                    339,
                    88,
                    68,
                    271,
                    226,
                    1440,
                    254,
                    236,
                    154,
                    101,
                    204,
                    490,
                    141,
                    487,
                    220,
                    120,
                    747,
                    705,
                    237,
                    307,
                    99,
                    133,
                    140,
                    603,
                    77,
                    45,
                    31,
                    169,
                    50,
                    104,
                    274,
                    138,
                    51,
                    541,
                    278,
                    105,
                    107,
                    86,
                    131,
                    182,
                    552,
                    91,
                    296,
                    126,
                    159,
                    128,
                    159,
                    803
                  ]
                },
                {
                  "name": "test",
                  "opacity": 0.5,
                  "type": "histogram",
                  "x": [
                    323,
                    333,
                    1090,
                    806,
                    100,
                    169,
                    129,
                    559,
                    204,
                    105,
                    158,
                    637,
                    287,
                    501,
                    141,
                    121,
                    115,
                    109,
                    99,
                    63,
                    146,
                    247,
                    126,
                    159,
                    157,
                    57,
                    89,
                    88,
                    62,
                    218,
                    322,
                    163,
                    240,
                    84,
                    122,
                    79,
                    320,
                    97,
                    128,
                    441,
                    153,
                    64,
                    2250,
                    85,
                    404,
                    214,
                    81,
                    115,
                    194,
                    67,
                    227,
                    82,
                    229,
                    121,
                    130,
                    197,
                    159,
                    443,
                    141,
                    148,
                    156,
                    117,
                    163,
                    46,
                    141,
                    101,
                    327,
                    118,
                    211,
                    1133,
                    128,
                    95,
                    96,
                    259,
                    204,
                    92,
                    268,
                    440,
                    83,
                    40,
                    292,
                    95,
                    248,
                    89,
                    103,
                    225,
                    80,
                    186,
                    60,
                    87,
                    459,
                    120,
                    77,
                    137,
                    95,
                    162,
                    100,
                    103,
                    132,
                    98,
                    94,
                    37,
                    94,
                    206,
                    87,
                    215,
                    242,
                    194,
                    93,
                    112,
                    104,
                    120,
                    175,
                    360,
                    52,
                    115,
                    107,
                    209,
                    107,
                    227,
                    72,
                    237,
                    659,
                    71,
                    312,
                    125,
                    80,
                    167,
                    85,
                    124,
                    94,
                    83,
                    40,
                    254,
                    115,
                    500,
                    135,
                    82,
                    115,
                    141,
                    455,
                    60,
                    540,
                    117,
                    174,
                    614,
                    71,
                    260,
                    443,
                    126,
                    69,
                    62,
                    658,
                    330,
                    159,
                    50,
                    601,
                    64,
                    101,
                    155,
                    140,
                    418,
                    1662,
                    68,
                    176,
                    204,
                    254,
                    97,
                    160,
                    62,
                    493,
                    469,
                    256,
                    101,
                    57,
                    164,
                    116,
                    110,
                    1031,
                    349,
                    89,
                    720,
                    160,
                    100,
                    82,
                    123,
                    103,
                    185,
                    119,
                    242,
                    239,
                    233,
                    294,
                    86,
                    156,
                    214,
                    329,
                    117,
                    409,
                    389,
                    117,
                    149,
                    89,
                    98,
                    802,
                    71,
                    231,
                    149,
                    131,
                    66,
                    354,
                    113,
                    99,
                    87,
                    101,
                    388,
                    54,
                    104,
                    44,
                    144,
                    683,
                    161,
                    49,
                    97,
                    123,
                    509,
                    101,
                    308,
                    171,
                    957,
                    72,
                    146,
                    301,
                    478,
                    91,
                    60,
                    116,
                    84,
                    99,
                    548,
                    186,
                    247,
                    220,
                    79,
                    136,
                    88,
                    991,
                    210,
                    156,
                    361,
                    114,
                    441,
                    130,
                    225,
                    621,
                    321,
                    345,
                    284,
                    68,
                    39,
                    129,
                    218,
                    137,
                    258
                  ]
                }
              ],
              "layout": {
                "barmode": "overlay",
                "template": {
                  "data": {
                    "bar": [
                      {
                        "error_x": {
                          "color": "#2a3f5f"
                        },
                        "error_y": {
                          "color": "#2a3f5f"
                        },
                        "marker": {
                          "line": {
                            "color": "#E5ECF6",
                            "width": 0.5
                          },
                          "pattern": {
                            "fillmode": "overlay",
                            "size": 10,
                            "solidity": 0.2
                          }
                        },
                        "type": "bar"
                      }
                    ],
                    "barpolar": [
                      {
                        "marker": {
                          "line": {
                            "color": "#E5ECF6",
                            "width": 0.5
                          },
                          "pattern": {
                            "fillmode": "overlay",
                            "size": 10,
                            "solidity": 0.2
                          }
                        },
                        "type": "barpolar"
                      }
                    ],
                    "carpet": [
                      {
                        "aaxis": {
                          "endlinecolor": "#2a3f5f",
                          "gridcolor": "white",
                          "linecolor": "white",
                          "minorgridcolor": "white",
                          "startlinecolor": "#2a3f5f"
                        },
                        "baxis": {
                          "endlinecolor": "#2a3f5f",
                          "gridcolor": "white",
                          "linecolor": "white",
                          "minorgridcolor": "white",
                          "startlinecolor": "#2a3f5f"
                        },
                        "type": "carpet"
                      }
                    ],
                    "choropleth": [
                      {
                        "colorbar": {
                          "outlinewidth": 0,
                          "ticks": ""
                        },
                        "type": "choropleth"
                      }
                    ],
                    "contour": [
                      {
                        "colorbar": {
                          "outlinewidth": 0,
                          "ticks": ""
                        },
                        "colorscale": [
                          [
                            0,
                            "#0d0887"
                          ],
                          [
                            0.1111111111111111,
                            "#46039f"
                          ],
                          [
                            0.2222222222222222,
                            "#7201a8"
                          ],
                          [
                            0.3333333333333333,
                            "#9c179e"
                          ],
                          [
                            0.4444444444444444,
                            "#bd3786"
                          ],
                          [
                            0.5555555555555556,
                            "#d8576b"
                          ],
                          [
                            0.6666666666666666,
                            "#ed7953"
                          ],
                          [
                            0.7777777777777778,
                            "#fb9f3a"
                          ],
                          [
                            0.8888888888888888,
                            "#fdca26"
                          ],
                          [
                            1,
                            "#f0f921"
                          ]
                        ],
                        "type": "contour"
                      }
                    ],
                    "contourcarpet": [
                      {
                        "colorbar": {
                          "outlinewidth": 0,
                          "ticks": ""
                        },
                        "type": "contourcarpet"
                      }
                    ],
                    "heatmap": [
                      {
                        "colorbar": {
                          "outlinewidth": 0,
                          "ticks": ""
                        },
                        "colorscale": [
                          [
                            0,
                            "#0d0887"
                          ],
                          [
                            0.1111111111111111,
                            "#46039f"
                          ],
                          [
                            0.2222222222222222,
                            "#7201a8"
                          ],
                          [
                            0.3333333333333333,
                            "#9c179e"
                          ],
                          [
                            0.4444444444444444,
                            "#bd3786"
                          ],
                          [
                            0.5555555555555556,
                            "#d8576b"
                          ],
                          [
                            0.6666666666666666,
                            "#ed7953"
                          ],
                          [
                            0.7777777777777778,
                            "#fb9f3a"
                          ],
                          [
                            0.8888888888888888,
                            "#fdca26"
                          ],
                          [
                            1,
                            "#f0f921"
                          ]
                        ],
                        "type": "heatmap"
                      }
                    ],
                    "histogram": [
                      {
                        "marker": {
                          "pattern": {
                            "fillmode": "overlay",
                            "size": 10,
                            "solidity": 0.2
                          }
                        },
                        "type": "histogram"
                      }
                    ],
                    "histogram2d": [
                      {
                        "colorbar": {
                          "outlinewidth": 0,
                          "ticks": ""
                        },
                        "colorscale": [
                          [
                            0,
                            "#0d0887"
                          ],
                          [
                            0.1111111111111111,
                            "#46039f"
                          ],
                          [
                            0.2222222222222222,
                            "#7201a8"
                          ],
                          [
                            0.3333333333333333,
                            "#9c179e"
                          ],
                          [
                            0.4444444444444444,
                            "#bd3786"
                          ],
                          [
                            0.5555555555555556,
                            "#d8576b"
                          ],
                          [
                            0.6666666666666666,
                            "#ed7953"
                          ],
                          [
                            0.7777777777777778,
                            "#fb9f3a"
                          ],
                          [
                            0.8888888888888888,
                            "#fdca26"
                          ],
                          [
                            1,
                            "#f0f921"
                          ]
                        ],
                        "type": "histogram2d"
                      }
                    ],
                    "histogram2dcontour": [
                      {
                        "colorbar": {
                          "outlinewidth": 0,
                          "ticks": ""
                        },
                        "colorscale": [
                          [
                            0,
                            "#0d0887"
                          ],
                          [
                            0.1111111111111111,
                            "#46039f"
                          ],
                          [
                            0.2222222222222222,
                            "#7201a8"
                          ],
                          [
                            0.3333333333333333,
                            "#9c179e"
                          ],
                          [
                            0.4444444444444444,
                            "#bd3786"
                          ],
                          [
                            0.5555555555555556,
                            "#d8576b"
                          ],
                          [
                            0.6666666666666666,
                            "#ed7953"
                          ],
                          [
                            0.7777777777777778,
                            "#fb9f3a"
                          ],
                          [
                            0.8888888888888888,
                            "#fdca26"
                          ],
                          [
                            1,
                            "#f0f921"
                          ]
                        ],
                        "type": "histogram2dcontour"
                      }
                    ],
                    "mesh3d": [
                      {
                        "colorbar": {
                          "outlinewidth": 0,
                          "ticks": ""
                        },
                        "type": "mesh3d"
                      }
                    ],
                    "parcoords": [
                      {
                        "line": {
                          "colorbar": {
                            "outlinewidth": 0,
                            "ticks": ""
                          }
                        },
                        "type": "parcoords"
                      }
                    ],
                    "pie": [
                      {
                        "automargin": true,
                        "type": "pie"
                      }
                    ],
                    "scatter": [
                      {
                        "fillpattern": {
                          "fillmode": "overlay",
                          "size": 10,
                          "solidity": 0.2
                        },
                        "type": "scatter"
                      }
                    ],
                    "scatter3d": [
                      {
                        "line": {
                          "colorbar": {
                            "outlinewidth": 0,
                            "ticks": ""
                          }
                        },
                        "marker": {
                          "colorbar": {
                            "outlinewidth": 0,
                            "ticks": ""
                          }
                        },
                        "type": "scatter3d"
                      }
                    ],
                    "scattercarpet": [
                      {
                        "marker": {
                          "colorbar": {
                            "outlinewidth": 0,
                            "ticks": ""
                          }
                        },
                        "type": "scattercarpet"
                      }
                    ],
                    "scattergeo": [
                      {
                        "marker": {
                          "colorbar": {
                            "outlinewidth": 0,
                            "ticks": ""
                          }
                        },
                        "type": "scattergeo"
                      }
                    ],
                    "scattergl": [
                      {
                        "marker": {
                          "colorbar": {
                            "outlinewidth": 0,
                            "ticks": ""
                          }
                        },
                        "type": "scattergl"
                      }
                    ],
                    "scattermap": [
                      {
                        "marker": {
                          "colorbar": {
                            "outlinewidth": 0,
                            "ticks": ""
                          }
                        },
                        "type": "scattermap"
                      }
                    ],
                    "scattermapbox": [
                      {
                        "marker": {
                          "colorbar": {
                            "outlinewidth": 0,
                            "ticks": ""
                          }
                        },
                        "type": "scattermapbox"
                      }
                    ],
                    "scatterpolar": [
                      {
                        "marker": {
                          "colorbar": {
                            "outlinewidth": 0,
                            "ticks": ""
                          }
                        },
                        "type": "scatterpolar"
                      }
                    ],
                    "scatterpolargl": [
                      {
                        "marker": {
                          "colorbar": {
                            "outlinewidth": 0,
                            "ticks": ""
                          }
                        },
                        "type": "scatterpolargl"
                      }
                    ],
                    "scatterternary": [
                      {
                        "marker": {
                          "colorbar": {
                            "outlinewidth": 0,
                            "ticks": ""
                          }
                        },
                        "type": "scatterternary"
                      }
                    ],
                    "surface": [
                      {
                        "colorbar": {
                          "outlinewidth": 0,
                          "ticks": ""
                        },
                        "colorscale": [
                          [
                            0,
                            "#0d0887"
                          ],
                          [
                            0.1111111111111111,
                            "#46039f"
                          ],
                          [
                            0.2222222222222222,
                            "#7201a8"
                          ],
                          [
                            0.3333333333333333,
                            "#9c179e"
                          ],
                          [
                            0.4444444444444444,
                            "#bd3786"
                          ],
                          [
                            0.5555555555555556,
                            "#d8576b"
                          ],
                          [
                            0.6666666666666666,
                            "#ed7953"
                          ],
                          [
                            0.7777777777777778,
                            "#fb9f3a"
                          ],
                          [
                            0.8888888888888888,
                            "#fdca26"
                          ],
                          [
                            1,
                            "#f0f921"
                          ]
                        ],
                        "type": "surface"
                      }
                    ],
                    "table": [
                      {
                        "cells": {
                          "fill": {
                            "color": "#EBF0F8"
                          },
                          "line": {
                            "color": "white"
                          }
                        },
                        "header": {
                          "fill": {
                            "color": "#C8D4E3"
                          },
                          "line": {
                            "color": "white"
                          }
                        },
                        "type": "table"
                      }
                    ]
                  },
                  "layout": {
                    "annotationdefaults": {
                      "arrowcolor": "#2a3f5f",
                      "arrowhead": 0,
                      "arrowwidth": 1
                    },
                    "autotypenumbers": "strict",
                    "coloraxis": {
                      "colorbar": {
                        "outlinewidth": 0,
                        "ticks": ""
                      }
                    },
                    "colorscale": {
                      "diverging": [
                        [
                          0,
                          "#8e0152"
                        ],
                        [
                          0.1,
                          "#c51b7d"
                        ],
                        [
                          0.2,
                          "#de77ae"
                        ],
                        [
                          0.3,
                          "#f1b6da"
                        ],
                        [
                          0.4,
                          "#fde0ef"
                        ],
                        [
                          0.5,
                          "#f7f7f7"
                        ],
                        [
                          0.6,
                          "#e6f5d0"
                        ],
                        [
                          0.7,
                          "#b8e186"
                        ],
                        [
                          0.8,
                          "#7fbc41"
                        ],
                        [
                          0.9,
                          "#4d9221"
                        ],
                        [
                          1,
                          "#276419"
                        ]
                      ],
                      "sequential": [
                        [
                          0,
                          "#0d0887"
                        ],
                        [
                          0.1111111111111111,
                          "#46039f"
                        ],
                        [
                          0.2222222222222222,
                          "#7201a8"
                        ],
                        [
                          0.3333333333333333,
                          "#9c179e"
                        ],
                        [
                          0.4444444444444444,
                          "#bd3786"
                        ],
                        [
                          0.5555555555555556,
                          "#d8576b"
                        ],
                        [
                          0.6666666666666666,
                          "#ed7953"
                        ],
                        [
                          0.7777777777777778,
                          "#fb9f3a"
                        ],
                        [
                          0.8888888888888888,
                          "#fdca26"
                        ],
                        [
                          1,
                          "#f0f921"
                        ]
                      ],
                      "sequentialminus": [
                        [
                          0,
                          "#0d0887"
                        ],
                        [
                          0.1111111111111111,
                          "#46039f"
                        ],
                        [
                          0.2222222222222222,
                          "#7201a8"
                        ],
                        [
                          0.3333333333333333,
                          "#9c179e"
                        ],
                        [
                          0.4444444444444444,
                          "#bd3786"
                        ],
                        [
                          0.5555555555555556,
                          "#d8576b"
                        ],
                        [
                          0.6666666666666666,
                          "#ed7953"
                        ],
                        [
                          0.7777777777777778,
                          "#fb9f3a"
                        ],
                        [
                          0.8888888888888888,
                          "#fdca26"
                        ],
                        [
                          1,
                          "#f0f921"
                        ]
                      ]
                    },
                    "colorway": [
                      "#636efa",
                      "#EF553B",
                      "#00cc96",
                      "#ab63fa",
                      "#FFA15A",
                      "#19d3f3",
                      "#FF6692",
                      "#B6E880",
                      "#FF97FF",
                      "#FECB52"
                    ],
                    "font": {
                      "color": "#2a3f5f"
                    },
                    "geo": {
                      "bgcolor": "white",
                      "lakecolor": "white",
                      "landcolor": "#E5ECF6",
                      "showlakes": true,
                      "showland": true,
                      "subunitcolor": "white"
                    },
                    "hoverlabel": {
                      "align": "left"
                    },
                    "hovermode": "closest",
                    "mapbox": {
                      "style": "light"
                    },
                    "paper_bgcolor": "white",
                    "plot_bgcolor": "#E5ECF6",
                    "polar": {
                      "angularaxis": {
                        "gridcolor": "white",
                        "linecolor": "white",
                        "ticks": ""
                      },
                      "bgcolor": "#E5ECF6",
                      "radialaxis": {
                        "gridcolor": "white",
                        "linecolor": "white",
                        "ticks": ""
                      }
                    },
                    "scene": {
                      "xaxis": {
                        "backgroundcolor": "#E5ECF6",
                        "gridcolor": "white",
                        "gridwidth": 2,
                        "linecolor": "white",
                        "showbackground": true,
                        "ticks": "",
                        "zerolinecolor": "white"
                      },
                      "yaxis": {
                        "backgroundcolor": "#E5ECF6",
                        "gridcolor": "white",
                        "gridwidth": 2,
                        "linecolor": "white",
                        "showbackground": true,
                        "ticks": "",
                        "zerolinecolor": "white"
                      },
                      "zaxis": {
                        "backgroundcolor": "#E5ECF6",
                        "gridcolor": "white",
                        "gridwidth": 2,
                        "linecolor": "white",
                        "showbackground": true,
                        "ticks": "",
                        "zerolinecolor": "white"
                      }
                    },
                    "shapedefaults": {
                      "line": {
                        "color": "#2a3f5f"
                      }
                    },
                    "ternary": {
                      "aaxis": {
                        "gridcolor": "white",
                        "linecolor": "white",
                        "ticks": ""
                      },
                      "baxis": {
                        "gridcolor": "white",
                        "linecolor": "white",
                        "ticks": ""
                      },
                      "bgcolor": "#E5ECF6",
                      "caxis": {
                        "gridcolor": "white",
                        "linecolor": "white",
                        "ticks": ""
                      }
                    },
                    "title": {
                      "x": 0.05
                    },
                    "xaxis": {
                      "automargin": true,
                      "gridcolor": "white",
                      "linecolor": "white",
                      "ticks": "",
                      "title": {
                        "standoff": 15
                      },
                      "zerolinecolor": "white",
                      "zerolinewidth": 2
                    },
                    "yaxis": {
                      "automargin": true,
                      "gridcolor": "white",
                      "linecolor": "white",
                      "ticks": "",
                      "title": {
                        "standoff": 15
                      },
                      "zerolinecolor": "white",
                      "zerolinewidth": 2
                    }
                  }
                },
                "title": {
                  "text": "Sample length distribution"
                }
              }
            }
          },
          "metadata": {},
          "output_type": "display_data"
        }
      ],
      "source": [
        "count0 = [len(s) for s in xtrain]\n",
        "# count1 = [len(s) for s in xdev]\n",
        "count2 = [len(s) for s in xtest]\n",
        "\n",
        "fig = go.Figure()\n",
        "fig.add_trace(go.Histogram(x=count0, name='train'))\n",
        "# fig.add_trace(go.Histogram(x=count1, name='dev'))\n",
        "fig.add_trace(go.Histogram(x=count2, name='test'))\n",
        "\n",
        "fig.update_layout(title='Sample length distribution', barmode='overlay')\n",
        "fig.update_traces(opacity=0.5)"
      ]
    },
    {
      "attachments": {},
      "cell_type": "markdown",
      "metadata": {
        "id": "F0sd4C9fO739"
      },
      "source": [
        "#Out of Vocab"
      ]
    },
    {
      "cell_type": "code",
      "execution_count": 75,
      "metadata": {
        "colab": {
          "base_uri": "https://localhost:8080/"
        },
        "id": "iIUVrfpiPBsv",
        "outputId": "27d6b868-8293-4809-bcb7-3c454d559fe0"
      },
      "outputs": [
        {
          "data": {
            "text/plain": [
              "0       tại reo campsite bbq mình thấy bạn hướng_dẫn_v...\n",
              "1       cảnh đẹp mát_mẻ nhân_viên thân_thiện chỗ mình ...\n",
              "2       cảm_nhận của mình về forest scent glamping chi...\n",
              "3       ở forest scent glamping_chill mình đã trải_ngh...\n",
              "4       nói về reo campsite bbq á_hả thì nơi tốt_đẹp t...\n",
              "                              ...                        \n",
              "1084    đây là trải_nghiệm chân_thật của mình ở reo ca...\n",
              "1085    đồ_ăn chưa xứng với giá tiền nhân_viên ca chiề...\n",
              "1086    khi đến forest scent để cắm trại tôi nhận ra r...\n",
              "1087    tôi có dịp cắm trại tại reo campsite bbq tôi c...\n",
              "1088    trong chuyến đi đà_lạt này tôi đã ghé nhà_hàng...\n",
              "Name: review, Length: 1089, dtype: object"
            ]
          },
          "execution_count": 75,
          "metadata": {},
          "output_type": "execute_result"
        }
      ],
      "source": [
        "xtrain"
      ]
    },
    {
      "cell_type": "code",
      "execution_count": 76,
      "metadata": {
        "id": "mQNgeFaJO7X4"
      },
      "outputs": [],
      "source": [
        "train_vocabulary = set()\n",
        "for line in xtrain:\n",
        "    words = line.strip().split()\n",
        "    train_vocabulary.update(words)\n",
        "\n",
        "# Tạo từ vựng của tập test\n",
        "test_vocabulary = set()\n",
        "for line in xtest:\n",
        "    words = line.strip().split()\n",
        "    test_vocabulary.update(words)\n",
        "\n",
        "# # Tạo từ vựng của tập val\n",
        "# val_vocabulary = set()\n",
        "# for line in xdev:\n",
        "#     words = line.strip().split()\n",
        "#     val_vocabulary.update(words)"
      ]
    },
    {
      "cell_type": "code",
      "execution_count": 77,
      "metadata": {
        "colab": {
          "base_uri": "https://localhost:8080/"
        },
        "id": "hEpywaQ0PPIN",
        "outputId": "dd931fc2-dbf4-4614-c20b-79e5d2ddfa8a"
      },
      "outputs": [
        {
          "name": "stdout",
          "output_type": "stream",
          "text": [
            "Số lượng từ vựng tập train:  4051\n",
            "Số lượng từ vựng tập test:  1809\n",
            "Số lượng từ vựng nằm ngoài tập train của tập test:  427\n"
          ]
        }
      ],
      "source": [
        "print(\"Số lượng từ vựng tập train: \", len(train_vocabulary))\n",
        "# print(\"Số lượng từ vựng tập val: \", len(val_vocabulary))\n",
        "print(\"Số lượng từ vựng tập test: \", len(test_vocabulary))\n",
        "\n",
        "# print(\"Số lượng từ vựng nằm ngoài tập train của tập val: \", len(val_vocabulary - train_vocabulary))\n",
        "print(\"Số lượng từ vựng nằm ngoài tập train của tập test: \", len(test_vocabulary - train_vocabulary))"
      ]
    },
    {
      "attachments": {},
      "cell_type": "markdown",
      "metadata": {
        "id": "tz4aAURfgKIW"
      },
      "source": [
        "# Feature extraction (Convert reviews to vectors)"
      ]
    },
    {
      "attachments": {},
      "cell_type": "markdown",
      "metadata": {
        "id": "v2UquVpDgbvH"
      },
      "source": [
        "##  Basic features (1, 2, 3 grams)\n"
      ]
    },
    {
      "cell_type": "code",
      "execution_count": 78,
      "metadata": {
        "id": "YTpdlwwCgY2o"
      },
      "outputs": [],
      "source": [
        "from sklearn.feature_extraction.text import TfidfVectorizer\n",
        "\n",
        "vectorizer = TfidfVectorizer(ngram_range=(1, 3),\n",
        "                             min_df=2, max_df=0.9)\n",
        "\n",
        "# x data using basic clean up class and basic features extrator\n",
        "xtrain_tfidf = vectorizer.fit_transform(xtrain)\n",
        "# xdev_tfidf   = vectorizer.transform(xdev)\n",
        "xtest_tfidf  = vectorizer.transform(xtest)\n"
      ]
    },
    {
      "cell_type": "code",
      "execution_count": 79,
      "metadata": {
        "colab": {
          "base_uri": "https://localhost:8080/"
        },
        "id": "egBRGMSHncKX",
        "outputId": "8105a4c7-ecfe-4b2b-8fe1-0942a7562256"
      },
      "outputs": [
        {
          "data": {
            "text/plain": [
              "(1089, 9708)"
            ]
          },
          "execution_count": 79,
          "metadata": {},
          "output_type": "execute_result"
        }
      ],
      "source": [
        "xtrain_tfidf.shape"
      ]
    },
    {
      "attachments": {},
      "cell_type": "markdown",
      "metadata": {
        "cell_id": "00008-3e35d1d6-b9cd-4dc2-a45e-ccf833534cd9",
        "deepnote_cell_type": "markdown",
        "id": "ppKYl2LZPra0",
        "tags": []
      },
      "source": [
        "# Model Architectures"
      ]
    },
    {
      "attachments": {},
      "cell_type": "markdown",
      "metadata": {
        "id": "rFrqY_VnqN-2"
      },
      "source": [
        "## End-to-End Architecture"
      ]
    },
    {
      "cell_type": "code",
      "execution_count": 80,
      "metadata": {
        "id": "Hpwu1HJLqWmT"
      },
      "outputs": [],
      "source": [
        "from sklearn.multioutput import MultiOutputClassifier as MOC"
      ]
    },
    {
      "attachments": {},
      "cell_type": "markdown",
      "metadata": {
        "cell_id": "00011-0d327c11-f739-49f4-b198-560e8b9d6e52",
        "deepnote_cell_type": "markdown",
        "id": "J7cEYevzPrbB",
        "tags": []
      },
      "source": [
        "# Evaluation functions"
      ]
    },
    {
      "cell_type": "code",
      "execution_count": 81,
      "metadata": {
        "colab": {
          "base_uri": "https://localhost:8080/"
        },
        "id": "UWRymi7IuI7M",
        "outputId": "8c374ab0-b37d-4dff-a153-b179d7ecdfff"
      },
      "outputs": [],
      "source": [
        "#!pip install transformers"
      ]
    },
    {
      "cell_type": "code",
      "execution_count": 82,
      "metadata": {
        "id": "RJ952C7RUM6Y"
      },
      "outputs": [],
      "source": [
        "from sklearn.metrics import f1_score, classification_report\n",
        "from eval import label_map, replacements, target_names, aspect_detection_eval, sentiment_classification_eval, combination_eval\n",
        "\n",
        "categories= list(ytest.columns)\n",
        "\n",
        "def quick_f1(y_true, y_pred):\n",
        "    y_pred = mo2ml(mo2df(y_pred))\n",
        "    return round(f1_score(y_true, y_pred, average='micro', zero_division=0), 4)\n",
        "\n",
        "def evaluate(model, X, y, average='micro'):\n",
        "    yb_true  = mo2ml(y)\n",
        "\n",
        "    yb_pred  = mo2df(model.predict(X))\n",
        "    yb_pred  = mo2ml(yb_pred)\n",
        "\n",
        "    return classification_report(yb_true, yb_pred, zero_division=0)"
      ]
    },
    {
      "attachments": {},
      "cell_type": "markdown",
      "metadata": {
        "id": "1mOvkWcI-j4u"
      },
      "source": [
        "# Compare models"
      ]
    },
    {
      "attachments": {},
      "cell_type": "markdown",
      "metadata": {
        "id": "6quUiO0590xf"
      },
      "source": [
        "## Base Model"
      ]
    },
    {
      "cell_type": "code",
      "execution_count": 83,
      "metadata": {
        "id": "AS1uwzHL2FEq"
      },
      "outputs": [],
      "source": [
        "from sklearn.svm import LinearSVC\n",
        "from sklearn.linear_model import LogisticRegression"
      ]
    },
    {
      "cell_type": "code",
      "execution_count": 84,
      "metadata": {
        "id": "vL6MjQ6kmLwm"
      },
      "outputs": [],
      "source": [
        "clf0 = MOC(LinearSVC(random_state=5))\n",
        "clf0.fit(xtrain_tfidf, ytrain)\n",
        "ypred= clf0.predict(xtest_tfidf)"
      ]
    },
    {
      "cell_type": "code",
      "execution_count": 85,
      "metadata": {
        "id": "dQlvCT30vSr4"
      },
      "outputs": [],
      "source": [
        "ypred= pd.DataFrame(ypred, columns= categories)"
      ]
    },
    {
      "cell_type": "code",
      "execution_count": 86,
      "metadata": {
        "colab": {
          "base_uri": "https://localhost:8080/"
        },
        "id": "q-fISOS2v9dr",
        "outputId": "a60fc6c5-0270-4722-f99f-3e54ca2738d9"
      },
      "outputs": [
        {
          "name": "stdout",
          "output_type": "stream",
          "text": [
            "## Aspect Detection Evaluate ##\n",
            "                        precision    recall  f1-score   support\n",
            "\n",
            "                           0.8505    0.9685    0.9057      1016\n",
            "ENVIRONMENT#ATMOSPHERE     0.9348    0.5658    0.7049        76\n",
            "   ENVIRONMENT#SCENERY     0.9286    0.7982    0.8585       114\n",
            "   ENVIRONMENT#WEATHER     0.9474    0.7692    0.8491       117\n",
            "              LOCATION     0.9474    0.4091    0.5714        44\n",
            "                 PRICE     0.8438    0.4355    0.5745        62\n",
            "         SERVICE#STAFF     0.9197    0.8129    0.8630       155\n",
            "\n",
            "              accuracy                         0.8706      1584\n",
            "             macro avg     0.9103    0.6799    0.7610      1584\n",
            "          weighted avg     0.8765    0.8706    0.8620      1584\n",
            "\n"
          ]
        }
      ],
      "source": [
        "aspect_detection_eval(ytest, ypred)"
      ]
    },
    {
      "cell_type": "code",
      "execution_count": 87,
      "metadata": {
        "colab": {
          "base_uri": "https://localhost:8080/"
        },
        "id": "p7ew2UrdysbI",
        "outputId": "bbbe7c3f-b896-41cc-c49f-1e1d5c1170c4"
      },
      "outputs": [
        {
          "name": "stdout",
          "output_type": "stream",
          "text": [
            "## Sentiment Classification Evaluate ##\n",
            "              precision    recall  f1-score   support\n",
            "\n",
            "        None     0.8505    0.9685    0.9057      1016\n",
            "    negative     0.6667    0.0870    0.1538        23\n",
            "     neutral     0.5714    0.2759    0.3721       145\n",
            "    positive     0.8079    0.7150    0.7586       400\n",
            "\n",
            "    accuracy                         0.8283      1584\n",
            "   macro avg     0.7241    0.5116    0.5476      1584\n",
            "weighted avg     0.8115    0.8283    0.8088      1584\n",
            "\n"
          ]
        }
      ],
      "source": [
        "sentiment_classification_eval(ytest, ypred)"
      ]
    },
    {
      "cell_type": "code",
      "execution_count": 88,
      "metadata": {
        "colab": {
          "base_uri": "https://localhost:8080/"
        },
        "id": "KhF7DcqPwDAW",
        "outputId": "9c5e184a-fb57-4381-ca94-03df97fdda92"
      },
      "outputs": [
        {
          "name": "stdout",
          "output_type": "stream",
          "text": [
            "## Combination Evaluate (Aspect Detection + Sentiment Classification) ##\n",
            "                                 precision    recall  f1-score   support\n",
            "\n",
            "    ENVIRONMENT#ATMOSPHERE,None     0.8486    0.9840    0.9113       188\n",
            "ENVIRONMENT#ATMOSPHERE,negative     1.0000    0.0000    0.0000         1\n",
            " ENVIRONMENT#ATMOSPHERE,neutral     0.2000    0.0500    0.0800        20\n",
            "ENVIRONMENT#ATMOSPHERE,positive     0.7805    0.5818    0.6667        55\n",
            "       ENVIRONMENT#SCENERY,None     0.8614    0.9533    0.9051       150\n",
            "   ENVIRONMENT#SCENERY,negative     1.0000    0.0000    0.0000         3\n",
            "   ENVIRONMENT#SCENERY,positive     0.8980    0.7928    0.8421       111\n",
            "       ENVIRONMENT#WEATHER,None     0.8402    0.9660    0.8987       147\n",
            "   ENVIRONMENT#WEATHER,negative     1.0000    0.0000    0.0000         1\n",
            "    ENVIRONMENT#WEATHER,neutral     0.5652    0.3611    0.4407        36\n",
            "   ENVIRONMENT#WEATHER,positive     0.7917    0.7125    0.7500        80\n",
            "                  LOCATION,None     0.8939    0.9955    0.9419       220\n",
            "              LOCATION,negative     1.0000    0.2500    0.4000         4\n",
            "              LOCATION,positive     0.8333    0.3750    0.5172        40\n",
            "                     PRICE,None     0.8491    0.9752    0.9078       202\n",
            "                 PRICE,negative     1.0000    0.0000    0.0000         5\n",
            "                  PRICE,neutral     0.5862    0.3696    0.4533        46\n",
            "                 PRICE,positive     1.0000    0.2727    0.4286        11\n",
            "             SERVICE#STAFF,None     0.7717    0.8991    0.8305       109\n",
            "         SERVICE#STAFF,negative     0.5000    0.1111    0.1818         9\n",
            "          SERVICE#STAFF,neutral     0.6923    0.2093    0.3214        43\n",
            "         SERVICE#STAFF,positive     0.7459    0.8835    0.8089       103\n",
            "\n",
            "                       accuracy                         0.8283      1584\n",
            "                      macro avg     0.8026    0.4883    0.5130      1584\n",
            "                   weighted avg     0.8152    0.8283    0.8047      1584\n",
            "\n"
          ]
        }
      ],
      "source": [
        "combination_eval(ytest, ypred)"
      ]
    },
    {
      "cell_type": "code",
      "execution_count": 276,
      "metadata": {},
      "outputs": [],
      "source": [
        "import pickle\n",
        "\n",
        "model_package = {\n",
        "    'vectorizer': vectorizer,\n",
        "    'model': clf0\n",
        "}\n",
        "\n",
        "with open(r'F:\\Studies\\Third_year\\Big_data\\Final_Code\\Model\\ABSA_models\\tfidf_linear_svc_campings.pkl', 'wb') as f:\n",
        "    pickle.dump(model_package, f)\n"
      ]
    },
    {
      "cell_type": "code",
      "execution_count": 277,
      "metadata": {},
      "outputs": [],
      "source": [
        "import pickle\n",
        "with open(r'F:\\Studies\\Third_year\\Big_data\\Final_Code\\Model\\ABSA_models\\tfidf_linear_svc_campings.pkl', 'rb') as f:\n",
        "    package = pickle.load(f)\n",
        "vectorizer_loaded = package['vectorizer']\n",
        "clf_loaded = package['model']"
      ]
    },
    {
      "cell_type": "code",
      "execution_count": 86,
      "metadata": {},
      "outputs": [
        {
          "name": "stdout",
          "output_type": "stream",
          "text": [
            "[[0 0 2 0 0 0 0 0 0 0 0 0 3 0 0]]\n"
          ]
        }
      ],
      "source": [
        "# Text cần predict\n",
        "text = \"phòng sạch sẽ\"\n",
        "\n",
        "# B1: Biến text thành vector TF-IDF\n",
        "text_tfidf = vectorizer_loaded.transform([text])  # dùng [text] để thành shape (1, n_features)\n",
        "\n",
        "# B2: Dùng clf0.predict để dự đoán\n",
        "ypred_single = clf_loaded.predict(text_tfidf)\n",
        "\n",
        "print(ypred_single)"
      ]
    },
    {
      "cell_type": "code",
      "execution_count": 87,
      "metadata": {},
      "outputs": [
        {
          "data": {
            "text/plain": [
              "{'HOTEL#FACILITIES': 'NEUTRAL', 'ROOM#CLEANLINESS': 'POSITIVE'}"
            ]
          },
          "execution_count": 87,
          "metadata": {},
          "output_type": "execute_result"
        }
      ],
      "source": [
        "aspects = cfg['aspect']\n",
        "sentiment_map = {\n",
        "    1: 'NEGATIVE',\n",
        "    2: 'NEUTRAL',\n",
        "    3: 'POSITIVE'\n",
        "}\n",
        "\n",
        "\n",
        "def decode_prediction(pred_array, aspects, sentiment_map):\n",
        "    pred_array = np.array(pred_array).flatten() \n",
        "\n",
        "    result = {}\n",
        "    for aspect, sentiment_id in zip(aspects, pred_array):\n",
        "        if sentiment_id != 0: \n",
        "            result[aspect] = sentiment_map[sentiment_id]\n",
        "\n",
        "    return result\n",
        "\n",
        "decode_prediction(ypred_single, aspects, sentiment_map)"
      ]
    },
    {
      "attachments": {},
      "cell_type": "markdown",
      "metadata": {
        "id": "A-QGBUgCLzPE"
      },
      "source": [
        "## Linear SVC hyperparameter tuning"
      ]
    },
    {
      "cell_type": "code",
      "execution_count": 34,
      "metadata": {
        "id": "NAh9wdhKpp1h"
      },
      "outputs": [],
      "source": [
        "import optuna\n",
        "from optuna.samplers import TPESampler"
      ]
    },
    {
      "cell_type": "code",
      "execution_count": 35,
      "metadata": {
        "id": "XwgrmIMsHkUq"
      },
      "outputs": [],
      "source": [
        "def callback(study, trial):\n",
        "    if study.best_trial.number == trial.number:\n",
        "        study.set_user_attr(key='best_model', value=trial.user_attrs['model'])"
      ]
    },
    {
      "cell_type": "code",
      "execution_count": 43,
      "metadata": {
        "colab": {
          "base_uri": "https://localhost:8080/"
        },
        "id": "4EHONgBRprGE",
        "outputId": "375b9758-c110-4aab-b251-fbeac3f23093"
      },
      "outputs": [
        {
          "name": "stderr",
          "output_type": "stream",
          "text": [
            "[I 2025-07-09 13:24:22,820] A new study created in memory with name: no-name-4d4a19f1-d7d5-4e24-8cf3-4f75d23e85a7\n",
            "c:\\Users\\ADMIN\\.conda\\envs\\prj__env\\Lib\\site-packages\\sklearn\\svm\\_base.py:1249: ConvergenceWarning:\n",
            "\n",
            "Liblinear failed to converge, increase the number of iterations.\n",
            "\n",
            "c:\\Users\\ADMIN\\.conda\\envs\\prj__env\\Lib\\site-packages\\sklearn\\svm\\_base.py:1249: ConvergenceWarning:\n",
            "\n",
            "Liblinear failed to converge, increase the number of iterations.\n",
            "\n",
            "[I 2025-07-09 13:25:50,720] Trial 0 finished with value: 0.8338 and parameters: {'C': 1, 'class_weight': 'balanced', 'loss': 'hinge'}. Best is trial 0 with value: 0.8338.\n",
            "c:\\Users\\ADMIN\\.conda\\envs\\prj__env\\Lib\\site-packages\\sklearn\\svm\\_base.py:1249: ConvergenceWarning:\n",
            "\n",
            "Liblinear failed to converge, increase the number of iterations.\n",
            "\n",
            "c:\\Users\\ADMIN\\.conda\\envs\\prj__env\\Lib\\site-packages\\sklearn\\svm\\_base.py:1249: ConvergenceWarning:\n",
            "\n",
            "Liblinear failed to converge, increase the number of iterations.\n",
            "\n",
            "c:\\Users\\ADMIN\\.conda\\envs\\prj__env\\Lib\\site-packages\\sklearn\\svm\\_base.py:1249: ConvergenceWarning:\n",
            "\n",
            "Liblinear failed to converge, increase the number of iterations.\n",
            "\n",
            "c:\\Users\\ADMIN\\.conda\\envs\\prj__env\\Lib\\site-packages\\sklearn\\svm\\_base.py:1249: ConvergenceWarning:\n",
            "\n",
            "Liblinear failed to converge, increase the number of iterations.\n",
            "\n",
            "c:\\Users\\ADMIN\\.conda\\envs\\prj__env\\Lib\\site-packages\\sklearn\\svm\\_base.py:1249: ConvergenceWarning:\n",
            "\n",
            "Liblinear failed to converge, increase the number of iterations.\n",
            "\n",
            "[I 2025-07-09 13:28:46,624] Trial 1 finished with value: 0.8183 and parameters: {'C': 10, 'class_weight': None, 'loss': 'hinge'}. Best is trial 0 with value: 0.8338.\n",
            "[I 2025-07-09 13:30:45,530] Trial 2 finished with value: 0.8179 and parameters: {'C': 10, 'class_weight': 'balanced', 'loss': 'squared_hinge'}. Best is trial 0 with value: 0.8338.\n",
            "[I 2025-07-09 13:30:52,324] Trial 3 finished with value: 0.4555 and parameters: {'C': 0.01, 'class_weight': None, 'loss': 'hinge'}. Best is trial 0 with value: 0.8338.\n",
            "[I 2025-07-09 13:31:10,196] Trial 4 finished with value: 0.8332 and parameters: {'C': 1, 'class_weight': 'balanced', 'loss': 'squared_hinge'}. Best is trial 0 with value: 0.8338.\n",
            "[I 2025-07-09 13:31:17,697] Trial 5 finished with value: 0.4555 and parameters: {'C': 0.01, 'class_weight': None, 'loss': 'hinge'}. Best is trial 0 with value: 0.8338.\n",
            "[I 2025-07-09 13:31:23,820] Trial 6 finished with value: 0.5587 and parameters: {'C': 0.01, 'class_weight': None, 'loss': 'squared_hinge'}. Best is trial 0 with value: 0.8338.\n",
            "c:\\Users\\ADMIN\\.conda\\envs\\prj__env\\Lib\\site-packages\\sklearn\\svm\\_base.py:1249: ConvergenceWarning:\n",
            "\n",
            "Liblinear failed to converge, increase the number of iterations.\n",
            "\n",
            "c:\\Users\\ADMIN\\.conda\\envs\\prj__env\\Lib\\site-packages\\sklearn\\svm\\_base.py:1249: ConvergenceWarning:\n",
            "\n",
            "Liblinear failed to converge, increase the number of iterations.\n",
            "\n",
            "[I 2025-07-09 13:35:11,105] Trial 7 finished with value: 0.8204 and parameters: {'C': 10, 'class_weight': 'balanced', 'loss': 'hinge'}. Best is trial 0 with value: 0.8338.\n",
            "[I 2025-07-09 13:36:47,278] Trial 8 finished with value: 0.8159 and parameters: {'C': 10, 'class_weight': None, 'loss': 'squared_hinge'}. Best is trial 0 with value: 0.8338.\n",
            "c:\\Users\\ADMIN\\.conda\\envs\\prj__env\\Lib\\site-packages\\sklearn\\svm\\_base.py:1249: ConvergenceWarning:\n",
            "\n",
            "Liblinear failed to converge, increase the number of iterations.\n",
            "\n",
            "c:\\Users\\ADMIN\\.conda\\envs\\prj__env\\Lib\\site-packages\\sklearn\\svm\\_base.py:1249: ConvergenceWarning:\n",
            "\n",
            "Liblinear failed to converge, increase the number of iterations.\n",
            "\n",
            "[I 2025-07-09 13:40:41,386] Trial 9 finished with value: 0.8204 and parameters: {'C': 10, 'class_weight': 'balanced', 'loss': 'hinge'}. Best is trial 0 with value: 0.8338.\n",
            "c:\\Users\\ADMIN\\.conda\\envs\\prj__env\\Lib\\site-packages\\sklearn\\svm\\_base.py:1249: ConvergenceWarning:\n",
            "\n",
            "Liblinear failed to converge, increase the number of iterations.\n",
            "\n",
            "c:\\Users\\ADMIN\\.conda\\envs\\prj__env\\Lib\\site-packages\\sklearn\\svm\\_base.py:1249: ConvergenceWarning:\n",
            "\n",
            "Liblinear failed to converge, increase the number of iterations.\n",
            "\n",
            "[I 2025-07-09 13:42:39,228] Trial 10 finished with value: 0.8338 and parameters: {'C': 1, 'class_weight': 'balanced', 'loss': 'hinge'}. Best is trial 0 with value: 0.8338.\n",
            "c:\\Users\\ADMIN\\.conda\\envs\\prj__env\\Lib\\site-packages\\sklearn\\svm\\_base.py:1249: ConvergenceWarning:\n",
            "\n",
            "Liblinear failed to converge, increase the number of iterations.\n",
            "\n",
            "c:\\Users\\ADMIN\\.conda\\envs\\prj__env\\Lib\\site-packages\\sklearn\\svm\\_base.py:1249: ConvergenceWarning:\n",
            "\n",
            "Liblinear failed to converge, increase the number of iterations.\n",
            "\n",
            "[I 2025-07-09 13:44:40,647] Trial 11 finished with value: 0.8338 and parameters: {'C': 1, 'class_weight': 'balanced', 'loss': 'hinge'}. Best is trial 0 with value: 0.8338.\n",
            "c:\\Users\\ADMIN\\.conda\\envs\\prj__env\\Lib\\site-packages\\sklearn\\svm\\_base.py:1249: ConvergenceWarning:\n",
            "\n",
            "Liblinear failed to converge, increase the number of iterations.\n",
            "\n",
            "c:\\Users\\ADMIN\\.conda\\envs\\prj__env\\Lib\\site-packages\\sklearn\\svm\\_base.py:1249: ConvergenceWarning:\n",
            "\n",
            "Liblinear failed to converge, increase the number of iterations.\n",
            "\n",
            "[I 2025-07-09 13:46:02,783] Trial 12 finished with value: 0.8338 and parameters: {'C': 1, 'class_weight': 'balanced', 'loss': 'hinge'}. Best is trial 0 with value: 0.8338.\n",
            "c:\\Users\\ADMIN\\.conda\\envs\\prj__env\\Lib\\site-packages\\sklearn\\svm\\_base.py:1249: ConvergenceWarning:\n",
            "\n",
            "Liblinear failed to converge, increase the number of iterations.\n",
            "\n",
            "c:\\Users\\ADMIN\\.conda\\envs\\prj__env\\Lib\\site-packages\\sklearn\\svm\\_base.py:1249: ConvergenceWarning:\n",
            "\n",
            "Liblinear failed to converge, increase the number of iterations.\n",
            "\n",
            "[I 2025-07-09 13:47:23,833] Trial 13 finished with value: 0.8338 and parameters: {'C': 1, 'class_weight': 'balanced', 'loss': 'hinge'}. Best is trial 0 with value: 0.8338.\n",
            "c:\\Users\\ADMIN\\.conda\\envs\\prj__env\\Lib\\site-packages\\sklearn\\svm\\_base.py:1249: ConvergenceWarning:\n",
            "\n",
            "Liblinear failed to converge, increase the number of iterations.\n",
            "\n",
            "c:\\Users\\ADMIN\\.conda\\envs\\prj__env\\Lib\\site-packages\\sklearn\\svm\\_base.py:1249: ConvergenceWarning:\n",
            "\n",
            "Liblinear failed to converge, increase the number of iterations.\n",
            "\n",
            "[I 2025-07-09 13:48:51,689] Trial 14 finished with value: 0.8338 and parameters: {'C': 1, 'class_weight': 'balanced', 'loss': 'hinge'}. Best is trial 0 with value: 0.8338.\n",
            "c:\\Users\\ADMIN\\.conda\\envs\\prj__env\\Lib\\site-packages\\sklearn\\svm\\_base.py:1249: ConvergenceWarning:\n",
            "\n",
            "Liblinear failed to converge, increase the number of iterations.\n",
            "\n",
            "c:\\Users\\ADMIN\\.conda\\envs\\prj__env\\Lib\\site-packages\\sklearn\\svm\\_base.py:1249: ConvergenceWarning:\n",
            "\n",
            "Liblinear failed to converge, increase the number of iterations.\n",
            "\n",
            "[I 2025-07-09 13:50:02,793] Trial 15 finished with value: 0.8338 and parameters: {'C': 1, 'class_weight': 'balanced', 'loss': 'hinge'}. Best is trial 0 with value: 0.8338.\n",
            "c:\\Users\\ADMIN\\.conda\\envs\\prj__env\\Lib\\site-packages\\sklearn\\svm\\_base.py:1249: ConvergenceWarning:\n",
            "\n",
            "Liblinear failed to converge, increase the number of iterations.\n",
            "\n",
            "c:\\Users\\ADMIN\\.conda\\envs\\prj__env\\Lib\\site-packages\\sklearn\\svm\\_base.py:1249: ConvergenceWarning:\n",
            "\n",
            "Liblinear failed to converge, increase the number of iterations.\n",
            "\n",
            "[I 2025-07-09 13:51:09,797] Trial 16 finished with value: 0.8338 and parameters: {'C': 1, 'class_weight': 'balanced', 'loss': 'hinge'}. Best is trial 0 with value: 0.8338.\n",
            "c:\\Users\\ADMIN\\.conda\\envs\\prj__env\\Lib\\site-packages\\sklearn\\svm\\_base.py:1249: ConvergenceWarning:\n",
            "\n",
            "Liblinear failed to converge, increase the number of iterations.\n",
            "\n",
            "c:\\Users\\ADMIN\\.conda\\envs\\prj__env\\Lib\\site-packages\\sklearn\\svm\\_base.py:1249: ConvergenceWarning:\n",
            "\n",
            "Liblinear failed to converge, increase the number of iterations.\n",
            "\n",
            "[I 2025-07-09 13:52:31,436] Trial 17 finished with value: 0.8338 and parameters: {'C': 1, 'class_weight': 'balanced', 'loss': 'hinge'}. Best is trial 0 with value: 0.8338.\n",
            "[I 2025-07-09 13:52:52,575] Trial 18 finished with value: 0.8332 and parameters: {'C': 1, 'class_weight': 'balanced', 'loss': 'squared_hinge'}. Best is trial 0 with value: 0.8338.\n",
            "c:\\Users\\ADMIN\\.conda\\envs\\prj__env\\Lib\\site-packages\\sklearn\\svm\\_base.py:1249: ConvergenceWarning:\n",
            "\n",
            "Liblinear failed to converge, increase the number of iterations.\n",
            "\n",
            "c:\\Users\\ADMIN\\.conda\\envs\\prj__env\\Lib\\site-packages\\sklearn\\svm\\_base.py:1249: ConvergenceWarning:\n",
            "\n",
            "Liblinear failed to converge, increase the number of iterations.\n",
            "\n",
            "[I 2025-07-09 13:54:15,044] Trial 19 finished with value: 0.8338 and parameters: {'C': 1, 'class_weight': 'balanced', 'loss': 'hinge'}. Best is trial 0 with value: 0.8338.\n",
            "[I 2025-07-09 13:54:20,470] Trial 20 finished with value: 0.6051 and parameters: {'C': 0.01, 'class_weight': 'balanced', 'loss': 'hinge'}. Best is trial 0 with value: 0.8338.\n",
            "c:\\Users\\ADMIN\\.conda\\envs\\prj__env\\Lib\\site-packages\\sklearn\\svm\\_base.py:1249: ConvergenceWarning:\n",
            "\n",
            "Liblinear failed to converge, increase the number of iterations.\n",
            "\n",
            "c:\\Users\\ADMIN\\.conda\\envs\\prj__env\\Lib\\site-packages\\sklearn\\svm\\_base.py:1249: ConvergenceWarning:\n",
            "\n",
            "Liblinear failed to converge, increase the number of iterations.\n",
            "\n",
            "[I 2025-07-09 13:55:34,883] Trial 21 finished with value: 0.8338 and parameters: {'C': 1, 'class_weight': 'balanced', 'loss': 'hinge'}. Best is trial 0 with value: 0.8338.\n",
            "c:\\Users\\ADMIN\\.conda\\envs\\prj__env\\Lib\\site-packages\\sklearn\\svm\\_base.py:1249: ConvergenceWarning:\n",
            "\n",
            "Liblinear failed to converge, increase the number of iterations.\n",
            "\n",
            "c:\\Users\\ADMIN\\.conda\\envs\\prj__env\\Lib\\site-packages\\sklearn\\svm\\_base.py:1249: ConvergenceWarning:\n",
            "\n",
            "Liblinear failed to converge, increase the number of iterations.\n",
            "\n",
            "[I 2025-07-09 13:56:51,076] Trial 22 finished with value: 0.8338 and parameters: {'C': 1, 'class_weight': 'balanced', 'loss': 'hinge'}. Best is trial 0 with value: 0.8338.\n",
            "c:\\Users\\ADMIN\\.conda\\envs\\prj__env\\Lib\\site-packages\\sklearn\\svm\\_base.py:1249: ConvergenceWarning:\n",
            "\n",
            "Liblinear failed to converge, increase the number of iterations.\n",
            "\n",
            "c:\\Users\\ADMIN\\.conda\\envs\\prj__env\\Lib\\site-packages\\sklearn\\svm\\_base.py:1249: ConvergenceWarning:\n",
            "\n",
            "Liblinear failed to converge, increase the number of iterations.\n",
            "\n",
            "[I 2025-07-09 13:58:09,938] Trial 23 finished with value: 0.8338 and parameters: {'C': 1, 'class_weight': 'balanced', 'loss': 'hinge'}. Best is trial 0 with value: 0.8338.\n",
            "c:\\Users\\ADMIN\\.conda\\envs\\prj__env\\Lib\\site-packages\\sklearn\\svm\\_base.py:1249: ConvergenceWarning:\n",
            "\n",
            "Liblinear failed to converge, increase the number of iterations.\n",
            "\n",
            "c:\\Users\\ADMIN\\.conda\\envs\\prj__env\\Lib\\site-packages\\sklearn\\svm\\_base.py:1249: ConvergenceWarning:\n",
            "\n",
            "Liblinear failed to converge, increase the number of iterations.\n",
            "\n",
            "[I 2025-07-09 13:59:39,865] Trial 24 finished with value: 0.8338 and parameters: {'C': 1, 'class_weight': 'balanced', 'loss': 'hinge'}. Best is trial 0 with value: 0.8338.\n",
            "c:\\Users\\ADMIN\\.conda\\envs\\prj__env\\Lib\\site-packages\\sklearn\\svm\\_base.py:1249: ConvergenceWarning:\n",
            "\n",
            "Liblinear failed to converge, increase the number of iterations.\n",
            "\n",
            "c:\\Users\\ADMIN\\.conda\\envs\\prj__env\\Lib\\site-packages\\sklearn\\svm\\_base.py:1249: ConvergenceWarning:\n",
            "\n",
            "Liblinear failed to converge, increase the number of iterations.\n",
            "\n",
            "[I 2025-07-09 14:01:27,110] Trial 25 finished with value: 0.8338 and parameters: {'C': 1, 'class_weight': 'balanced', 'loss': 'hinge'}. Best is trial 0 with value: 0.8338.\n",
            "[I 2025-07-09 14:01:43,540] Trial 26 finished with value: 0.822 and parameters: {'C': 1, 'class_weight': None, 'loss': 'squared_hinge'}. Best is trial 0 with value: 0.8338.\n",
            "c:\\Users\\ADMIN\\.conda\\envs\\prj__env\\Lib\\site-packages\\sklearn\\svm\\_base.py:1249: ConvergenceWarning:\n",
            "\n",
            "Liblinear failed to converge, increase the number of iterations.\n",
            "\n",
            "c:\\Users\\ADMIN\\.conda\\envs\\prj__env\\Lib\\site-packages\\sklearn\\svm\\_base.py:1249: ConvergenceWarning:\n",
            "\n",
            "Liblinear failed to converge, increase the number of iterations.\n",
            "\n",
            "[I 2025-07-09 14:03:28,553] Trial 27 finished with value: 0.8338 and parameters: {'C': 1, 'class_weight': 'balanced', 'loss': 'hinge'}. Best is trial 0 with value: 0.8338.\n",
            "[I 2025-07-09 14:03:34,778] Trial 28 finished with value: 0.6051 and parameters: {'C': 0.01, 'class_weight': 'balanced', 'loss': 'hinge'}. Best is trial 0 with value: 0.8338.\n",
            "c:\\Users\\ADMIN\\.conda\\envs\\prj__env\\Lib\\site-packages\\sklearn\\svm\\_base.py:1249: ConvergenceWarning:\n",
            "\n",
            "Liblinear failed to converge, increase the number of iterations.\n",
            "\n",
            "c:\\Users\\ADMIN\\.conda\\envs\\prj__env\\Lib\\site-packages\\sklearn\\svm\\_base.py:1249: ConvergenceWarning:\n",
            "\n",
            "Liblinear failed to converge, increase the number of iterations.\n",
            "\n",
            "c:\\Users\\ADMIN\\.conda\\envs\\prj__env\\Lib\\site-packages\\sklearn\\svm\\_base.py:1249: ConvergenceWarning:\n",
            "\n",
            "Liblinear failed to converge, increase the number of iterations.\n",
            "\n",
            "[I 2025-07-09 14:05:22,562] Trial 29 finished with value: 0.8243 and parameters: {'C': 1, 'class_weight': None, 'loss': 'hinge'}. Best is trial 0 with value: 0.8338.\n",
            "c:\\Users\\ADMIN\\.conda\\envs\\prj__env\\Lib\\site-packages\\sklearn\\svm\\_base.py:1249: ConvergenceWarning:\n",
            "\n",
            "Liblinear failed to converge, increase the number of iterations.\n",
            "\n",
            "c:\\Users\\ADMIN\\.conda\\envs\\prj__env\\Lib\\site-packages\\sklearn\\svm\\_base.py:1249: ConvergenceWarning:\n",
            "\n",
            "Liblinear failed to converge, increase the number of iterations.\n",
            "\n",
            "[I 2025-07-09 14:09:21,444] Trial 30 finished with value: 0.8204 and parameters: {'C': 10, 'class_weight': 'balanced', 'loss': 'hinge'}. Best is trial 0 with value: 0.8338.\n",
            "c:\\Users\\ADMIN\\.conda\\envs\\prj__env\\Lib\\site-packages\\sklearn\\svm\\_base.py:1249: ConvergenceWarning:\n",
            "\n",
            "Liblinear failed to converge, increase the number of iterations.\n",
            "\n",
            "c:\\Users\\ADMIN\\.conda\\envs\\prj__env\\Lib\\site-packages\\sklearn\\svm\\_base.py:1249: ConvergenceWarning:\n",
            "\n",
            "Liblinear failed to converge, increase the number of iterations.\n",
            "\n",
            "[I 2025-07-09 14:11:07,231] Trial 31 finished with value: 0.8338 and parameters: {'C': 1, 'class_weight': 'balanced', 'loss': 'hinge'}. Best is trial 0 with value: 0.8338.\n",
            "c:\\Users\\ADMIN\\.conda\\envs\\prj__env\\Lib\\site-packages\\sklearn\\svm\\_base.py:1249: ConvergenceWarning:\n",
            "\n",
            "Liblinear failed to converge, increase the number of iterations.\n",
            "\n",
            "c:\\Users\\ADMIN\\.conda\\envs\\prj__env\\Lib\\site-packages\\sklearn\\svm\\_base.py:1249: ConvergenceWarning:\n",
            "\n",
            "Liblinear failed to converge, increase the number of iterations.\n",
            "\n",
            "[I 2025-07-09 14:12:55,308] Trial 32 finished with value: 0.8338 and parameters: {'C': 1, 'class_weight': 'balanced', 'loss': 'hinge'}. Best is trial 0 with value: 0.8338.\n",
            "c:\\Users\\ADMIN\\.conda\\envs\\prj__env\\Lib\\site-packages\\sklearn\\svm\\_base.py:1249: ConvergenceWarning:\n",
            "\n",
            "Liblinear failed to converge, increase the number of iterations.\n",
            "\n",
            "c:\\Users\\ADMIN\\.conda\\envs\\prj__env\\Lib\\site-packages\\sklearn\\svm\\_base.py:1249: ConvergenceWarning:\n",
            "\n",
            "Liblinear failed to converge, increase the number of iterations.\n",
            "\n",
            "[I 2025-07-09 14:14:36,568] Trial 33 finished with value: 0.8338 and parameters: {'C': 1, 'class_weight': 'balanced', 'loss': 'hinge'}. Best is trial 0 with value: 0.8338.\n",
            "[I 2025-07-09 14:15:03,895] Trial 34 finished with value: 0.8332 and parameters: {'C': 1, 'class_weight': 'balanced', 'loss': 'squared_hinge'}. Best is trial 0 with value: 0.8338.\n",
            "c:\\Users\\ADMIN\\.conda\\envs\\prj__env\\Lib\\site-packages\\sklearn\\svm\\_base.py:1249: ConvergenceWarning:\n",
            "\n",
            "Liblinear failed to converge, increase the number of iterations.\n",
            "\n",
            "c:\\Users\\ADMIN\\.conda\\envs\\prj__env\\Lib\\site-packages\\sklearn\\svm\\_base.py:1249: ConvergenceWarning:\n",
            "\n",
            "Liblinear failed to converge, increase the number of iterations.\n",
            "\n",
            "[I 2025-07-09 14:16:43,033] Trial 35 finished with value: 0.8338 and parameters: {'C': 1, 'class_weight': 'balanced', 'loss': 'hinge'}. Best is trial 0 with value: 0.8338.\n",
            "[I 2025-07-09 14:16:52,907] Trial 36 finished with value: 0.4555 and parameters: {'C': 0.01, 'class_weight': None, 'loss': 'hinge'}. Best is trial 0 with value: 0.8338.\n",
            "[I 2025-07-09 14:19:14,359] Trial 37 finished with value: 0.8179 and parameters: {'C': 10, 'class_weight': 'balanced', 'loss': 'squared_hinge'}. Best is trial 0 with value: 0.8338.\n",
            "c:\\Users\\ADMIN\\.conda\\envs\\prj__env\\Lib\\site-packages\\sklearn\\svm\\_base.py:1249: ConvergenceWarning:\n",
            "\n",
            "Liblinear failed to converge, increase the number of iterations.\n",
            "\n",
            "c:\\Users\\ADMIN\\.conda\\envs\\prj__env\\Lib\\site-packages\\sklearn\\svm\\_base.py:1249: ConvergenceWarning:\n",
            "\n",
            "Liblinear failed to converge, increase the number of iterations.\n",
            "\n",
            "c:\\Users\\ADMIN\\.conda\\envs\\prj__env\\Lib\\site-packages\\sklearn\\svm\\_base.py:1249: ConvergenceWarning:\n",
            "\n",
            "Liblinear failed to converge, increase the number of iterations.\n",
            "\n",
            "[I 2025-07-09 14:21:02,454] Trial 38 finished with value: 0.8243 and parameters: {'C': 1, 'class_weight': None, 'loss': 'hinge'}. Best is trial 0 with value: 0.8338.\n",
            "[I 2025-07-09 14:21:08,604] Trial 39 finished with value: 0.6051 and parameters: {'C': 0.01, 'class_weight': 'balanced', 'loss': 'hinge'}. Best is trial 0 with value: 0.8338.\n",
            "[I 2025-07-09 14:23:35,989] Trial 40 finished with value: 0.8179 and parameters: {'C': 10, 'class_weight': 'balanced', 'loss': 'squared_hinge'}. Best is trial 0 with value: 0.8338.\n",
            "c:\\Users\\ADMIN\\.conda\\envs\\prj__env\\Lib\\site-packages\\sklearn\\svm\\_base.py:1249: ConvergenceWarning:\n",
            "\n",
            "Liblinear failed to converge, increase the number of iterations.\n",
            "\n",
            "c:\\Users\\ADMIN\\.conda\\envs\\prj__env\\Lib\\site-packages\\sklearn\\svm\\_base.py:1249: ConvergenceWarning:\n",
            "\n",
            "Liblinear failed to converge, increase the number of iterations.\n",
            "\n",
            "[I 2025-07-09 14:25:19,448] Trial 41 finished with value: 0.8338 and parameters: {'C': 1, 'class_weight': 'balanced', 'loss': 'hinge'}. Best is trial 0 with value: 0.8338.\n",
            "c:\\Users\\ADMIN\\.conda\\envs\\prj__env\\Lib\\site-packages\\sklearn\\svm\\_base.py:1249: ConvergenceWarning:\n",
            "\n",
            "Liblinear failed to converge, increase the number of iterations.\n",
            "\n",
            "c:\\Users\\ADMIN\\.conda\\envs\\prj__env\\Lib\\site-packages\\sklearn\\svm\\_base.py:1249: ConvergenceWarning:\n",
            "\n",
            "Liblinear failed to converge, increase the number of iterations.\n",
            "\n",
            "[I 2025-07-09 14:26:59,261] Trial 42 finished with value: 0.8338 and parameters: {'C': 1, 'class_weight': 'balanced', 'loss': 'hinge'}. Best is trial 0 with value: 0.8338.\n",
            "c:\\Users\\ADMIN\\.conda\\envs\\prj__env\\Lib\\site-packages\\sklearn\\svm\\_base.py:1249: ConvergenceWarning:\n",
            "\n",
            "Liblinear failed to converge, increase the number of iterations.\n",
            "\n",
            "c:\\Users\\ADMIN\\.conda\\envs\\prj__env\\Lib\\site-packages\\sklearn\\svm\\_base.py:1249: ConvergenceWarning:\n",
            "\n",
            "Liblinear failed to converge, increase the number of iterations.\n",
            "\n",
            "[I 2025-07-09 14:28:40,314] Trial 43 finished with value: 0.8338 and parameters: {'C': 1, 'class_weight': 'balanced', 'loss': 'hinge'}. Best is trial 0 with value: 0.8338.\n",
            "c:\\Users\\ADMIN\\.conda\\envs\\prj__env\\Lib\\site-packages\\sklearn\\svm\\_base.py:1249: ConvergenceWarning:\n",
            "\n",
            "Liblinear failed to converge, increase the number of iterations.\n",
            "\n",
            "c:\\Users\\ADMIN\\.conda\\envs\\prj__env\\Lib\\site-packages\\sklearn\\svm\\_base.py:1249: ConvergenceWarning:\n",
            "\n",
            "Liblinear failed to converge, increase the number of iterations.\n",
            "\n",
            "[I 2025-07-09 14:30:24,360] Trial 44 finished with value: 0.8338 and parameters: {'C': 1, 'class_weight': 'balanced', 'loss': 'hinge'}. Best is trial 0 with value: 0.8338.\n",
            "c:\\Users\\ADMIN\\.conda\\envs\\prj__env\\Lib\\site-packages\\sklearn\\svm\\_base.py:1249: ConvergenceWarning:\n",
            "\n",
            "Liblinear failed to converge, increase the number of iterations.\n",
            "\n",
            "c:\\Users\\ADMIN\\.conda\\envs\\prj__env\\Lib\\site-packages\\sklearn\\svm\\_base.py:1249: ConvergenceWarning:\n",
            "\n",
            "Liblinear failed to converge, increase the number of iterations.\n",
            "\n",
            "[I 2025-07-09 14:31:57,005] Trial 45 finished with value: 0.8338 and parameters: {'C': 1, 'class_weight': 'balanced', 'loss': 'hinge'}. Best is trial 0 with value: 0.8338.\n",
            "c:\\Users\\ADMIN\\.conda\\envs\\prj__env\\Lib\\site-packages\\sklearn\\svm\\_base.py:1249: ConvergenceWarning:\n",
            "\n",
            "Liblinear failed to converge, increase the number of iterations.\n",
            "\n",
            "c:\\Users\\ADMIN\\.conda\\envs\\prj__env\\Lib\\site-packages\\sklearn\\svm\\_base.py:1249: ConvergenceWarning:\n",
            "\n",
            "Liblinear failed to converge, increase the number of iterations.\n",
            "\n",
            "c:\\Users\\ADMIN\\.conda\\envs\\prj__env\\Lib\\site-packages\\sklearn\\svm\\_base.py:1249: ConvergenceWarning:\n",
            "\n",
            "Liblinear failed to converge, increase the number of iterations.\n",
            "\n",
            "[I 2025-07-09 14:33:11,664] Trial 46 finished with value: 0.8243 and parameters: {'C': 1, 'class_weight': None, 'loss': 'hinge'}. Best is trial 0 with value: 0.8338.\n",
            "c:\\Users\\ADMIN\\.conda\\envs\\prj__env\\Lib\\site-packages\\sklearn\\svm\\_base.py:1249: ConvergenceWarning:\n",
            "\n",
            "Liblinear failed to converge, increase the number of iterations.\n",
            "\n",
            "c:\\Users\\ADMIN\\.conda\\envs\\prj__env\\Lib\\site-packages\\sklearn\\svm\\_base.py:1249: ConvergenceWarning:\n",
            "\n",
            "Liblinear failed to converge, increase the number of iterations.\n",
            "\n",
            "[I 2025-07-09 14:34:39,142] Trial 47 finished with value: 0.8338 and parameters: {'C': 1, 'class_weight': 'balanced', 'loss': 'hinge'}. Best is trial 0 with value: 0.8338.\n",
            "c:\\Users\\ADMIN\\.conda\\envs\\prj__env\\Lib\\site-packages\\sklearn\\svm\\_base.py:1249: ConvergenceWarning:\n",
            "\n",
            "Liblinear failed to converge, increase the number of iterations.\n",
            "\n",
            "c:\\Users\\ADMIN\\.conda\\envs\\prj__env\\Lib\\site-packages\\sklearn\\svm\\_base.py:1249: ConvergenceWarning:\n",
            "\n",
            "Liblinear failed to converge, increase the number of iterations.\n",
            "\n",
            "[I 2025-07-09 14:39:02,903] Trial 48 finished with value: 0.8204 and parameters: {'C': 10, 'class_weight': 'balanced', 'loss': 'hinge'}. Best is trial 0 with value: 0.8338.\n",
            "[I 2025-07-09 14:39:35,685] Trial 49 finished with value: 0.8332 and parameters: {'C': 1, 'class_weight': 'balanced', 'loss': 'squared_hinge'}. Best is trial 0 with value: 0.8338.\n"
          ]
        },
        {
          "name": "stdout",
          "output_type": "stream",
          "text": [
            "{'C': 1, 'class_weight': 'balanced', 'dual': 'auto', 'fit_intercept': True, 'intercept_scaling': 1, 'loss': 'hinge', 'max_iter': 2000, 'multi_class': 'ovr', 'penalty': 'l2', 'random_state': 5, 'tol': 0.0001, 'verbose': 0}\n",
            "{'C': 1, 'class_weight': 'balanced', 'loss': 'hinge'}\n"
          ]
        }
      ],
      "source": [
        "def linearsvc_objective(trial):\n",
        "    params = dict(\n",
        "        # C=trial.suggest_float('C', 1e-9, 1e2, log=True),\n",
        "        C=trial.suggest_categorical('C', [1e-2, 1, 10]),\n",
        "        class_weight=trial.suggest_categorical('class_weight', ['balanced', None]),\n",
        "        loss=trial.suggest_categorical('loss', ['hinge', 'squared_hinge']),\n",
        "        max_iter=2000,\n",
        "        random_state=5\n",
        "    )\n",
        "\n",
        "    clf = MOC(LinearSVC(**params))\n",
        "    clf.fit(xtrain_tfidf, ytrain)\n",
        "    trial.set_user_attr(key=\"model\", value=clf)\n",
        "\n",
        "    y_pred = clf.predict(xdev_tfidf)\n",
        "    return quick_f1(ydev_ml, y_pred)\n",
        "\n",
        "sampler = TPESampler(seed=22)\n",
        "linearsvc_study = optuna.create_study(sampler=sampler, direction='maximize')\n",
        "linearsvc_study.optimize(linearsvc_objective, n_trials=50, callbacks=[callback])\n",
        "\n",
        "\n",
        "clf2 = linearsvc_study.user_attrs['best_model']\n",
        "\n",
        "print(clf2.estimators_[0].get_params())\n",
        "print(linearsvc_study.best_params)"
      ]
    },
    {
      "cell_type": "code",
      "execution_count": 44,
      "metadata": {
        "id": "2P14U1bIz63t"
      },
      "outputs": [],
      "source": [
        "ypred2=clf2.predict(xtest_tfidf)\n",
        "ypred2= pd.DataFrame(ypred2, columns= categories)"
      ]
    },
    {
      "cell_type": "code",
      "execution_count": 45,
      "metadata": {
        "colab": {
          "base_uri": "https://localhost:8080/"
        },
        "id": "kw261T7g0bxt",
        "outputId": "18a67d2b-dc37-43f5-c964-8ab8bffc6e21"
      },
      "outputs": [
        {
          "name": "stdout",
          "output_type": "stream",
          "text": [
            "## Aspect Detection Evaluate ##\n",
            "               precision    recall  f1-score   support\n",
            "\n",
            "                  0.9721    0.9807    0.9764     30054\n",
            "DRINK#QUALITY     0.9884    0.9669    0.9775      2813\n",
            "DRINK#VARIETY     1.0000    0.8093    0.8946       215\n",
            "  ENVIRONMENT     0.9044    0.8949    0.8996      3065\n",
            " FOOD#QUALITY     0.8907    0.8083    0.8475       887\n",
            "     LOCATION     0.9841    0.9404    0.9618       789\n",
            "        PRICE     0.9380    0.9288    0.9334      1320\n",
            "SERVICE#ORDER     0.9500    0.5000    0.6552        76\n",
            "SERVICE#STAFF     0.9544    0.9742    0.9642      1589\n",
            "\n",
            "     accuracy                         0.9651     40808\n",
            "    macro avg     0.9536    0.8671    0.9011     40808\n",
            " weighted avg     0.9649    0.9651    0.9647     40808\n",
            "\n"
          ]
        }
      ],
      "source": [
        "aspect_detection_eval(ytest, ypred2)"
      ]
    },
    {
      "cell_type": "code",
      "execution_count": 46,
      "metadata": {
        "colab": {
          "base_uri": "https://localhost:8080/"
        },
        "id": "CvEc97Qc0VKt",
        "outputId": "90f605bc-2f4f-40ef-c3bd-6e0d90ce41a7"
      },
      "outputs": [
        {
          "name": "stdout",
          "output_type": "stream",
          "text": [
            "## Sentiment Classification Evaluate ##\n",
            "              precision    recall  f1-score   support\n",
            "\n",
            "        None     0.9721    0.9807    0.9764     30054\n",
            "    negative     0.7776    0.5454    0.6411      1058\n",
            "     neutral     0.8098    0.7944    0.8020      2631\n",
            "    positive     0.8647    0.8769    0.8708      7065\n",
            "\n",
            "    accuracy                         0.9394     40808\n",
            "   macro avg     0.8561    0.7993    0.8226     40808\n",
            "weighted avg     0.9380    0.9394    0.9382     40808\n",
            "\n"
          ]
        }
      ],
      "source": [
        "sentiment_classification_eval(ytest, ypred2)"
      ]
    },
    {
      "cell_type": "code",
      "execution_count": 49,
      "metadata": {
        "colab": {
          "base_uri": "https://localhost:8080/"
        },
        "id": "rClcDOOL0LY9",
        "outputId": "3cb4afc7-2bba-4c98-d111-b4d9a7813077"
      },
      "outputs": [
        {
          "name": "stdout",
          "output_type": "stream",
          "text": [
            "## Combination Evaluate (Aspect Detection + Sentiment Classification) ##\n",
            "                        precision    recall  f1-score   support\n",
            "\n",
            "    DRINK#QUALITY,None     0.9604    0.9860    0.9730      2288\n",
            "DRINK#QUALITY,negative     0.7089    0.4956    0.5833       113\n",
            " DRINK#QUALITY,neutral     0.8313    0.8364    0.8338       654\n",
            "DRINK#QUALITY,positive     0.9404    0.9262    0.9333      2046\n",
            "    DRINK#VARIETY,None     0.9917    1.0000    0.9958      4886\n",
            "DRINK#VARIETY,negative     1.0000    0.1053    0.1905        19\n",
            " DRINK#VARIETY,neutral     0.5000    0.1765    0.2609        34\n",
            "DRINK#VARIETY,positive     0.8250    0.8148    0.8199       162\n",
            "      ENVIRONMENT,None     0.8443    0.8576    0.8509      2036\n",
            "  ENVIRONMENT,negative     0.4874    0.2929    0.3659       198\n",
            "   ENVIRONMENT,neutral     0.7181    0.7570    0.7370       535\n",
            "  ENVIRONMENT,positive     0.8374    0.8439    0.8407      2332\n",
            "     FOOD#QUALITY,None     0.9604    0.9791    0.9697      4214\n",
            " FOOD#QUALITY,negative     0.5294    0.1395    0.2209       129\n",
            "  FOOD#QUALITY,neutral     0.5581    0.1667    0.2567       144\n",
            " FOOD#QUALITY,positive     0.6978    0.8274    0.7571       614\n",
            "         LOCATION,None     0.9892    0.9972    0.9932      4312\n",
            "     LOCATION,negative     0.9574    0.8272    0.8876       272\n",
            "      LOCATION,neutral     0.9083    0.9083    0.9083       218\n",
            "     LOCATION,positive     0.8970    0.9030    0.9000       299\n",
            "            PRICE,None     0.9752    0.9786    0.9769      3781\n",
            "        PRICE,negative     0.8048    0.7613    0.7824       222\n",
            "         PRICE,neutral     0.8473    0.8621    0.8547       515\n",
            "        PRICE,positive     0.8150    0.8010    0.8080       583\n",
            "    SERVICE#ORDER,None     0.9925    0.9996    0.9960      5025\n",
            "SERVICE#ORDER,negative     0.6667    0.1538    0.2500        13\n",
            " SERVICE#ORDER,neutral     0.6176    0.5833    0.6000        36\n",
            "SERVICE#ORDER,positive     1.0000    0.1111    0.2000        27\n",
            "    SERVICE#STAFF,None     0.9882    0.9789    0.9836      3512\n",
            "SERVICE#STAFF,negative     0.7833    0.5109    0.6184        92\n",
            " SERVICE#STAFF,neutral     0.8428    0.8990    0.8700       495\n",
            "SERVICE#STAFF,positive     0.9207    0.9501    0.9352      1002\n",
            "\n",
            "              accuracy                         0.9394     40808\n",
            "             macro avg     0.8249    0.7009    0.7235     40808\n",
            "          weighted avg     0.9369    0.9394    0.9365     40808\n",
            "\n"
          ]
        }
      ],
      "source": [
        "combination_eval(ytest, ypred2)"
      ]
    },
    {
      "cell_type": "code",
      "execution_count": 50,
      "metadata": {},
      "outputs": [],
      "source": [
        "import pickle\n",
        "with open(\"linearsvc_model.pkl\", \"wb\") as f:\n",
        "    pickle.dump(clf2, f)"
      ]
    },
    {
      "attachments": {},
      "cell_type": "markdown",
      "metadata": {
        "id": "ruWhrvluNSPT"
      },
      "source": [
        "## Non-Linear SVM"
      ]
    },
    {
      "cell_type": "code",
      "execution_count": null,
      "metadata": {
        "colab": {
          "base_uri": "https://localhost:8080/"
        },
        "id": "jQB-5XHKwgbB",
        "outputId": "b83df14e-3402-4167-830b-9bdf85c14da6"
      },
      "outputs": [
        {
          "name": "stderr",
          "output_type": "stream",
          "text": [
            "[I 2025-07-09 14:57:43,583] A new study created in memory with name: no-name-bc40ff54-2b68-4b77-993f-e27d02e749e2\n",
            "c:\\Users\\ADMIN\\.conda\\envs\\prj__env\\Lib\\site-packages\\sklearn\\svm\\_base.py:305: ConvergenceWarning:\n",
            "\n",
            "Solver terminated early (max_iter=2000).  Consider pre-processing your data with StandardScaler or MinMaxScaler.\n",
            "\n",
            "c:\\Users\\ADMIN\\.conda\\envs\\prj__env\\Lib\\site-packages\\sklearn\\svm\\_base.py:305: ConvergenceWarning:\n",
            "\n",
            "Solver terminated early (max_iter=2000).  Consider pre-processing your data with StandardScaler or MinMaxScaler.\n",
            "\n",
            "c:\\Users\\ADMIN\\.conda\\envs\\prj__env\\Lib\\site-packages\\sklearn\\svm\\_base.py:305: ConvergenceWarning:\n",
            "\n",
            "Solver terminated early (max_iter=2000).  Consider pre-processing your data with StandardScaler or MinMaxScaler.\n",
            "\n",
            "c:\\Users\\ADMIN\\.conda\\envs\\prj__env\\Lib\\site-packages\\sklearn\\svm\\_base.py:305: ConvergenceWarning:\n",
            "\n",
            "Solver terminated early (max_iter=2000).  Consider pre-processing your data with StandardScaler or MinMaxScaler.\n",
            "\n",
            "c:\\Users\\ADMIN\\.conda\\envs\\prj__env\\Lib\\site-packages\\sklearn\\svm\\_base.py:305: ConvergenceWarning:\n",
            "\n",
            "Solver terminated early (max_iter=2000).  Consider pre-processing your data with StandardScaler or MinMaxScaler.\n",
            "\n",
            "c:\\Users\\ADMIN\\.conda\\envs\\prj__env\\Lib\\site-packages\\sklearn\\svm\\_base.py:305: ConvergenceWarning:\n",
            "\n",
            "Solver terminated early (max_iter=2000).  Consider pre-processing your data with StandardScaler or MinMaxScaler.\n",
            "\n",
            "c:\\Users\\ADMIN\\.conda\\envs\\prj__env\\Lib\\site-packages\\sklearn\\svm\\_base.py:305: ConvergenceWarning:\n",
            "\n",
            "Solver terminated early (max_iter=2000).  Consider pre-processing your data with StandardScaler or MinMaxScaler.\n",
            "\n",
            "c:\\Users\\ADMIN\\.conda\\envs\\prj__env\\Lib\\site-packages\\sklearn\\svm\\_base.py:305: ConvergenceWarning:\n",
            "\n",
            "Solver terminated early (max_iter=2000).  Consider pre-processing your data with StandardScaler or MinMaxScaler.\n",
            "\n",
            "[I 2025-07-09 15:21:35,238] Trial 0 finished with value: 0.0414 and parameters: {'class_weight': 'balanced', 'kernel': 'poly', 'gamma': 'auto'}. Best is trial 0 with value: 0.0414.\n",
            "c:\\Users\\ADMIN\\.conda\\envs\\prj__env\\Lib\\site-packages\\sklearn\\svm\\_base.py:305: ConvergenceWarning:\n",
            "\n",
            "Solver terminated early (max_iter=2000).  Consider pre-processing your data with StandardScaler or MinMaxScaler.\n",
            "\n",
            "c:\\Users\\ADMIN\\.conda\\envs\\prj__env\\Lib\\site-packages\\sklearn\\svm\\_base.py:305: ConvergenceWarning:\n",
            "\n",
            "Solver terminated early (max_iter=2000).  Consider pre-processing your data with StandardScaler or MinMaxScaler.\n",
            "\n",
            "c:\\Users\\ADMIN\\.conda\\envs\\prj__env\\Lib\\site-packages\\sklearn\\svm\\_base.py:305: ConvergenceWarning:\n",
            "\n",
            "Solver terminated early (max_iter=2000).  Consider pre-processing your data with StandardScaler or MinMaxScaler.\n",
            "\n",
            "c:\\Users\\ADMIN\\.conda\\envs\\prj__env\\Lib\\site-packages\\sklearn\\svm\\_base.py:305: ConvergenceWarning:\n",
            "\n",
            "Solver terminated early (max_iter=2000).  Consider pre-processing your data with StandardScaler or MinMaxScaler.\n",
            "\n",
            "c:\\Users\\ADMIN\\.conda\\envs\\prj__env\\Lib\\site-packages\\sklearn\\svm\\_base.py:305: ConvergenceWarning:\n",
            "\n",
            "Solver terminated early (max_iter=2000).  Consider pre-processing your data with StandardScaler or MinMaxScaler.\n",
            "\n",
            "c:\\Users\\ADMIN\\.conda\\envs\\prj__env\\Lib\\site-packages\\sklearn\\svm\\_base.py:305: ConvergenceWarning:\n",
            "\n",
            "Solver terminated early (max_iter=2000).  Consider pre-processing your data with StandardScaler or MinMaxScaler.\n",
            "\n",
            "c:\\Users\\ADMIN\\.conda\\envs\\prj__env\\Lib\\site-packages\\sklearn\\svm\\_base.py:305: ConvergenceWarning:\n",
            "\n",
            "Solver terminated early (max_iter=2000).  Consider pre-processing your data with StandardScaler or MinMaxScaler.\n",
            "\n",
            "c:\\Users\\ADMIN\\.conda\\envs\\prj__env\\Lib\\site-packages\\sklearn\\svm\\_base.py:305: ConvergenceWarning:\n",
            "\n",
            "Solver terminated early (max_iter=2000).  Consider pre-processing your data with StandardScaler or MinMaxScaler.\n",
            "\n",
            "[I 2025-07-09 15:47:33,504] Trial 1 finished with value: 0.042 and parameters: {'class_weight': 'balanced', 'kernel': 'sigmoid', 'gamma': 'auto'}. Best is trial 1 with value: 0.042.\n",
            "c:\\Users\\ADMIN\\.conda\\envs\\prj__env\\Lib\\site-packages\\sklearn\\svm\\_base.py:305: ConvergenceWarning:\n",
            "\n",
            "Solver terminated early (max_iter=2000).  Consider pre-processing your data with StandardScaler or MinMaxScaler.\n",
            "\n",
            "c:\\Users\\ADMIN\\.conda\\envs\\prj__env\\Lib\\site-packages\\sklearn\\svm\\_base.py:305: ConvergenceWarning:\n",
            "\n",
            "Solver terminated early (max_iter=2000).  Consider pre-processing your data with StandardScaler or MinMaxScaler.\n",
            "\n"
          ]
        }
      ],
      "source": [
        "from sklearn.svm import SVC\n",
        "\n",
        "def svc_objective(trial):\n",
        "    params = dict(\n",
        "        class_weight=trial.suggest_categorical('class_weight', ['balanced', None]),\n",
        "        kernel=trial.suggest_categorical('kernel', ['poly', 'rbf', 'sigmoid']),\n",
        "        gamma=trial.suggest_categorical('gamma', ['auto', 'scale']),\n",
        "        max_iter=2000,\n",
        "        random_state=5\n",
        "    )\n",
        "\n",
        "    clf = MOC(SVC(**params))\n",
        "    clf.fit(xtrain_tfidf, ytrain)\n",
        "    trial.set_user_attr(key=\"model\", value=clf)\n",
        "\n",
        "    y_pred = clf.predict(xdev_tfidf)\n",
        "    return quick_f1(ydev_ml, y_pred)\n",
        "\n",
        "sampler = TPESampler(seed=22)\n",
        "svc_study = optuna.create_study(direction='maximize')\n",
        "svc_study.optimize(svc_objective, n_trials=10, callbacks=[callback])\n",
        "\n",
        "\n",
        "clf3 = svc_study.user_attrs['best_model']\n",
        "\n",
        "print(clf3.estimators_[0].get_params())\n",
        "print(svc_study.best_params)"
      ]
    },
    {
      "cell_type": "code",
      "execution_count": null,
      "metadata": {
        "id": "Q7X8mZcB1hyZ"
      },
      "outputs": [],
      "source": [
        "ypred3=clf3.predict(xtest_tfidf)\n",
        "ypred3= pd.DataFrame(ypred3, columns= categories)"
      ]
    },
    {
      "cell_type": "code",
      "execution_count": null,
      "metadata": {
        "colab": {
          "base_uri": "https://localhost:8080/"
        },
        "id": "is6FT_Li1hyZ",
        "outputId": "9f8212c1-3f27-411d-84b1-9f11f9dcc438"
      },
      "outputs": [],
      "source": [
        "aspect_detection_eval(ytest, ypred3)"
      ]
    },
    {
      "cell_type": "code",
      "execution_count": null,
      "metadata": {
        "colab": {
          "base_uri": "https://localhost:8080/"
        },
        "id": "arXnkfFE1hya",
        "outputId": "ce5c3786-a723-4540-ac05-0ba08c233821"
      },
      "outputs": [],
      "source": [
        "sentiment_classification_eval(ytest, ypred3)"
      ]
    },
    {
      "cell_type": "code",
      "execution_count": null,
      "metadata": {
        "colab": {
          "base_uri": "https://localhost:8080/"
        },
        "id": "GNbOTxEH1hya",
        "outputId": "e931be73-5ae1-40b6-a973-af802552a08d"
      },
      "outputs": [],
      "source": [
        "combination_eval(ytest, ypred3)"
      ]
    },
    {
      "cell_type": "code",
      "execution_count": null,
      "metadata": {},
      "outputs": [],
      "source": []
    },
    {
      "cell_type": "code",
      "execution_count": null,
      "metadata": {},
      "outputs": [],
      "source": []
    }
  ],
  "metadata": {
    "accelerator": "GPU",
    "colab": {
      "collapsed_sections": [
        "tz4aAURfgKIW",
        "ppKYl2LZPra0",
        "6quUiO0590xf"
      ],
      "gpuType": "T4",
      "provenance": []
    },
    "deepnote": {
      "is_reactive": false
    },
    "deepnote_execution_queue": [],
    "deepnote_notebook_id": "89096161-8db2-4c83-bd09-f2de34fe0e65",
    "kernelspec": {
      "display_name": "prj__env",
      "language": "python",
      "name": "python3"
    },
    "language_info": {
      "codemirror_mode": {
        "name": "ipython",
        "version": 3
      },
      "file_extension": ".py",
      "mimetype": "text/x-python",
      "name": "python",
      "nbconvert_exporter": "python",
      "pygments_lexer": "ipython3",
      "version": "3.11.11"
    },
    "orig_nbformat": 2
  },
  "nbformat": 4,
  "nbformat_minor": 0
}
