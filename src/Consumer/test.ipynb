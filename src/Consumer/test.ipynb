{
 "cells": [
  {
   "cell_type": "code",
   "execution_count": 7,
   "id": "e070cb65",
   "metadata": {},
   "outputs": [
    {
     "name": "stderr",
     "output_type": "stream",
     "text": [
      "\u001b[36m[apify.crawler-google-places runId:NQGdarGA2KOB0ezt3]\u001b[0m -> Status: RUNNING, Message: \n",
      "\u001b[36m[apify.crawler-google-places runId:NQGdarGA2KOB0ezt3]\u001b[0m -> 2025-07-02T00:51:49.439Z ACTOR: Pulling Docker image of build wnDZkTksEMhv4Hzwq from registry.\n",
      "\u001b[36m[apify.crawler-google-places runId:NQGdarGA2KOB0ezt3]\u001b[0m -> 2025-07-02T00:51:49.441Z ACTOR: Creating Docker container.\n",
      "\u001b[36m[apify.crawler-google-places runId:NQGdarGA2KOB0ezt3]\u001b[0m -> 2025-07-02T00:51:49.489Z ACTOR: Starting Docker container.\n",
      "\u001b[36m[apify.crawler-google-places runId:NQGdarGA2KOB0ezt3]\u001b[0m -> 2025-07-02T00:51:51.470Z \u001b[32mINFO\u001b[39m  System info\u001b[90m {\"apifyVersion\":\"3.3.2\",\"apifyClientVersion\":\"2.12.0\",\"crawleeVersion\":\"3.13.1\",\"osType\":\"Linux\",\"nodeVersion\":\"v18.20.8\"}\u001b[39m\n",
      "\u001b[36m[apify.crawler-google-places runId:NQGdarGA2KOB0ezt3]\u001b[0m -> 2025-07-02T00:51:52.254Z\n",
      "\u001b[36m[apify.crawler-google-places runId:NQGdarGA2KOB0ezt3]\u001b[0m -> 2025-07-02T00:51:52.257Z \u001b[32mINFO\u001b[39m  *** STARTING TO LOOK FOR (GEO)LOCATION ***\n",
      "\u001b[36m[apify.crawler-google-places runId:NQGdarGA2KOB0ezt3]\u001b[0m -> 2025-07-02T00:51:52.258Z\n",
      "\u001b[36m[apify.crawler-google-places runId:NQGdarGA2KOB0ezt3]\u001b[0m -> 2025-07-02T00:51:52.289Z \u001b[32mINFO\u001b[39m  Looking for geolocation for user input: \"Đà Lạt, Việt Nam\"\n",
      "\u001b[36m[apify.crawler-google-places runId:NQGdarGA2KOB0ezt3]\u001b[0m -> 2025-07-02T00:51:52.412Z\n",
      "\u001b[36m[apify.crawler-google-places runId:NQGdarGA2KOB0ezt3]\u001b[0m -> 2025-07-02T00:51:52.414Z \u001b[32mINFO\u001b[39m  LOCATION GEOLOCATED AS (check this is correct): \"Đà Lạt, Lâm Đồng Province, Vietnam, lat: 11.9402416, long: 108.4375758\"\n",
      "\u001b[36m[apify.crawler-google-places runId:NQGdarGA2KOB0ezt3]\u001b[0m -> 2025-07-02T00:51:52.416Z \u001b[32mINFO\u001b[39m  [Status message]: Map polygon created. You can visually check the exact area that will be scanned for places here:\n",
      "\u001b[36m[apify.crawler-google-places runId:NQGdarGA2KOB0ezt3]\u001b[0m -> 2025-07-02T00:51:52.417Z https://nominatim.openstreetmap.org/ui/search.html?q=Đà+Lạt%2C+Việt+Nam\n",
      "\u001b[36m[apify.crawler-google-places runId:NQGdarGA2KOB0ezt3]\u001b[0m -> 2025-07-02T00:51:52.452Z\n",
      "\u001b[36m[apify.crawler-google-places runId:NQGdarGA2KOB0ezt3]\u001b[0m -> 2025-07-02T00:51:52.581Z \u001b[32mINFO\u001b[39m  Created 1 map polygons with total area in km2: 395.78\n",
      "\u001b[36m[apify.crawler-google-places runId:NQGdarGA2KOB0ezt3]\u001b[0m -> 2025-07-02T00:51:52.583Z \u001b[32mINFO\u001b[39m  Higher zoom takes exponentially more time to run but is able to extract more (usually less known) places. You can override the default zoom in input. See https://apify.com/compass/crawler-google-places#automatic-zooming for how default zoom is chosen\n",
      "\u001b[36m[apify.crawler-google-places runId:NQGdarGA2KOB0ezt3]\u001b[0m -> 2025-07-02T00:51:52.584Z \u001b[32mINFO\u001b[39m  Splitted the map into 6 map segments. Each is converted into differenly located search page URL for each search term to ensure maximum coverage.\n",
      "\u001b[36m[apify.crawler-google-places runId:NQGdarGA2KOB0ezt3]\u001b[0m -> 2025-07-02T00:51:52.759Z\n",
      "\u001b[36m[apify.crawler-google-places runId:NQGdarGA2KOB0ezt3]\u001b[0m -> 2025-07-02T00:51:52.774Z \u001b[32mINFO\u001b[39m  *** GEOLOCATION FINISHED ***\n",
      "\u001b[36m[apify.crawler-google-places runId:NQGdarGA2KOB0ezt3]\u001b[0m -> 2025-07-02T00:51:52.776Z\n",
      "\u001b[36m[apify.crawler-google-places runId:NQGdarGA2KOB0ezt3]\u001b[0m -> 2025-07-02T00:51:52.892Z \u001b[32mINFO\u001b[39m  [BG ENQUEUE] Finished enqueueing\n",
      "\u001b[36m[apify.crawler-google-places runId:NQGdarGA2KOB0ezt3]\u001b[0m -> Status: RUNNING, Message: Starting the crawler.\n",
      "\u001b[36m[apify.crawler-google-places runId:NQGdarGA2KOB0ezt3]\u001b[0m -> 2025-07-02T00:51:53.067Z \u001b[32mINFO\u001b[39m \u001b[33m CheerioCrawler:\u001b[39m Starting the crawler.\n",
      "\u001b[36m[apify.crawler-google-places runId:NQGdarGA2KOB0ezt3]\u001b[0m -> 2025-07-02T00:51:56.017Z \u001b[32mINFO\u001b[39m  [SEARCH][chợ Đêm Đà Lạt][11.8406|108.3174][SCROLL: 1]: Enqueued 1 unique, 0 duplicates, 0 out of polygon. Total for this page: 1 unique, 0 duplicates, 0 out of polygon.  --- https://www.google.com/maps/search/ch%E1%BB%A3%20%C4%90%C3%AAm%20%C4%90%C3%A0%20L%E1%BA%A1t/@11.84060401017608,108.31742011639005,13z?hl=vi\n",
      "\u001b[36m[apify.crawler-google-places runId:NQGdarGA2KOB0ezt3]\u001b[0m -> 2025-07-02T00:51:56.019Z \u001b[32mINFO\u001b[39m  [SEARCH][chợ Đêm Đà Lạt][11.8406|108.3174][SCROLL: 1]: Finishing scroll - No more places found on this page. (no next cursor) Total for this page: 1 unique, 0 duplicates, 0 out of polygon.  --- https://www.google.com/maps/search/ch%E1%BB%A3%20%C4%90%C3%AAm%20%C4%90%C3%A0%20L%E1%BA%A1t/@11.84060401017608,108.31742011639005,13z?hl=vi\n",
      "\u001b[36m[apify.crawler-google-places runId:NQGdarGA2KOB0ezt3]\u001b[0m -> 2025-07-02T00:51:58.213Z \u001b[32mINFO\u001b[39m  [REVIEWS][10/10] Reached required number of reviews, stopping\n",
      "\u001b[36m[apify.crawler-google-places runId:NQGdarGA2KOB0ezt3]\u001b[0m -> 2025-07-02T00:51:58.346Z \u001b[32mINFO\u001b[39m  [PLACE]: Place scraped successfully --- https://www.google.com/maps/search/?api=1&query=Ch%E1%BB%A3+%C4%90%C3%AAm+%C4%90%C3%A0+L%E1%BA%A1t&query_place_id=ChIJw-dBTv8TcTERPCSnIa35zyE&hl=vi\n",
      "\u001b[36m[apify.crawler-google-places runId:NQGdarGA2KOB0ezt3]\u001b[0m -> Status: RUNNING, Message: Finishing scraping because we reached max results --- https://www.google.com/maps/search/?api=1&query=Ch%E1%BB%A3+%C4%90%C3%AAm+%C4%90%C3%A0+L%E1%BA%A1t&query_place_id=ChIJw-dBTv8TcTERPCSnIa35zyE&hl=vi\n",
      "\u001b[36m[apify.crawler-google-places runId:NQGdarGA2KOB0ezt3]\u001b[0m -> 2025-07-02T00:51:58.349Z \u001b[32mINFO\u001b[39m  [Status message]: Finishing scraping because we reached max results --- https://www.google.com/maps/search/?api=1&query=Ch%E1%BB%A3+%C4%90%C3%AAm+%C4%90%C3%A0+L%E1%BA%A1t&query_place_id=ChIJw-dBTv8TcTERPCSnIa35zyE&hl=vi\n",
      "\u001b[36m[apify.crawler-google-places runId:NQGdarGA2KOB0ezt3]\u001b[0m -> Status: RUNNING, Message: Scraped in total 1 search pages.\n",
      "\u001b[36m[apify.crawler-google-places runId:NQGdarGA2KOB0ezt3]\u001b[0m -> 2025-07-02T00:52:03.069Z \u001b[32mINFO\u001b[39m  Scraped in total 1 search pages.\n",
      "\u001b[36m[apify.crawler-google-places runId:NQGdarGA2KOB0ezt3]\u001b[0m -> 2025-07-02T00:52:03.153Z \u001b[32mINFO\u001b[39m  [Status message]: [SEARCH][chợ Đêm Đà Lạt]: Reached limit of max crawled places for this search term, will provide the results shortly. [Draining request queue]\n",
      "\u001b[36m[apify.crawler-google-places runId:NQGdarGA2KOB0ezt3]\u001b[0m -> 2025-07-02T00:52:03.263Z \u001b[32mINFO\u001b[39m  [Status message]: Finishing scraping because we reached max results --- https://www.google.com/maps/search/ch%E1%BB%A3%20%C4%90%C3%AAm%20%C4%90%C3%A0%20L%E1%BA%A1t/@11.84060401017608,108.59218358360997,13z?hl=vi\n",
      "\u001b[36m[apify.crawler-google-places runId:NQGdarGA2KOB0ezt3]\u001b[0m -> 2025-07-02T00:52:03.588Z \u001b[32mINFO\u001b[39m  [STATS]: paginations: 2 | seen: 2 | unique: 1 | reachedMaxResults: 1 | external_isAlsoCountedToOthers: 0 | outOfLocation: 0 | duplicate: 0 | closed: 0 | notMatchingCategory: 0 | notHavingMinimumStars: 0 | notMatchingSearchTerm: 0 | notMatchingWebsite: 0 | scraped: 1 | hotMapSegments: 1 | searchPages: 1 | perSearchTerm: [object Object]\n",
      "\u001b[36m[apify.crawler-google-places runId:NQGdarGA2KOB0ezt3]\u001b[0m -> 2025-07-02T00:52:03.701Z \u001b[32mINFO\u001b[39m \u001b[33m CheerioCrawler:\u001b[39m Final request statistics:\u001b[90m {\"requestsFinished\":2,\"requestsFailed\":3,\"retryHistogram\":[5],\"requestAvgFailedDurationMillis\":44,\"requestAvgFinishedDurationMillis\":5174,\"requestsFinishedPerMinute\":11,\"requestsFailedPerMinute\":16,\"requestTotalDurationMillis\":10481,\"requestsTotal\":5,\"crawlerRuntimeMillis\":10907}\u001b[39m\n",
      "\u001b[36m[apify.crawler-google-places runId:NQGdarGA2KOB0ezt3]\u001b[0m -> 2025-07-02T00:52:03.703Z \u001b[32mINFO\u001b[39m \u001b[33m CheerioCrawler:\u001b[39m Error analysis:\u001b[90m {\"totalErrors\":3,\"uniqueErrors\":1,\"mostCommonErrors\":[\"3x: [SEARCH][chợ Đêm Đà Lạt]: Reached limit of max crawled places for this search term, will provide the results shortly. [Draining request queue] (file:///usr/src/app/dist/src/utils/pre_navigation_hooks.js:23:11)\"]}\u001b[39m\n",
      "\u001b[36m[apify.crawler-google-places runId:NQGdarGA2KOB0ezt3]\u001b[0m -> 2025-07-02T00:52:03.832Z \u001b[32mINFO\u001b[39m  [STATS]: paginations: 2 | seen: 2 | unique: 1 | reachedMaxResults: 1 | external_isAlsoCountedToOthers: 0 | outOfLocation: 0 | duplicate: 0 | closed: 0 | notMatchingCategory: 0 | notHavingMinimumStars: 0 | notMatchingSearchTerm: 0 | notMatchingWebsite: 0 | scraped: 1 | hotMapSegments: 1 | searchPages: 1 | perSearchTerm: [object Object]\n",
      "\u001b[36m[apify.crawler-google-places runId:NQGdarGA2KOB0ezt3]\u001b[0m -> 2025-07-02T00:52:03.919Z \u001b[32mINFO\u001b[39m  [STATS]: paginations: 2 | seen: 2 | unique: 1 | reachedMaxResults: 1 | external_isAlsoCountedToOthers: 0 | outOfLocation: 0 | duplicate: 0 | closed: 0 | notMatchingCategory: 0 | notHavingMinimumStars: 0 | notMatchingSearchTerm: 0 | notMatchingWebsite: 0 | scraped: 1 | hotMapSegments: 1 | searchPages: 1 | perSearchTerm: [object Object]\n",
      "\u001b[36m[apify.crawler-google-places runId:NQGdarGA2KOB0ezt3]\u001b[0m -> 2025-07-02T00:52:03.921Z \u001b[32mINFO\u001b[39m  [Status message]: Scraping finished. You can view all scraped places laid out on a map on: https://api.apify.com/v2/key-value-stores/agtrayBomBQW7iMP2/records/results-map. It can take some time to fully load for large datasets.\n",
      "\u001b[36m[apify.crawler-google-places runId:NQGdarGA2KOB0ezt3]\u001b[0m -> Status: SUCCEEDED, Message: Scraping finished. You can view all scraped places laid out on a map on: https://api.apify.com/v2/key-value-stores/agtrayBomBQW7iMP2/records/results-map. It can take some time to fully load for large datasets.\n"
     ]
    }
   ],
   "source": [
    "from apify_client import ApifyClient\n",
    "\n",
    "# Initialize the ApifyClient with your API token\n",
    "client = ApifyClient(\"apify_api_POkAQQbgyMOsm3iNnPYb49w6sOwJhv1IbeW1\")\n",
    "\n",
    "# Prepare the Actor input\n",
    "run_input = {\n",
    "    \"searchStringsArray\": [\"chợ Đêm Đà Lạt\"],\n",
    "    \"locationQuery\": \"Đà Lạt, Việt Nam\",\n",
    "    \"maxCrawledPlacesPerSearch\": 1,\n",
    "    \"language\": \"vi\",\n",
    "    \"searchMatching\": \"all\",\n",
    "    \"placeMinimumStars\": \"\",\n",
    "    \"website\": \"allPlaces\",\n",
    "    \"skipClosedPlaces\": False,\n",
    "    \"scrapePlaceDetailPage\": False,\n",
    "    \"scrapeTableReservationProvider\": False,\n",
    "    \"includeWebResults\": False,\n",
    "    \"scrapeDirectories\": False,\n",
    "    \"maxQuestions\": 0,\n",
    "    \"scrapeContacts\": False,\n",
    "    \"maximumLeadsEnrichmentRecords\": 0,\n",
    "    \"maxReviews\": 10,\n",
    "    \"reviewsSort\": \"newest\",\n",
    "    \"reviewsFilterString\": \"\",\n",
    "    \"reviewsOrigin\": \"all\",\n",
    "    \"scrapeReviewsPersonalData\": False,\n",
    "    \"maxImages\": 0,\n",
    "    \"scrapeImageAuthors\": False,\n",
    "    \"allPlacesNoSearchAction\": \"\",\n",
    "}\n",
    "\n",
    "# Run the Actor and wait for it to finish\n",
    "run = client.actor(\"nwua9Gu5YrADL7ZDj\").call(run_input=run_input)\n",
    "\n",
    "# # Fetch and print Actor results from the run's dataset (if there are any)\n",
    "# url =  client.dataset(run[\"defaultDatasetId\"]).iterate_items()[0].get(\"url\", [])\n"
   ]
  },
  {
   "cell_type": "code",
   "execution_count": 9,
   "id": "0fb362da",
   "metadata": {},
   "outputs": [],
   "source": [
    "url = next(client.dataset(run[\"defaultDatasetId\"]).iterate_items())[\"url\"]"
   ]
  },
  {
   "cell_type": "code",
   "execution_count": 13,
   "id": "6b7a8076",
   "metadata": {},
   "outputs": [
    {
     "data": {
      "text/plain": [
       "'https://www.google.com/maps/search/?api=1&query=Ch%E1%BB%A3%20%C4%90%C3%AAm%20%C4%90%C3%A0%20L%E1%BA%A1t&query_place_id=ChIJw-dBTv8TcTERPCSnIa35zyE'"
      ]
     },
     "execution_count": 13,
     "metadata": {},
     "output_type": "execute_result"
    }
   ],
   "source": [
    "url"
   ]
  },
  {
   "cell_type": "code",
   "execution_count": 14,
   "id": "f3d5cc38",
   "metadata": {},
   "outputs": [
    {
     "name": "stderr",
     "output_type": "stream",
     "text": [
      "\u001b[36m[apify.Google-Maps-Reviews-Scraper runId:lgcmHbtHm11OamD1B]\u001b[0m -> Status: RUNNING, Message: \n",
      "\u001b[36m[apify.Google-Maps-Reviews-Scraper runId:lgcmHbtHm11OamD1B]\u001b[0m -> 2025-07-02T00:54:17.525Z ACTOR: Pulling Docker image of build sCKL1EYLmG8TMRyta from registry.\n",
      "\u001b[36m[apify.Google-Maps-Reviews-Scraper runId:lgcmHbtHm11OamD1B]\u001b[0m -> 2025-07-02T00:54:17.526Z ACTOR: Creating Docker container.\n",
      "\u001b[36m[apify.Google-Maps-Reviews-Scraper runId:lgcmHbtHm11OamD1B]\u001b[0m -> 2025-07-02T00:54:17.636Z ACTOR: Starting Docker container.\n",
      "\u001b[36m[apify.Google-Maps-Reviews-Scraper runId:lgcmHbtHm11OamD1B]\u001b[0m -> 2025-07-02T00:54:19.790Z \u001b[32mINFO\u001b[39m  System info\u001b[90m {\"apifyVersion\":\"3.3.2\",\"apifyClientVersion\":\"2.12.0\",\"crawleeVersion\":\"3.13.1\",\"osType\":\"Linux\",\"nodeVersion\":\"v18.20.8\"}\u001b[39m\n",
      "\u001b[36m[apify.Google-Maps-Reviews-Scraper runId:lgcmHbtHm11OamD1B]\u001b[0m -> 2025-07-02T00:54:20.680Z \u001b[32mINFO\u001b[39m  [BG ENQUEUE] Finished enqueueing\n",
      "\u001b[36m[apify.Google-Maps-Reviews-Scraper runId:lgcmHbtHm11OamD1B]\u001b[0m -> Status: RUNNING, Message: Starting the crawler.\n",
      "\u001b[36m[apify.Google-Maps-Reviews-Scraper runId:lgcmHbtHm11OamD1B]\u001b[0m -> Status: RUNNING, Message: Crawled 0/1 pages, 0 failed requests, desired concurrency 2.\n",
      "\u001b[36m[apify.Google-Maps-Reviews-Scraper runId:lgcmHbtHm11OamD1B]\u001b[0m -> 2025-07-02T00:54:20.821Z \u001b[32mINFO\u001b[39m \u001b[33m CheerioCrawler:\u001b[39m Starting the crawler.\n",
      "\u001b[36m[apify.Google-Maps-Reviews-Scraper runId:lgcmHbtHm11OamD1B]\u001b[0m -> 2025-07-02T00:54:33.011Z \u001b[32mINFO\u001b[39m  [REVIEWS][10/10] Stopping: Reached required number of reviews\n",
      "\u001b[36m[apify.Google-Maps-Reviews-Scraper runId:lgcmHbtHm11OamD1B]\u001b[0m -> 2025-07-02T00:54:33.140Z \u001b[32mINFO\u001b[39m \u001b[33m CheerioCrawler:\u001b[39m Crawler's custom isFinishedFunction() returned true, the crawler will shut down.\n",
      "\u001b[36m[apify.Google-Maps-Reviews-Scraper runId:lgcmHbtHm11OamD1B]\u001b[0m -> 2025-07-02T00:54:33.244Z \u001b[32mINFO\u001b[39m  [STATS]: paginations: 0 | seen: 0 | unique: 0 | reachedMaxResults: 0 | external_isAlsoCountedToOthers: 0 | outOfLocation: 0 | duplicate: 0 | closed: 0 | notMatchingCategory: 0 | notHavingMinimumStars: 0 | notMatchingSearchTerm: 0 | notMatchingWebsite: 0 | scraped: 0 | hotMapSegments: 0 | searchPages: 0 | perSearchTerm: [object Object]\n",
      "\u001b[36m[apify.Google-Maps-Reviews-Scraper runId:lgcmHbtHm11OamD1B]\u001b[0m -> 2025-07-02T00:54:33.303Z \u001b[32mINFO\u001b[39m \u001b[33m CheerioCrawler:\u001b[39m Final request statistics:\u001b[90m {\"requestsFinished\":1,\"requestsFailed\":0,\"retryHistogram\":[1],\"requestAvgFailedDurationMillis\":null,\"requestAvgFinishedDurationMillis\":12181,\"requestsFinishedPerMinute\":5,\"requestsFailedPerMinute\":0,\"requestTotalDurationMillis\":12181,\"requestsTotal\":1,\"crawlerRuntimeMillis\":12705}\u001b[39m\n",
      "\u001b[36m[apify.Google-Maps-Reviews-Scraper runId:lgcmHbtHm11OamD1B]\u001b[0m -> 2025-07-02T00:54:33.305Z \u001b[32mINFO\u001b[39m \u001b[33m CheerioCrawler:\u001b[39m Finished! Total 1 requests: 1 succeeded, 0 failed.\u001b[90m {\"terminal\":true}\u001b[39m\n",
      "\u001b[36m[apify.Google-Maps-Reviews-Scraper runId:lgcmHbtHm11OamD1B]\u001b[0m -> 2025-07-02T00:54:33.482Z \u001b[32mINFO\u001b[39m  [STATS]: paginations: 0 | seen: 0 | unique: 0 | reachedMaxResults: 0 | external_isAlsoCountedToOthers: 0 | outOfLocation: 0 | duplicate: 0 | closed: 0 | notMatchingCategory: 0 | notHavingMinimumStars: 0 | notMatchingSearchTerm: 0 | notMatchingWebsite: 0 | scraped: 0 | hotMapSegments: 0 | searchPages: 0 | perSearchTerm: [object Object]\n",
      "\u001b[36m[apify.Google-Maps-Reviews-Scraper runId:lgcmHbtHm11OamD1B]\u001b[0m -> 2025-07-02T00:54:33.585Z \u001b[32mINFO\u001b[39m  [STATS]: paginations: 0 | seen: 0 | unique: 0 | reachedMaxResults: 0 | external_isAlsoCountedToOthers: 0 | outOfLocation: 0 | duplicate: 0 | closed: 0 | notMatchingCategory: 0 | notHavingMinimumStars: 0 | notMatchingSearchTerm: 0 | notMatchingWebsite: 0 | scraped: 0 | hotMapSegments: 0 | searchPages: 0 | perSearchTerm: [object Object]\n",
      "\u001b[36m[apify.Google-Maps-Reviews-Scraper runId:lgcmHbtHm11OamD1B]\u001b[0m -> Status: RUNNING, Message: Scraping finished. You can view all scraped places laid out on a map on: https://api.apify.com/v2/key-value-stores/RaJJTTEbXPrEGFnL0/records/results-map. It can take some time to fully load for large datasets.\n",
      "\u001b[36m[apify.Google-Maps-Reviews-Scraper runId:lgcmHbtHm11OamD1B]\u001b[0m -> 2025-07-02T00:54:33.617Z \u001b[32mINFO\u001b[39m  [Status message]: Scraping finished. You can view all scraped places laid out on a map on: https://api.apify.com/v2/key-value-stores/RaJJTTEbXPrEGFnL0/records/results-map. It can take some time to fully load for large datasets.\n"
     ]
    }
   ],
   "source": [
    "run_input = {\n",
    "    \"startUrls\": [{ \"url\": url }],\n",
    "    \"maxReviews\": 10,\n",
    "    \"reviewsSort\": \"newest\",\n",
    "    \"language\": \"vi\",\n",
    "    \"reviewsOrigin\": \"all\",\n",
    "    \"personalData\": False,\n",
    "}\n",
    "run2 = client.actor(\"Xb8osYTtOjlsgI6k9\").call(run_input=run_input)"
   ]
  },
  {
   "cell_type": "code",
   "execution_count": 15,
   "id": "2634756c",
   "metadata": {},
   "outputs": [
    {
     "name": "stdout",
     "output_type": "stream",
     "text": [
      "None\n",
      "Cái chợ tôi đi hằng ngày.\n",
      "Rất bình thường mà đônv\n",
      "None\n",
      "None\n",
      "None\n",
      "None\n",
      "Đông vui. Điểm trừ là ko có toilet công cộng và đồ ăn hơi mất vệ sinh. Một số người còn chặt chém nữa\n",
      "None\n",
      "None\n"
     ]
    }
   ],
   "source": [
    "# Run the Actor and wait for it to finish\n",
    "for item2 in client.dataset(run2[\"defaultDatasetId\"]).iterate_items():  \n",
    "    text = item2.get(\"text\", [])\n",
    "    print(text)"
   ]
  },
  {
   "cell_type": "code",
   "execution_count": 6,
   "id": "a68dbc70",
   "metadata": {},
   "outputs": [
    {
     "name": "stdout",
     "output_type": "stream",
     "text": [
      "item: {'title': 'Chợ Đêm Đà Lạt', 'description': 'Khu chợ tấp nập các quầy hàng bán đồ gia dụng, đồ khô và món ăn địa phương chế biến sẵn.', 'price': None, 'categoryName': 'Chợ đêm', 'address': 'Đường Nguyễn Thị Minh Khai, Phường 1, Đà Lạt, Lâm Đồng, Việt Nam', 'neighborhood': 'Phường 1, Đà Lạt', 'street': 'Đường Nguyễn Thị Minh Khai', 'city': 'Lâm Đồng', 'postalCode': None, 'state': 'Đà Lạt, Lâm Đồng', 'countryCode': 'VN', 'phone': '+84 263 3821 586', 'phoneUnformatted': '+842633821586', 'claimThisBusiness': False, 'location': {'lat': 11.9414015, 'lng': 108.4372912}, 'plusCode': 'WCRP+HW Đà Lạt, Lâm Đồng, Việt Nam', 'totalScore': 4.2, 'permanentlyClosed': False, 'temporarilyClosed': False, 'placeId': 'ChIJw-dBTv8TcTERPCSnIa35zyE', 'categories': ['Chợ đêm', 'Chợ'], 'fid': '0x317113ff4e41e7c3:0x21cff9ad21a7243c', 'cid': '2436440445419988028', 'reviewsCount': 16140, 'reviewsDistribution': {'oneStar': 517, 'twoStar': 558, 'threeStar': 2333, 'fourStar': 4212, 'fiveStar': 8520}, 'imagesCount': 30176, 'imageCategories': ['Tất cả', 'Mới nhất', 'Video', 'Không gian bên trong', 'Của chủ sở hữu', 'Chế độ xem Phố và 360°'], 'scrapedAt': '2025-07-01T23:18:05.057Z', 'googleFoodUrl': None, 'hotelAds': [], 'popularTimesHistogram': {'Su': [{'hour': 6, 'occupancyPercent': 0}, {'hour': 7, 'occupancyPercent': 0}, {'hour': 8, 'occupancyPercent': 0}, {'hour': 9, 'occupancyPercent': 0}, {'hour': 10, 'occupancyPercent': 0}, {'hour': 11, 'occupancyPercent': 0}, {'hour': 12, 'occupancyPercent': 0}, {'hour': 13, 'occupancyPercent': 0}, {'hour': 14, 'occupancyPercent': 0}, {'hour': 15, 'occupancyPercent': 0}, {'hour': 16, 'occupancyPercent': 0}, {'hour': 17, 'occupancyPercent': 34}, {'hour': 18, 'occupancyPercent': 51}, {'hour': 19, 'occupancyPercent': 65}, {'hour': 20, 'occupancyPercent': 69}, {'hour': 21, 'occupancyPercent': 58}, {'hour': 22, 'occupancyPercent': 40}, {'hour': 23, 'occupancyPercent': 23}], 'Mo': [{'hour': 6, 'occupancyPercent': 0}, {'hour': 7, 'occupancyPercent': 0}, {'hour': 8, 'occupancyPercent': 0}, {'hour': 9, 'occupancyPercent': 0}, {'hour': 10, 'occupancyPercent': 0}, {'hour': 11, 'occupancyPercent': 0}, {'hour': 12, 'occupancyPercent': 0}, {'hour': 13, 'occupancyPercent': 0}, {'hour': 14, 'occupancyPercent': 0}, {'hour': 15, 'occupancyPercent': 0}, {'hour': 16, 'occupancyPercent': 0}, {'hour': 17, 'occupancyPercent': 27}, {'hour': 18, 'occupancyPercent': 41}, {'hour': 19, 'occupancyPercent': 52}, {'hour': 20, 'occupancyPercent': 52}, {'hour': 21, 'occupancyPercent': 43}, {'hour': 22, 'occupancyPercent': 30}, {'hour': 23, 'occupancyPercent': 18}], 'Tu': [{'hour': 6, 'occupancyPercent': 0}, {'hour': 7, 'occupancyPercent': 0}, {'hour': 8, 'occupancyPercent': 0}, {'hour': 9, 'occupancyPercent': 0}, {'hour': 10, 'occupancyPercent': 0}, {'hour': 11, 'occupancyPercent': 0}, {'hour': 12, 'occupancyPercent': 0}, {'hour': 13, 'occupancyPercent': 0}, {'hour': 14, 'occupancyPercent': 0}, {'hour': 15, 'occupancyPercent': 0}, {'hour': 16, 'occupancyPercent': 0}, {'hour': 17, 'occupancyPercent': 29}, {'hour': 18, 'occupancyPercent': 43}, {'hour': 19, 'occupancyPercent': 53}, {'hour': 20, 'occupancyPercent': 53}, {'hour': 21, 'occupancyPercent': 43}, {'hour': 22, 'occupancyPercent': 29}, {'hour': 23, 'occupancyPercent': 17}], 'We': [{'hour': 6, 'occupancyPercent': 0}, {'hour': 7, 'occupancyPercent': 0}, {'hour': 8, 'occupancyPercent': 0}, {'hour': 9, 'occupancyPercent': 0}, {'hour': 10, 'occupancyPercent': 0}, {'hour': 11, 'occupancyPercent': 0}, {'hour': 12, 'occupancyPercent': 0}, {'hour': 13, 'occupancyPercent': 0}, {'hour': 14, 'occupancyPercent': 0}, {'hour': 15, 'occupancyPercent': 0}, {'hour': 16, 'occupancyPercent': 0}, {'hour': 17, 'occupancyPercent': 29}, {'hour': 18, 'occupancyPercent': 43}, {'hour': 19, 'occupancyPercent': 53}, {'hour': 20, 'occupancyPercent': 53}, {'hour': 21, 'occupancyPercent': 45}, {'hour': 22, 'occupancyPercent': 32}, {'hour': 23, 'occupancyPercent': 20}], 'Th': [{'hour': 6, 'occupancyPercent': 0}, {'hour': 7, 'occupancyPercent': 0}, {'hour': 8, 'occupancyPercent': 0}, {'hour': 9, 'occupancyPercent': 0}, {'hour': 10, 'occupancyPercent': 0}, {'hour': 11, 'occupancyPercent': 0}, {'hour': 12, 'occupancyPercent': 0}, {'hour': 13, 'occupancyPercent': 0}, {'hour': 14, 'occupancyPercent': 0}, {'hour': 15, 'occupancyPercent': 0}, {'hour': 16, 'occupancyPercent': 0}, {'hour': 17, 'occupancyPercent': 33}, {'hour': 18, 'occupancyPercent': 50}, {'hour': 19, 'occupancyPercent': 64}, {'hour': 20, 'occupancyPercent': 65}, {'hour': 21, 'occupancyPercent': 55}, {'hour': 22, 'occupancyPercent': 39}, {'hour': 23, 'occupancyPercent': 24}], 'Fr': [{'hour': 6, 'occupancyPercent': 0}, {'hour': 7, 'occupancyPercent': 0}, {'hour': 8, 'occupancyPercent': 0}, {'hour': 9, 'occupancyPercent': 0}, {'hour': 10, 'occupancyPercent': 0}, {'hour': 11, 'occupancyPercent': 0}, {'hour': 12, 'occupancyPercent': 0}, {'hour': 13, 'occupancyPercent': 0}, {'hour': 14, 'occupancyPercent': 0}, {'hour': 15, 'occupancyPercent': 0}, {'hour': 16, 'occupancyPercent': 0}, {'hour': 17, 'occupancyPercent': 38}, {'hour': 18, 'occupancyPercent': 59}, {'hour': 19, 'occupancyPercent': 79}, {'hour': 20, 'occupancyPercent': 86}, {'hour': 21, 'occupancyPercent': 74}, {'hour': 22, 'occupancyPercent': 53}, {'hour': 23, 'occupancyPercent': 32}], 'Sa': [{'hour': 6, 'occupancyPercent': 0}, {'hour': 7, 'occupancyPercent': 0}, {'hour': 8, 'occupancyPercent': 0}, {'hour': 9, 'occupancyPercent': 0}, {'hour': 10, 'occupancyPercent': 0}, {'hour': 11, 'occupancyPercent': 0}, {'hour': 12, 'occupancyPercent': 0}, {'hour': 13, 'occupancyPercent': 0}, {'hour': 14, 'occupancyPercent': 0}, {'hour': 15, 'occupancyPercent': 0}, {'hour': 16, 'occupancyPercent': 0}, {'hour': 17, 'occupancyPercent': 42}, {'hour': 18, 'occupancyPercent': 67}, {'hour': 19, 'occupancyPercent': 91}, {'hour': 20, 'occupancyPercent': 100}, {'hour': 21, 'occupancyPercent': 88}, {'hour': 22, 'occupancyPercent': 64}, {'hour': 23, 'occupancyPercent': 38}]}, 'openingHours': [{'day': 'Thứ Tư', 'hours': '17:30 to 00:00'}, {'day': 'Thứ Năm', 'hours': '17:30 to 00:00'}, {'day': 'Thứ Sáu', 'hours': '17:30 to 00:00'}, {'day': 'Thứ Bảy', 'hours': '17:30 to 00:00'}, {'day': 'Chủ Nhật', 'hours': '17:30 to 00:00'}, {'day': 'Thứ Hai', 'hours': '17:30 to 00:00'}, {'day': 'Thứ Ba', 'hours': '17:30 to 00:00'}], 'peopleAlsoSearch': [{'category': 'Mọi người cũng tìm kiếm', 'title': 'Bùng Binh Chợ Đà Lạt - Chợ Đêm Đà Lạt - Chợ Đà Lạt', 'reviewsCount': 170, 'totalScore': 4.3}, {'category': 'Mọi người cũng tìm kiếm', 'title': 'Chợ đà lạt', 'reviewsCount': 764, 'totalScore': 4.5}, {'category': 'Mọi người cũng tìm kiếm', 'title': 'Thúy ốc đêm', 'reviewsCount': 32, 'totalScore': 4.8}, {'category': 'Mọi người cũng tìm kiếm', 'title': 'Du lịch Đà Lạt', 'reviewsCount': 3, 'totalScore': 4}, {'category': 'Mọi người cũng tìm kiếm', 'title': 'Cầu Thang Chợ Đêm', 'reviewsCount': 29, 'totalScore': 4.1}], 'placesTags': [{'title': 'Thực phẩm và đồ uống', 'count': 4}, {'title': 'Mua sắm', 'count': 3}, {'title': 'Giải trí', 'count': 1}, {'title': 'Nơi lưu trú', 'count': 1}], 'reviewsTags': [], 'additionalInfo': {'Các tùy chọn dịch vụ': [{'Dịch vụ tại chỗ': True}], 'Phù hợp cho người khuyết tật': [{'Nhà vệ sinh cho xe lăn': True}], 'Tiện nghi': [{'Nhà vệ sinh': True}], 'Thanh toán': [{'Thanh toán di động qua NFC': True}], 'Trẻ em': [{'Phù hợp cho trẻ em': True}]}, 'gasPrices': [], 'questionsAndAnswers': [{'question': 'Cho mình Xin sdt 1 quầy bán hàng ở chợ đêm với ah mình gửi đồ ', 'answers': [{'answer': 'Phong cảnh đẹp như một bức tranh, sống động và đẹp tuyệt vời,khu vực chợ phục vụ khách hàng chu đáo và nhiệt tình', 'answeredBy': {}}], 'askDate': '3 năm trước', 'askedBy': {}}], 'updatesFromCustomers': {'text': 'Mình thấy ngon mà giá hợp lý nữa 🥰\\nMua gì ai cũng tư vấn thiệt tình, lúc đầu đi cứ sợ bị hét giá mà không có nha 😋', 'language': 'vi', 'postDate': '2 tháng trước', 'postedBy': {'name': 'HỒ THANH NGUYÊN', 'url': 'https://www.google.com/maps/contrib/108566293848340523617?hl=vi', 'title': 'Local Guide', 'totalReviews': 40}, 'media': [{'link': 'https://lh3.googleusercontent.com/geougc-cs/AB3l90BL0NoMxpC7gH04WsVgO1trmuQkI-vuZWmt7xw2adkEM_E25oEbPZrSabNoWXY0335a5yd0jpqIknouwB74Lt2vb_ZS4sBeOLjQCB1yNxC_KmPAdhwJ1jEvpjb6mXeEvs9tbb8NtQ', 'postDate': '2 tháng trước'}]}, 'url': 'https://www.google.com/maps/search/?api=1&query=Ch%E1%BB%A3%20%C4%90%C3%AAm%20%C4%90%C3%A0%20L%E1%BA%A1t&query_place_id=ChIJw-dBTv8TcTERPCSnIa35zyE', 'searchPageUrl': 'https://www.google.com/maps/search/ch%E1%BB%A3%20%C4%90%C3%AAm%20%C4%90%C3%A0%20L%E1%BA%A1t/@11.84060401017608,108.31742011639005,13z?hl=vi', 'searchString': 'chợ Đêm Đà Lạt', 'language': 'vi', 'rank': 1, 'isAdvertisement': False, 'imageUrl': 'https://lh3.googleusercontent.com/gps-cs-s/AC9h4noYODw0bwM2nM1Nn_L5D_oRowYLIfEKvGPBvQwhMybMmr4JgrRmDX9T9Af7lsqnJXpDYlQi2srEMAziv4tk3edHn8IlCtX-rYtMUSjHz4qsRX3ZYlZQrDC5XD9DNOUCawGzx9gt=w426-h240-k-no', 'kgmid': '/g/11hylzhqyv', 'subTitle': None, 'website': None, 'locatedIn': None, 'menu': None, 'reserveTableUrl': None, 'hotelStars': None, 'hotelDescription': None, 'checkInDate': None, 'checkOutDate': None, 'similarHotelsNearby': None, 'hotelReviewSummary': None, 'popularTimesLiveText': None, 'popularTimesLivePercent': None, 'additionalOpeningHours': None, 'openingHoursBusinessConfirmationText': None, 'userPlaceNote': None, 'webResults': [], 'tableReservationLinks': [], 'bookingLinks': [], 'orderBy': [], 'restaurantData': {'tableReservationProvider': None}, 'ownerUpdates': [], 'imageUrls': [], 'images': None, 'reviews': [{'reviewerId': None, 'reviewerUrl': None, 'name': None, 'reviewerNumberOfReviews': 0, 'isLocalGuide': False, 'reviewerPhotoUrl': None, 'text': None, 'textTranslated': None, 'publishAt': '5 giờ trước', 'publishedAtDate': '2025-07-01T17:31:28.194Z', 'likesCount': 0, 'reviewId': None, 'reviewUrl': None, 'reviewOrigin': 'Google', 'stars': 4, 'rating': None, 'responseFromOwnerDate': None, 'responseFromOwnerText': None, 'reviewImageUrls': [], 'reviewContext': {}, 'reviewDetailedRating': {}, 'visitedIn': None, 'originalLanguage': None, 'translatedLanguage': None}, {'reviewerId': None, 'reviewerUrl': None, 'name': None, 'reviewerNumberOfReviews': 10, 'isLocalGuide': True, 'reviewerPhotoUrl': None, 'text': 'Cái chợ tôi đi hằng ngày.', 'textTranslated': None, 'publishAt': '6 giờ trước', 'publishedAtDate': '2025-07-01T16:46:37.873Z', 'likesCount': 0, 'reviewId': None, 'reviewUrl': None, 'reviewOrigin': 'Google', 'stars': 5, 'rating': None, 'responseFromOwnerDate': None, 'responseFromOwnerText': None, 'reviewImageUrls': [], 'reviewContext': {}, 'reviewDetailedRating': {}, 'visitedIn': None, 'originalLanguage': 'vi', 'translatedLanguage': None}, {'reviewerId': None, 'reviewerUrl': None, 'name': None, 'reviewerNumberOfReviews': 4, 'isLocalGuide': True, 'reviewerPhotoUrl': None, 'text': 'Rất bình thường mà đônv', 'textTranslated': None, 'publishAt': '6 giờ trước', 'publishedAtDate': '2025-07-01T16:42:23.496Z', 'likesCount': 0, 'reviewId': None, 'reviewUrl': None, 'reviewOrigin': 'Google', 'stars': 3, 'rating': None, 'responseFromOwnerDate': None, 'responseFromOwnerText': None, 'reviewImageUrls': [], 'reviewContext': {}, 'reviewDetailedRating': {}, 'visitedIn': None, 'originalLanguage': 'vi', 'translatedLanguage': None}, {'reviewerId': None, 'reviewerUrl': None, 'name': None, 'reviewerNumberOfReviews': 3, 'isLocalGuide': True, 'reviewerPhotoUrl': None, 'text': None, 'textTranslated': None, 'publishAt': '8 giờ trước', 'publishedAtDate': '2025-07-01T14:26:24.600Z', 'likesCount': 0, 'reviewId': None, 'reviewUrl': None, 'reviewOrigin': 'Google', 'stars': 5, 'rating': None, 'responseFromOwnerDate': None, 'responseFromOwnerText': None, 'reviewImageUrls': [], 'reviewContext': {}, 'reviewDetailedRating': {}, 'visitedIn': None, 'originalLanguage': None, 'translatedLanguage': None}, {'reviewerId': None, 'reviewerUrl': None, 'name': None, 'reviewerNumberOfReviews': 1, 'isLocalGuide': False, 'reviewerPhotoUrl': None, 'text': None, 'textTranslated': None, 'publishAt': '11 giờ trước', 'publishedAtDate': '2025-07-01T12:09:50.452Z', 'likesCount': 0, 'reviewId': None, 'reviewUrl': None, 'reviewOrigin': 'Google', 'stars': 5, 'rating': None, 'responseFromOwnerDate': None, 'responseFromOwnerText': None, 'reviewImageUrls': [], 'reviewContext': {}, 'reviewDetailedRating': {}, 'visitedIn': None, 'originalLanguage': None, 'translatedLanguage': None}, {'reviewerId': None, 'reviewerUrl': None, 'name': None, 'reviewerNumberOfReviews': 16, 'isLocalGuide': True, 'reviewerPhotoUrl': None, 'text': None, 'textTranslated': None, 'publishAt': '11 giờ trước', 'publishedAtDate': '2025-07-01T11:29:57.497Z', 'likesCount': 0, 'reviewId': None, 'reviewUrl': None, 'reviewOrigin': 'Google', 'stars': 3, 'rating': None, 'responseFromOwnerDate': None, 'responseFromOwnerText': None, 'reviewImageUrls': [], 'reviewContext': {}, 'reviewDetailedRating': {}, 'visitedIn': None, 'originalLanguage': None, 'translatedLanguage': None}, {'reviewerId': None, 'reviewerUrl': None, 'name': None, 'reviewerNumberOfReviews': 1, 'isLocalGuide': True, 'reviewerPhotoUrl': None, 'text': None, 'textTranslated': None, 'publishAt': '13 giờ trước', 'publishedAtDate': '2025-07-01T10:18:05.005Z', 'likesCount': 0, 'reviewId': None, 'reviewUrl': None, 'reviewOrigin': 'Google', 'stars': 4, 'rating': None, 'responseFromOwnerDate': None, 'responseFromOwnerText': None, 'reviewImageUrls': [], 'reviewContext': {}, 'reviewDetailedRating': {}, 'visitedIn': None, 'originalLanguage': None, 'translatedLanguage': None}, {'reviewerId': None, 'reviewerUrl': None, 'name': None, 'reviewerNumberOfReviews': 6, 'isLocalGuide': True, 'reviewerPhotoUrl': None, 'text': 'Đông vui. Điểm trừ là ko có toilet công cộng và đồ ăn hơi mất vệ sinh. Một số người còn chặt chém nữa', 'textTranslated': None, 'publishAt': '13 giờ trước', 'publishedAtDate': '2025-07-01T09:19:16.891Z', 'likesCount': 0, 'reviewId': None, 'reviewUrl': None, 'reviewOrigin': 'Google', 'stars': 4, 'rating': None, 'responseFromOwnerDate': None, 'responseFromOwnerText': None, 'reviewImageUrls': [], 'reviewContext': {}, 'reviewDetailedRating': {}, 'visitedIn': None, 'originalLanguage': 'vi', 'translatedLanguage': None}, {'reviewerId': None, 'reviewerUrl': None, 'name': None, 'reviewerNumberOfReviews': 1, 'isLocalGuide': False, 'reviewerPhotoUrl': None, 'text': None, 'textTranslated': None, 'publishAt': '18 giờ trước', 'publishedAtDate': '2025-07-01T04:25:32.871Z', 'likesCount': 0, 'reviewId': None, 'reviewUrl': None, 'reviewOrigin': 'Google', 'stars': 5, 'rating': None, 'responseFromOwnerDate': None, 'responseFromOwnerText': None, 'reviewImageUrls': [], 'reviewContext': {}, 'reviewDetailedRating': {}, 'visitedIn': None, 'originalLanguage': None, 'translatedLanguage': None}, {'reviewerId': None, 'reviewerUrl': None, 'name': None, 'reviewerNumberOfReviews': 0, 'isLocalGuide': False, 'reviewerPhotoUrl': None, 'text': None, 'textTranslated': None, 'publishAt': '19 giờ trước', 'publishedAtDate': '2025-07-01T04:08:07.526Z', 'likesCount': 0, 'reviewId': None, 'reviewUrl': None, 'reviewOrigin': 'Google', 'stars': 5, 'rating': None, 'responseFromOwnerDate': None, 'responseFromOwnerText': None, 'reviewImageUrls': [], 'reviewContext': {}, 'reviewDetailedRating': {}, 'visitedIn': None, 'originalLanguage': None, 'translatedLanguage': None}], 'leadsEnrichment': []}\n",
      "Chợ Đêm Đà Lạt\n",
      "https://www.google.com/maps/search/?api=1&query=Ch%E1%BB%A3%20%C4%90%C3%AAm%20%C4%90%C3%A0%20L%E1%BA%A1t&query_place_id=ChIJw-dBTv8TcTERPCSnIa35zyE\n"
     ]
    }
   ],
   "source": [
    "for item in client.dataset(run[\"defaultDatasetId\"]).iterate_items():\n",
    "    print(f'item: {item}')\n",
    "    place_title = item.get(\"title\", \"\")\n",
    "    url = item.get(\"url\", [])\n",
    "    print(place_title)\n",
    "    print(url)"
   ]
  },
  {
   "cell_type": "code",
   "execution_count": null,
   "id": "30a77740",
   "metadata": {},
   "outputs": [],
   "source": []
  }
 ],
 "metadata": {
  "kernelspec": {
   "display_name": "bigdata_env",
   "language": "python",
   "name": "python3"
  },
  "language_info": {
   "codemirror_mode": {
    "name": "ipython",
    "version": 3
   },
   "file_extension": ".py",
   "mimetype": "text/x-python",
   "name": "python",
   "nbconvert_exporter": "python",
   "pygments_lexer": "ipython3",
   "version": "3.10.18"
  }
 },
 "nbformat": 4,
 "nbformat_minor": 5
}
